{
 "cells": [
  {
   "cell_type": "code",
   "execution_count": 1,
   "id": "e8e1c056",
   "metadata": {},
   "outputs": [],
   "source": [
    "import pandas as pd\n",
    "import numpy as np\n",
    "\n",
    "\n",
    "# for Modelling\n",
    "from sklearn.preprocessing import MinMaxScaler\n",
    "from tensorflow.keras.models import Sequential\n",
    "from tensorflow.keras.layers import SimpleRNN, GRU, LSTM, Dense\n",
    "\n",
    "from tensorflow.keras.models import load_model\n",
    "\n",
    "# for Evaluation\n",
    "from sklearn.metrics import r2_score, mean_absolute_error, mean_squared_error\n",
    "from sklearn.metrics import mean_absolute_error, r2_score\n",
    "\n",
    "from sklearn.metrics import mean_absolute_percentage_error\n"
   ]
  },
  {
   "cell_type": "code",
   "execution_count": null,
   "id": "819655ed",
   "metadata": {},
   "outputs": [],
   "source": []
  },
  {
   "cell_type": "code",
   "execution_count": 2,
   "id": "df2bade6",
   "metadata": {},
   "outputs": [
    {
     "data": {
      "text/html": [
       "<div>\n",
       "<style scoped>\n",
       "    .dataframe tbody tr th:only-of-type {\n",
       "        vertical-align: middle;\n",
       "    }\n",
       "\n",
       "    .dataframe tbody tr th {\n",
       "        vertical-align: top;\n",
       "    }\n",
       "\n",
       "    .dataframe thead th {\n",
       "        text-align: right;\n",
       "    }\n",
       "</style>\n",
       "<table border=\"1\" class=\"dataframe\">\n",
       "  <thead>\n",
       "    <tr style=\"text-align: right;\">\n",
       "      <th></th>\n",
       "      <th>Time id</th>\n",
       "      <th>Material</th>\n",
       "      <th>Quantity</th>\n",
       "      <th>Total_Value</th>\n",
       "      <th>Material_Id</th>\n",
       "    </tr>\n",
       "  </thead>\n",
       "  <tbody>\n",
       "    <tr>\n",
       "      <th>0</th>\n",
       "      <td>1</td>\n",
       "      <td>C24-100504</td>\n",
       "      <td>3.0</td>\n",
       "      <td>38991.70</td>\n",
       "      <td>1311</td>\n",
       "    </tr>\n",
       "    <tr>\n",
       "      <th>1</th>\n",
       "      <td>1</td>\n",
       "      <td>C24-700110</td>\n",
       "      <td>28.0</td>\n",
       "      <td>60159.68</td>\n",
       "      <td>1421</td>\n",
       "    </tr>\n",
       "    <tr>\n",
       "      <th>2</th>\n",
       "      <td>1</td>\n",
       "      <td>C29-700105</td>\n",
       "      <td>2.0</td>\n",
       "      <td>28757.51</td>\n",
       "      <td>1610</td>\n",
       "    </tr>\n",
       "    <tr>\n",
       "      <th>3</th>\n",
       "      <td>1</td>\n",
       "      <td>C37-500419</td>\n",
       "      <td>4.0</td>\n",
       "      <td>51712.67</td>\n",
       "      <td>1755</td>\n",
       "    </tr>\n",
       "    <tr>\n",
       "      <th>4</th>\n",
       "      <td>1</td>\n",
       "      <td>C87-200404</td>\n",
       "      <td>3.0</td>\n",
       "      <td>146492.80</td>\n",
       "      <td>4756</td>\n",
       "    </tr>\n",
       "    <tr>\n",
       "      <th>...</th>\n",
       "      <td>...</td>\n",
       "      <td>...</td>\n",
       "      <td>...</td>\n",
       "      <td>...</td>\n",
       "      <td>...</td>\n",
       "    </tr>\n",
       "    <tr>\n",
       "      <th>382</th>\n",
       "      <td>38</td>\n",
       "      <td>S06-010053</td>\n",
       "      <td>9.0</td>\n",
       "      <td>73800.00</td>\n",
       "      <td>6464</td>\n",
       "    </tr>\n",
       "    <tr>\n",
       "      <th>383</th>\n",
       "      <td>38</td>\n",
       "      <td>S10-020027</td>\n",
       "      <td>116.0</td>\n",
       "      <td>75397.39</td>\n",
       "      <td>7263</td>\n",
       "    </tr>\n",
       "    <tr>\n",
       "      <th>384</th>\n",
       "      <td>38</td>\n",
       "      <td>S23-170301</td>\n",
       "      <td>111.0</td>\n",
       "      <td>120978.90</td>\n",
       "      <td>30765</td>\n",
       "    </tr>\n",
       "    <tr>\n",
       "      <th>385</th>\n",
       "      <td>38</td>\n",
       "      <td>S23-240014</td>\n",
       "      <td>150.0</td>\n",
       "      <td>82446.74</td>\n",
       "      <td>8710</td>\n",
       "    </tr>\n",
       "    <tr>\n",
       "      <th>386</th>\n",
       "      <td>39</td>\n",
       "      <td>CB-LS01-0700</td>\n",
       "      <td>3.0</td>\n",
       "      <td>1917.00</td>\n",
       "      <td>25056</td>\n",
       "    </tr>\n",
       "  </tbody>\n",
       "</table>\n",
       "<p>387 rows × 5 columns</p>\n",
       "</div>"
      ],
      "text/plain": [
       "     Time id      Material  Quantity  Total_Value  Material_Id\n",
       "0          1    C24-100504       3.0     38991.70         1311\n",
       "1          1    C24-700110      28.0     60159.68         1421\n",
       "2          1    C29-700105       2.0     28757.51         1610\n",
       "3          1    C37-500419       4.0     51712.67         1755\n",
       "4          1    C87-200404       3.0    146492.80         4756\n",
       "..       ...           ...       ...          ...          ...\n",
       "382       38    S06-010053       9.0     73800.00         6464\n",
       "383       38    S10-020027     116.0     75397.39         7263\n",
       "384       38    S23-170301     111.0    120978.90        30765\n",
       "385       38    S23-240014     150.0     82446.74         8710\n",
       "386       39  CB-LS01-0700       3.0      1917.00        25056\n",
       "\n",
       "[387 rows x 5 columns]"
      ]
     },
     "execution_count": 2,
     "metadata": {},
     "output_type": "execute_result"
    }
   ],
   "source": [
    "df= pd.read_csv('by_t1.csv')\n",
    "df"
   ]
  },
  {
   "cell_type": "code",
   "execution_count": null,
   "id": "baf753a7",
   "metadata": {},
   "outputs": [],
   "source": []
  },
  {
   "cell_type": "code",
   "execution_count": 3,
   "id": "1a018864",
   "metadata": {},
   "outputs": [
    {
     "name": "stdout",
     "output_type": "stream",
     "text": [
      "Forecasting for Material ID: 1311\n",
      "Forecasting with SimpleRNN model for Material ID: 1311\n"
     ]
    },
    {
     "name": "stderr",
     "output_type": "stream",
     "text": [
      "C:\\Users\\sohan\\anaconda3\\lib\\site-packages\\keras\\src\\layers\\rnn\\rnn.py:205: UserWarning: Do not pass an `input_shape`/`input_dim` argument to a layer. When using Sequential models, prefer using an `Input(shape)` object as the first layer in the model instead.\n",
      "  super().__init__(**kwargs)\n"
     ]
    },
    {
     "name": "stdout",
     "output_type": "stream",
     "text": [
      "\u001b[1m1/1\u001b[0m \u001b[32m━━━━━━━━━━━━━━━━━━━━\u001b[0m\u001b[37m\u001b[0m \u001b[1m0s\u001b[0m 146ms/step\n",
      "Forecasting with GRU model for Material ID: 1311\n"
     ]
    },
    {
     "name": "stderr",
     "output_type": "stream",
     "text": [
      "C:\\Users\\sohan\\AppData\\Local\\Temp\\ipykernel_22396\\1613537058.py:73: FutureWarning: The frame.append method is deprecated and will be removed from pandas in a future version. Use pandas.concat instead.\n",
      "  forecast_df = forecast_df.append({\n",
      "C:\\Users\\sohan\\anaconda3\\lib\\site-packages\\keras\\src\\layers\\rnn\\rnn.py:205: UserWarning: Do not pass an `input_shape`/`input_dim` argument to a layer. When using Sequential models, prefer using an `Input(shape)` object as the first layer in the model instead.\n",
      "  super().__init__(**kwargs)\n"
     ]
    },
    {
     "name": "stdout",
     "output_type": "stream",
     "text": [
      "\u001b[1m1/1\u001b[0m \u001b[32m━━━━━━━━━━━━━━━━━━━━\u001b[0m\u001b[37m\u001b[0m \u001b[1m0s\u001b[0m 215ms/step\n",
      "Forecasting with LSTM model for Material ID: 1311\n"
     ]
    },
    {
     "name": "stderr",
     "output_type": "stream",
     "text": [
      "C:\\Users\\sohan\\AppData\\Local\\Temp\\ipykernel_22396\\1613537058.py:73: FutureWarning: The frame.append method is deprecated and will be removed from pandas in a future version. Use pandas.concat instead.\n",
      "  forecast_df = forecast_df.append({\n",
      "C:\\Users\\sohan\\anaconda3\\lib\\site-packages\\keras\\src\\layers\\rnn\\rnn.py:205: UserWarning: Do not pass an `input_shape`/`input_dim` argument to a layer. When using Sequential models, prefer using an `Input(shape)` object as the first layer in the model instead.\n",
      "  super().__init__(**kwargs)\n"
     ]
    },
    {
     "name": "stdout",
     "output_type": "stream",
     "text": [
      "\u001b[1m1/1\u001b[0m \u001b[32m━━━━━━━━━━━━━━━━━━━━\u001b[0m\u001b[37m\u001b[0m \u001b[1m0s\u001b[0m 155ms/step\n",
      "Forecasting for Material ID: 1421\n",
      "Forecasting with SimpleRNN model for Material ID: 1421\n"
     ]
    },
    {
     "name": "stderr",
     "output_type": "stream",
     "text": [
      "C:\\Users\\sohan\\AppData\\Local\\Temp\\ipykernel_22396\\1613537058.py:73: FutureWarning: The frame.append method is deprecated and will be removed from pandas in a future version. Use pandas.concat instead.\n",
      "  forecast_df = forecast_df.append({\n",
      "C:\\Users\\sohan\\anaconda3\\lib\\site-packages\\keras\\src\\layers\\rnn\\rnn.py:205: UserWarning: Do not pass an `input_shape`/`input_dim` argument to a layer. When using Sequential models, prefer using an `Input(shape)` object as the first layer in the model instead.\n",
      "  super().__init__(**kwargs)\n"
     ]
    },
    {
     "name": "stdout",
     "output_type": "stream",
     "text": [
      "\u001b[1m1/1\u001b[0m \u001b[32m━━━━━━━━━━━━━━━━━━━━\u001b[0m\u001b[37m\u001b[0m \u001b[1m0s\u001b[0m 147ms/step\n",
      "Forecasting with GRU model for Material ID: 1421\n"
     ]
    },
    {
     "name": "stderr",
     "output_type": "stream",
     "text": [
      "C:\\Users\\sohan\\AppData\\Local\\Temp\\ipykernel_22396\\1613537058.py:73: FutureWarning: The frame.append method is deprecated and will be removed from pandas in a future version. Use pandas.concat instead.\n",
      "  forecast_df = forecast_df.append({\n",
      "C:\\Users\\sohan\\anaconda3\\lib\\site-packages\\keras\\src\\layers\\rnn\\rnn.py:205: UserWarning: Do not pass an `input_shape`/`input_dim` argument to a layer. When using Sequential models, prefer using an `Input(shape)` object as the first layer in the model instead.\n",
      "  super().__init__(**kwargs)\n"
     ]
    },
    {
     "name": "stdout",
     "output_type": "stream",
     "text": [
      "WARNING:tensorflow:5 out of the last 5 calls to <function TensorFlowTrainer.make_predict_function.<locals>.one_step_on_data_distributed at 0x000001FBA115D900> triggered tf.function retracing. Tracing is expensive and the excessive number of tracings could be due to (1) creating @tf.function repeatedly in a loop, (2) passing tensors with different shapes, (3) passing Python objects instead of tensors. For (1), please define your @tf.function outside of the loop. For (2), @tf.function has reduce_retracing=True option that can avoid unnecessary retracing. For (3), please refer to https://www.tensorflow.org/guide/function#controlling_retracing and https://www.tensorflow.org/api_docs/python/tf/function for  more details.\n",
      "\u001b[1m1/1\u001b[0m \u001b[32m━━━━━━━━━━━━━━━━━━━━\u001b[0m\u001b[37m\u001b[0m \u001b[1m0s\u001b[0m 182ms/step\n",
      "Forecasting with LSTM model for Material ID: 1421\n"
     ]
    },
    {
     "name": "stderr",
     "output_type": "stream",
     "text": [
      "C:\\Users\\sohan\\AppData\\Local\\Temp\\ipykernel_22396\\1613537058.py:73: FutureWarning: The frame.append method is deprecated and will be removed from pandas in a future version. Use pandas.concat instead.\n",
      "  forecast_df = forecast_df.append({\n",
      "C:\\Users\\sohan\\anaconda3\\lib\\site-packages\\keras\\src\\layers\\rnn\\rnn.py:205: UserWarning: Do not pass an `input_shape`/`input_dim` argument to a layer. When using Sequential models, prefer using an `Input(shape)` object as the first layer in the model instead.\n",
      "  super().__init__(**kwargs)\n"
     ]
    },
    {
     "name": "stdout",
     "output_type": "stream",
     "text": [
      "WARNING:tensorflow:6 out of the last 6 calls to <function TensorFlowTrainer.make_predict_function.<locals>.one_step_on_data_distributed at 0x000001FB9E559000> triggered tf.function retracing. Tracing is expensive and the excessive number of tracings could be due to (1) creating @tf.function repeatedly in a loop, (2) passing tensors with different shapes, (3) passing Python objects instead of tensors. For (1), please define your @tf.function outside of the loop. For (2), @tf.function has reduce_retracing=True option that can avoid unnecessary retracing. For (3), please refer to https://www.tensorflow.org/guide/function#controlling_retracing and https://www.tensorflow.org/api_docs/python/tf/function for  more details.\n",
      "\u001b[1m1/1\u001b[0m \u001b[32m━━━━━━━━━━━━━━━━━━━━\u001b[0m\u001b[37m\u001b[0m \u001b[1m0s\u001b[0m 134ms/step\n",
      "Forecasting for Material ID: 1610\n",
      "Forecasting with SimpleRNN model for Material ID: 1610\n"
     ]
    },
    {
     "name": "stderr",
     "output_type": "stream",
     "text": [
      "C:\\Users\\sohan\\AppData\\Local\\Temp\\ipykernel_22396\\1613537058.py:73: FutureWarning: The frame.append method is deprecated and will be removed from pandas in a future version. Use pandas.concat instead.\n",
      "  forecast_df = forecast_df.append({\n",
      "C:\\Users\\sohan\\anaconda3\\lib\\site-packages\\keras\\src\\layers\\rnn\\rnn.py:205: UserWarning: Do not pass an `input_shape`/`input_dim` argument to a layer. When using Sequential models, prefer using an `Input(shape)` object as the first layer in the model instead.\n",
      "  super().__init__(**kwargs)\n"
     ]
    },
    {
     "name": "stdout",
     "output_type": "stream",
     "text": [
      "\u001b[1m1/1\u001b[0m \u001b[32m━━━━━━━━━━━━━━━━━━━━\u001b[0m\u001b[37m\u001b[0m \u001b[1m0s\u001b[0m 127ms/step\n",
      "Forecasting with GRU model for Material ID: 1610\n"
     ]
    },
    {
     "name": "stderr",
     "output_type": "stream",
     "text": [
      "C:\\Users\\sohan\\AppData\\Local\\Temp\\ipykernel_22396\\1613537058.py:73: FutureWarning: The frame.append method is deprecated and will be removed from pandas in a future version. Use pandas.concat instead.\n",
      "  forecast_df = forecast_df.append({\n",
      "C:\\Users\\sohan\\anaconda3\\lib\\site-packages\\keras\\src\\layers\\rnn\\rnn.py:205: UserWarning: Do not pass an `input_shape`/`input_dim` argument to a layer. When using Sequential models, prefer using an `Input(shape)` object as the first layer in the model instead.\n",
      "  super().__init__(**kwargs)\n"
     ]
    },
    {
     "name": "stdout",
     "output_type": "stream",
     "text": [
      "\u001b[1m1/1\u001b[0m \u001b[32m━━━━━━━━━━━━━━━━━━━━\u001b[0m\u001b[37m\u001b[0m \u001b[1m0s\u001b[0m 168ms/step\n",
      "Forecasting with LSTM model for Material ID: 1610\n"
     ]
    },
    {
     "name": "stderr",
     "output_type": "stream",
     "text": [
      "C:\\Users\\sohan\\AppData\\Local\\Temp\\ipykernel_22396\\1613537058.py:73: FutureWarning: The frame.append method is deprecated and will be removed from pandas in a future version. Use pandas.concat instead.\n",
      "  forecast_df = forecast_df.append({\n",
      "C:\\Users\\sohan\\anaconda3\\lib\\site-packages\\keras\\src\\layers\\rnn\\rnn.py:205: UserWarning: Do not pass an `input_shape`/`input_dim` argument to a layer. When using Sequential models, prefer using an `Input(shape)` object as the first layer in the model instead.\n",
      "  super().__init__(**kwargs)\n"
     ]
    },
    {
     "name": "stdout",
     "output_type": "stream",
     "text": [
      "\u001b[1m1/1\u001b[0m \u001b[32m━━━━━━━━━━━━━━━━━━━━\u001b[0m\u001b[37m\u001b[0m \u001b[1m0s\u001b[0m 171ms/step\n",
      "Forecasting for Material ID: 1755\n",
      "Forecasting with SimpleRNN model for Material ID: 1755\n"
     ]
    },
    {
     "name": "stderr",
     "output_type": "stream",
     "text": [
      "C:\\Users\\sohan\\AppData\\Local\\Temp\\ipykernel_22396\\1613537058.py:73: FutureWarning: The frame.append method is deprecated and will be removed from pandas in a future version. Use pandas.concat instead.\n",
      "  forecast_df = forecast_df.append({\n",
      "C:\\Users\\sohan\\anaconda3\\lib\\site-packages\\keras\\src\\layers\\rnn\\rnn.py:205: UserWarning: Do not pass an `input_shape`/`input_dim` argument to a layer. When using Sequential models, prefer using an `Input(shape)` object as the first layer in the model instead.\n",
      "  super().__init__(**kwargs)\n"
     ]
    },
    {
     "name": "stdout",
     "output_type": "stream",
     "text": [
      "\u001b[1m1/1\u001b[0m \u001b[32m━━━━━━━━━━━━━━━━━━━━\u001b[0m\u001b[37m\u001b[0m \u001b[1m0s\u001b[0m 154ms/step\n",
      "Forecasting with GRU model for Material ID: 1755\n"
     ]
    },
    {
     "name": "stderr",
     "output_type": "stream",
     "text": [
      "C:\\Users\\sohan\\AppData\\Local\\Temp\\ipykernel_22396\\1613537058.py:73: FutureWarning: The frame.append method is deprecated and will be removed from pandas in a future version. Use pandas.concat instead.\n",
      "  forecast_df = forecast_df.append({\n",
      "C:\\Users\\sohan\\anaconda3\\lib\\site-packages\\keras\\src\\layers\\rnn\\rnn.py:205: UserWarning: Do not pass an `input_shape`/`input_dim` argument to a layer. When using Sequential models, prefer using an `Input(shape)` object as the first layer in the model instead.\n",
      "  super().__init__(**kwargs)\n"
     ]
    },
    {
     "name": "stdout",
     "output_type": "stream",
     "text": [
      "\u001b[1m1/1\u001b[0m \u001b[32m━━━━━━━━━━━━━━━━━━━━\u001b[0m\u001b[37m\u001b[0m \u001b[1m0s\u001b[0m 155ms/step\n",
      "Forecasting with LSTM model for Material ID: 1755\n"
     ]
    },
    {
     "name": "stderr",
     "output_type": "stream",
     "text": [
      "C:\\Users\\sohan\\AppData\\Local\\Temp\\ipykernel_22396\\1613537058.py:73: FutureWarning: The frame.append method is deprecated and will be removed from pandas in a future version. Use pandas.concat instead.\n",
      "  forecast_df = forecast_df.append({\n",
      "C:\\Users\\sohan\\anaconda3\\lib\\site-packages\\keras\\src\\layers\\rnn\\rnn.py:205: UserWarning: Do not pass an `input_shape`/`input_dim` argument to a layer. When using Sequential models, prefer using an `Input(shape)` object as the first layer in the model instead.\n",
      "  super().__init__(**kwargs)\n"
     ]
    },
    {
     "name": "stdout",
     "output_type": "stream",
     "text": [
      "\u001b[1m1/1\u001b[0m \u001b[32m━━━━━━━━━━━━━━━━━━━━\u001b[0m\u001b[37m\u001b[0m \u001b[1m0s\u001b[0m 171ms/step\n",
      "Forecasting for Material ID: 4756\n",
      "Forecasting with SimpleRNN model for Material ID: 4756\n"
     ]
    },
    {
     "name": "stderr",
     "output_type": "stream",
     "text": [
      "C:\\Users\\sohan\\AppData\\Local\\Temp\\ipykernel_22396\\1613537058.py:73: FutureWarning: The frame.append method is deprecated and will be removed from pandas in a future version. Use pandas.concat instead.\n",
      "  forecast_df = forecast_df.append({\n",
      "C:\\Users\\sohan\\anaconda3\\lib\\site-packages\\keras\\src\\layers\\rnn\\rnn.py:205: UserWarning: Do not pass an `input_shape`/`input_dim` argument to a layer. When using Sequential models, prefer using an `Input(shape)` object as the first layer in the model instead.\n",
      "  super().__init__(**kwargs)\n"
     ]
    },
    {
     "name": "stdout",
     "output_type": "stream",
     "text": [
      "\u001b[1m1/1\u001b[0m \u001b[32m━━━━━━━━━━━━━━━━━━━━\u001b[0m\u001b[37m\u001b[0m \u001b[1m0s\u001b[0m 132ms/step\n",
      "Forecasting with GRU model for Material ID: 4756\n"
     ]
    },
    {
     "name": "stderr",
     "output_type": "stream",
     "text": [
      "C:\\Users\\sohan\\AppData\\Local\\Temp\\ipykernel_22396\\1613537058.py:73: FutureWarning: The frame.append method is deprecated and will be removed from pandas in a future version. Use pandas.concat instead.\n",
      "  forecast_df = forecast_df.append({\n",
      "C:\\Users\\sohan\\anaconda3\\lib\\site-packages\\keras\\src\\layers\\rnn\\rnn.py:205: UserWarning: Do not pass an `input_shape`/`input_dim` argument to a layer. When using Sequential models, prefer using an `Input(shape)` object as the first layer in the model instead.\n",
      "  super().__init__(**kwargs)\n"
     ]
    },
    {
     "name": "stdout",
     "output_type": "stream",
     "text": [
      "\u001b[1m1/1\u001b[0m \u001b[32m━━━━━━━━━━━━━━━━━━━━\u001b[0m\u001b[37m\u001b[0m \u001b[1m0s\u001b[0m 160ms/step\n",
      "Forecasting with LSTM model for Material ID: 4756\n"
     ]
    },
    {
     "name": "stderr",
     "output_type": "stream",
     "text": [
      "C:\\Users\\sohan\\AppData\\Local\\Temp\\ipykernel_22396\\1613537058.py:73: FutureWarning: The frame.append method is deprecated and will be removed from pandas in a future version. Use pandas.concat instead.\n",
      "  forecast_df = forecast_df.append({\n",
      "C:\\Users\\sohan\\anaconda3\\lib\\site-packages\\keras\\src\\layers\\rnn\\rnn.py:205: UserWarning: Do not pass an `input_shape`/`input_dim` argument to a layer. When using Sequential models, prefer using an `Input(shape)` object as the first layer in the model instead.\n",
      "  super().__init__(**kwargs)\n"
     ]
    },
    {
     "name": "stdout",
     "output_type": "stream",
     "text": [
      "\u001b[1m1/1\u001b[0m \u001b[32m━━━━━━━━━━━━━━━━━━━━\u001b[0m\u001b[37m\u001b[0m \u001b[1m0s\u001b[0m 129ms/step\n",
      "Forecasting for Material ID: 6345\n",
      "Forecasting with SimpleRNN model for Material ID: 6345\n"
     ]
    },
    {
     "name": "stderr",
     "output_type": "stream",
     "text": [
      "C:\\Users\\sohan\\AppData\\Local\\Temp\\ipykernel_22396\\1613537058.py:73: FutureWarning: The frame.append method is deprecated and will be removed from pandas in a future version. Use pandas.concat instead.\n",
      "  forecast_df = forecast_df.append({\n",
      "C:\\Users\\sohan\\anaconda3\\lib\\site-packages\\keras\\src\\layers\\rnn\\rnn.py:205: UserWarning: Do not pass an `input_shape`/`input_dim` argument to a layer. When using Sequential models, prefer using an `Input(shape)` object as the first layer in the model instead.\n",
      "  super().__init__(**kwargs)\n"
     ]
    },
    {
     "name": "stdout",
     "output_type": "stream",
     "text": [
      "\u001b[1m1/1\u001b[0m \u001b[32m━━━━━━━━━━━━━━━━━━━━\u001b[0m\u001b[37m\u001b[0m \u001b[1m0s\u001b[0m 167ms/step\n",
      "Forecasting with GRU model for Material ID: 6345\n"
     ]
    },
    {
     "name": "stderr",
     "output_type": "stream",
     "text": [
      "C:\\Users\\sohan\\AppData\\Local\\Temp\\ipykernel_22396\\1613537058.py:73: FutureWarning: The frame.append method is deprecated and will be removed from pandas in a future version. Use pandas.concat instead.\n",
      "  forecast_df = forecast_df.append({\n",
      "C:\\Users\\sohan\\anaconda3\\lib\\site-packages\\keras\\src\\layers\\rnn\\rnn.py:205: UserWarning: Do not pass an `input_shape`/`input_dim` argument to a layer. When using Sequential models, prefer using an `Input(shape)` object as the first layer in the model instead.\n",
      "  super().__init__(**kwargs)\n"
     ]
    },
    {
     "name": "stdout",
     "output_type": "stream",
     "text": [
      "\u001b[1m1/1\u001b[0m \u001b[32m━━━━━━━━━━━━━━━━━━━━\u001b[0m\u001b[37m\u001b[0m \u001b[1m0s\u001b[0m 158ms/step\n",
      "Forecasting with LSTM model for Material ID: 6345\n"
     ]
    },
    {
     "name": "stderr",
     "output_type": "stream",
     "text": [
      "C:\\Users\\sohan\\AppData\\Local\\Temp\\ipykernel_22396\\1613537058.py:73: FutureWarning: The frame.append method is deprecated and will be removed from pandas in a future version. Use pandas.concat instead.\n",
      "  forecast_df = forecast_df.append({\n",
      "C:\\Users\\sohan\\anaconda3\\lib\\site-packages\\keras\\src\\layers\\rnn\\rnn.py:205: UserWarning: Do not pass an `input_shape`/`input_dim` argument to a layer. When using Sequential models, prefer using an `Input(shape)` object as the first layer in the model instead.\n",
      "  super().__init__(**kwargs)\n"
     ]
    },
    {
     "name": "stdout",
     "output_type": "stream",
     "text": [
      "\u001b[1m1/1\u001b[0m \u001b[32m━━━━━━━━━━━━━━━━━━━━\u001b[0m\u001b[37m\u001b[0m \u001b[1m0s\u001b[0m 119ms/step\n",
      "Forecasting for Material ID: 6464\n",
      "Forecasting with SimpleRNN model for Material ID: 6464\n"
     ]
    },
    {
     "name": "stderr",
     "output_type": "stream",
     "text": [
      "C:\\Users\\sohan\\AppData\\Local\\Temp\\ipykernel_22396\\1613537058.py:73: FutureWarning: The frame.append method is deprecated and will be removed from pandas in a future version. Use pandas.concat instead.\n",
      "  forecast_df = forecast_df.append({\n",
      "C:\\Users\\sohan\\anaconda3\\lib\\site-packages\\keras\\src\\layers\\rnn\\rnn.py:205: UserWarning: Do not pass an `input_shape`/`input_dim` argument to a layer. When using Sequential models, prefer using an `Input(shape)` object as the first layer in the model instead.\n",
      "  super().__init__(**kwargs)\n"
     ]
    },
    {
     "name": "stdout",
     "output_type": "stream",
     "text": [
      "\u001b[1m1/1\u001b[0m \u001b[32m━━━━━━━━━━━━━━━━━━━━\u001b[0m\u001b[37m\u001b[0m \u001b[1m0s\u001b[0m 109ms/step\n",
      "Forecasting with GRU model for Material ID: 6464\n"
     ]
    },
    {
     "name": "stderr",
     "output_type": "stream",
     "text": [
      "C:\\Users\\sohan\\AppData\\Local\\Temp\\ipykernel_22396\\1613537058.py:73: FutureWarning: The frame.append method is deprecated and will be removed from pandas in a future version. Use pandas.concat instead.\n",
      "  forecast_df = forecast_df.append({\n",
      "C:\\Users\\sohan\\anaconda3\\lib\\site-packages\\keras\\src\\layers\\rnn\\rnn.py:205: UserWarning: Do not pass an `input_shape`/`input_dim` argument to a layer. When using Sequential models, prefer using an `Input(shape)` object as the first layer in the model instead.\n",
      "  super().__init__(**kwargs)\n"
     ]
    },
    {
     "name": "stdout",
     "output_type": "stream",
     "text": [
      "\u001b[1m1/1\u001b[0m \u001b[32m━━━━━━━━━━━━━━━━━━━━\u001b[0m\u001b[37m\u001b[0m \u001b[1m0s\u001b[0m 172ms/step\n",
      "Forecasting with LSTM model for Material ID: 6464\n"
     ]
    },
    {
     "name": "stderr",
     "output_type": "stream",
     "text": [
      "C:\\Users\\sohan\\AppData\\Local\\Temp\\ipykernel_22396\\1613537058.py:73: FutureWarning: The frame.append method is deprecated and will be removed from pandas in a future version. Use pandas.concat instead.\n",
      "  forecast_df = forecast_df.append({\n",
      "C:\\Users\\sohan\\anaconda3\\lib\\site-packages\\keras\\src\\layers\\rnn\\rnn.py:205: UserWarning: Do not pass an `input_shape`/`input_dim` argument to a layer. When using Sequential models, prefer using an `Input(shape)` object as the first layer in the model instead.\n",
      "  super().__init__(**kwargs)\n"
     ]
    },
    {
     "name": "stdout",
     "output_type": "stream",
     "text": [
      "\u001b[1m1/1\u001b[0m \u001b[32m━━━━━━━━━━━━━━━━━━━━\u001b[0m\u001b[37m\u001b[0m \u001b[1m0s\u001b[0m 142ms/step\n",
      "Forecasting for Material ID: 7263\n",
      "Forecasting with SimpleRNN model for Material ID: 7263\n"
     ]
    },
    {
     "name": "stderr",
     "output_type": "stream",
     "text": [
      "C:\\Users\\sohan\\AppData\\Local\\Temp\\ipykernel_22396\\1613537058.py:73: FutureWarning: The frame.append method is deprecated and will be removed from pandas in a future version. Use pandas.concat instead.\n",
      "  forecast_df = forecast_df.append({\n",
      "C:\\Users\\sohan\\anaconda3\\lib\\site-packages\\keras\\src\\layers\\rnn\\rnn.py:205: UserWarning: Do not pass an `input_shape`/`input_dim` argument to a layer. When using Sequential models, prefer using an `Input(shape)` object as the first layer in the model instead.\n",
      "  super().__init__(**kwargs)\n"
     ]
    },
    {
     "name": "stdout",
     "output_type": "stream",
     "text": [
      "\u001b[1m1/1\u001b[0m \u001b[32m━━━━━━━━━━━━━━━━━━━━\u001b[0m\u001b[37m\u001b[0m \u001b[1m0s\u001b[0m 116ms/step\n",
      "Forecasting with GRU model for Material ID: 7263\n"
     ]
    },
    {
     "name": "stderr",
     "output_type": "stream",
     "text": [
      "C:\\Users\\sohan\\AppData\\Local\\Temp\\ipykernel_22396\\1613537058.py:73: FutureWarning: The frame.append method is deprecated and will be removed from pandas in a future version. Use pandas.concat instead.\n",
      "  forecast_df = forecast_df.append({\n",
      "C:\\Users\\sohan\\anaconda3\\lib\\site-packages\\keras\\src\\layers\\rnn\\rnn.py:205: UserWarning: Do not pass an `input_shape`/`input_dim` argument to a layer. When using Sequential models, prefer using an `Input(shape)` object as the first layer in the model instead.\n",
      "  super().__init__(**kwargs)\n"
     ]
    },
    {
     "name": "stdout",
     "output_type": "stream",
     "text": [
      "\u001b[1m1/1\u001b[0m \u001b[32m━━━━━━━━━━━━━━━━━━━━\u001b[0m\u001b[37m\u001b[0m \u001b[1m0s\u001b[0m 154ms/step\n",
      "Forecasting with LSTM model for Material ID: 7263\n"
     ]
    },
    {
     "name": "stderr",
     "output_type": "stream",
     "text": [
      "C:\\Users\\sohan\\AppData\\Local\\Temp\\ipykernel_22396\\1613537058.py:73: FutureWarning: The frame.append method is deprecated and will be removed from pandas in a future version. Use pandas.concat instead.\n",
      "  forecast_df = forecast_df.append({\n",
      "C:\\Users\\sohan\\anaconda3\\lib\\site-packages\\keras\\src\\layers\\rnn\\rnn.py:205: UserWarning: Do not pass an `input_shape`/`input_dim` argument to a layer. When using Sequential models, prefer using an `Input(shape)` object as the first layer in the model instead.\n",
      "  super().__init__(**kwargs)\n"
     ]
    },
    {
     "name": "stdout",
     "output_type": "stream",
     "text": [
      "\u001b[1m1/1\u001b[0m \u001b[32m━━━━━━━━━━━━━━━━━━━━\u001b[0m\u001b[37m\u001b[0m \u001b[1m0s\u001b[0m 166ms/step\n",
      "Forecasting for Material ID: 8710\n",
      "Forecasting with SimpleRNN model for Material ID: 8710\n"
     ]
    },
    {
     "name": "stderr",
     "output_type": "stream",
     "text": [
      "C:\\Users\\sohan\\AppData\\Local\\Temp\\ipykernel_22396\\1613537058.py:73: FutureWarning: The frame.append method is deprecated and will be removed from pandas in a future version. Use pandas.concat instead.\n",
      "  forecast_df = forecast_df.append({\n",
      "C:\\Users\\sohan\\anaconda3\\lib\\site-packages\\keras\\src\\layers\\rnn\\rnn.py:205: UserWarning: Do not pass an `input_shape`/`input_dim` argument to a layer. When using Sequential models, prefer using an `Input(shape)` object as the first layer in the model instead.\n",
      "  super().__init__(**kwargs)\n"
     ]
    },
    {
     "name": "stdout",
     "output_type": "stream",
     "text": [
      "\u001b[1m1/1\u001b[0m \u001b[32m━━━━━━━━━━━━━━━━━━━━\u001b[0m\u001b[37m\u001b[0m \u001b[1m0s\u001b[0m 125ms/step\n",
      "Forecasting with GRU model for Material ID: 8710\n"
     ]
    },
    {
     "name": "stderr",
     "output_type": "stream",
     "text": [
      "C:\\Users\\sohan\\AppData\\Local\\Temp\\ipykernel_22396\\1613537058.py:73: FutureWarning: The frame.append method is deprecated and will be removed from pandas in a future version. Use pandas.concat instead.\n",
      "  forecast_df = forecast_df.append({\n",
      "C:\\Users\\sohan\\anaconda3\\lib\\site-packages\\keras\\src\\layers\\rnn\\rnn.py:205: UserWarning: Do not pass an `input_shape`/`input_dim` argument to a layer. When using Sequential models, prefer using an `Input(shape)` object as the first layer in the model instead.\n",
      "  super().__init__(**kwargs)\n"
     ]
    },
    {
     "name": "stdout",
     "output_type": "stream",
     "text": [
      "\u001b[1m1/1\u001b[0m \u001b[32m━━━━━━━━━━━━━━━━━━━━\u001b[0m\u001b[37m\u001b[0m \u001b[1m0s\u001b[0m 137ms/step\n",
      "Forecasting with LSTM model for Material ID: 8710\n"
     ]
    },
    {
     "name": "stderr",
     "output_type": "stream",
     "text": [
      "C:\\Users\\sohan\\AppData\\Local\\Temp\\ipykernel_22396\\1613537058.py:73: FutureWarning: The frame.append method is deprecated and will be removed from pandas in a future version. Use pandas.concat instead.\n",
      "  forecast_df = forecast_df.append({\n",
      "C:\\Users\\sohan\\anaconda3\\lib\\site-packages\\keras\\src\\layers\\rnn\\rnn.py:205: UserWarning: Do not pass an `input_shape`/`input_dim` argument to a layer. When using Sequential models, prefer using an `Input(shape)` object as the first layer in the model instead.\n",
      "  super().__init__(**kwargs)\n"
     ]
    },
    {
     "name": "stdout",
     "output_type": "stream",
     "text": [
      "\u001b[1m1/1\u001b[0m \u001b[32m━━━━━━━━━━━━━━━━━━━━\u001b[0m\u001b[37m\u001b[0m \u001b[1m0s\u001b[0m 154ms/step\n",
      "Forecasting for Material ID: 12481\n",
      "Forecasting with SimpleRNN model for Material ID: 12481\n"
     ]
    },
    {
     "name": "stderr",
     "output_type": "stream",
     "text": [
      "C:\\Users\\sohan\\AppData\\Local\\Temp\\ipykernel_22396\\1613537058.py:73: FutureWarning: The frame.append method is deprecated and will be removed from pandas in a future version. Use pandas.concat instead.\n",
      "  forecast_df = forecast_df.append({\n",
      "C:\\Users\\sohan\\anaconda3\\lib\\site-packages\\keras\\src\\layers\\rnn\\rnn.py:205: UserWarning: Do not pass an `input_shape`/`input_dim` argument to a layer. When using Sequential models, prefer using an `Input(shape)` object as the first layer in the model instead.\n",
      "  super().__init__(**kwargs)\n"
     ]
    },
    {
     "name": "stdout",
     "output_type": "stream",
     "text": [
      "\u001b[1m1/1\u001b[0m \u001b[32m━━━━━━━━━━━━━━━━━━━━\u001b[0m\u001b[37m\u001b[0m \u001b[1m0s\u001b[0m 122ms/step\n",
      "Forecasting with GRU model for Material ID: 12481\n"
     ]
    },
    {
     "name": "stderr",
     "output_type": "stream",
     "text": [
      "C:\\Users\\sohan\\AppData\\Local\\Temp\\ipykernel_22396\\1613537058.py:73: FutureWarning: The frame.append method is deprecated and will be removed from pandas in a future version. Use pandas.concat instead.\n",
      "  forecast_df = forecast_df.append({\n",
      "C:\\Users\\sohan\\anaconda3\\lib\\site-packages\\keras\\src\\layers\\rnn\\rnn.py:205: UserWarning: Do not pass an `input_shape`/`input_dim` argument to a layer. When using Sequential models, prefer using an `Input(shape)` object as the first layer in the model instead.\n",
      "  super().__init__(**kwargs)\n"
     ]
    },
    {
     "name": "stdout",
     "output_type": "stream",
     "text": [
      "\u001b[1m1/1\u001b[0m \u001b[32m━━━━━━━━━━━━━━━━━━━━\u001b[0m\u001b[37m\u001b[0m \u001b[1m0s\u001b[0m 148ms/step\n",
      "Forecasting with LSTM model for Material ID: 12481\n"
     ]
    },
    {
     "name": "stderr",
     "output_type": "stream",
     "text": [
      "C:\\Users\\sohan\\AppData\\Local\\Temp\\ipykernel_22396\\1613537058.py:73: FutureWarning: The frame.append method is deprecated and will be removed from pandas in a future version. Use pandas.concat instead.\n",
      "  forecast_df = forecast_df.append({\n",
      "C:\\Users\\sohan\\anaconda3\\lib\\site-packages\\keras\\src\\layers\\rnn\\rnn.py:205: UserWarning: Do not pass an `input_shape`/`input_dim` argument to a layer. When using Sequential models, prefer using an `Input(shape)` object as the first layer in the model instead.\n",
      "  super().__init__(**kwargs)\n"
     ]
    },
    {
     "name": "stdout",
     "output_type": "stream",
     "text": [
      "\u001b[1m1/1\u001b[0m \u001b[32m━━━━━━━━━━━━━━━━━━━━\u001b[0m\u001b[37m\u001b[0m \u001b[1m0s\u001b[0m 129ms/step\n",
      "Forecasting for Material ID: 25056\n",
      "Forecasting with SimpleRNN model for Material ID: 25056\n"
     ]
    },
    {
     "name": "stderr",
     "output_type": "stream",
     "text": [
      "C:\\Users\\sohan\\AppData\\Local\\Temp\\ipykernel_22396\\1613537058.py:73: FutureWarning: The frame.append method is deprecated and will be removed from pandas in a future version. Use pandas.concat instead.\n",
      "  forecast_df = forecast_df.append({\n",
      "C:\\Users\\sohan\\anaconda3\\lib\\site-packages\\keras\\src\\layers\\rnn\\rnn.py:205: UserWarning: Do not pass an `input_shape`/`input_dim` argument to a layer. When using Sequential models, prefer using an `Input(shape)` object as the first layer in the model instead.\n",
      "  super().__init__(**kwargs)\n"
     ]
    },
    {
     "name": "stdout",
     "output_type": "stream",
     "text": [
      "\u001b[1m1/1\u001b[0m \u001b[32m━━━━━━━━━━━━━━━━━━━━\u001b[0m\u001b[37m\u001b[0m \u001b[1m0s\u001b[0m 152ms/step\n",
      "Forecasting with GRU model for Material ID: 25056\n"
     ]
    },
    {
     "name": "stderr",
     "output_type": "stream",
     "text": [
      "C:\\Users\\sohan\\AppData\\Local\\Temp\\ipykernel_22396\\1613537058.py:73: FutureWarning: The frame.append method is deprecated and will be removed from pandas in a future version. Use pandas.concat instead.\n",
      "  forecast_df = forecast_df.append({\n",
      "C:\\Users\\sohan\\anaconda3\\lib\\site-packages\\keras\\src\\layers\\rnn\\rnn.py:205: UserWarning: Do not pass an `input_shape`/`input_dim` argument to a layer. When using Sequential models, prefer using an `Input(shape)` object as the first layer in the model instead.\n",
      "  super().__init__(**kwargs)\n"
     ]
    },
    {
     "name": "stdout",
     "output_type": "stream",
     "text": [
      "\u001b[1m1/1\u001b[0m \u001b[32m━━━━━━━━━━━━━━━━━━━━\u001b[0m\u001b[37m\u001b[0m \u001b[1m0s\u001b[0m 137ms/step\n",
      "Forecasting with LSTM model for Material ID: 25056\n"
     ]
    },
    {
     "name": "stderr",
     "output_type": "stream",
     "text": [
      "C:\\Users\\sohan\\AppData\\Local\\Temp\\ipykernel_22396\\1613537058.py:73: FutureWarning: The frame.append method is deprecated and will be removed from pandas in a future version. Use pandas.concat instead.\n",
      "  forecast_df = forecast_df.append({\n",
      "C:\\Users\\sohan\\anaconda3\\lib\\site-packages\\keras\\src\\layers\\rnn\\rnn.py:205: UserWarning: Do not pass an `input_shape`/`input_dim` argument to a layer. When using Sequential models, prefer using an `Input(shape)` object as the first layer in the model instead.\n",
      "  super().__init__(**kwargs)\n"
     ]
    },
    {
     "name": "stdout",
     "output_type": "stream",
     "text": [
      "\u001b[1m1/1\u001b[0m \u001b[32m━━━━━━━━━━━━━━━━━━━━\u001b[0m\u001b[37m\u001b[0m \u001b[1m0s\u001b[0m 128ms/step\n",
      "Forecasting for Material ID: 30765\n",
      "Forecasting with SimpleRNN model for Material ID: 30765\n"
     ]
    },
    {
     "name": "stderr",
     "output_type": "stream",
     "text": [
      "C:\\Users\\sohan\\AppData\\Local\\Temp\\ipykernel_22396\\1613537058.py:73: FutureWarning: The frame.append method is deprecated and will be removed from pandas in a future version. Use pandas.concat instead.\n",
      "  forecast_df = forecast_df.append({\n",
      "C:\\Users\\sohan\\anaconda3\\lib\\site-packages\\keras\\src\\layers\\rnn\\rnn.py:205: UserWarning: Do not pass an `input_shape`/`input_dim` argument to a layer. When using Sequential models, prefer using an `Input(shape)` object as the first layer in the model instead.\n",
      "  super().__init__(**kwargs)\n"
     ]
    },
    {
     "name": "stdout",
     "output_type": "stream",
     "text": [
      "\u001b[1m1/1\u001b[0m \u001b[32m━━━━━━━━━━━━━━━━━━━━\u001b[0m\u001b[37m\u001b[0m \u001b[1m0s\u001b[0m 139ms/step\n",
      "Forecasting with GRU model for Material ID: 30765\n"
     ]
    },
    {
     "name": "stderr",
     "output_type": "stream",
     "text": [
      "C:\\Users\\sohan\\AppData\\Local\\Temp\\ipykernel_22396\\1613537058.py:73: FutureWarning: The frame.append method is deprecated and will be removed from pandas in a future version. Use pandas.concat instead.\n",
      "  forecast_df = forecast_df.append({\n",
      "C:\\Users\\sohan\\anaconda3\\lib\\site-packages\\keras\\src\\layers\\rnn\\rnn.py:205: UserWarning: Do not pass an `input_shape`/`input_dim` argument to a layer. When using Sequential models, prefer using an `Input(shape)` object as the first layer in the model instead.\n",
      "  super().__init__(**kwargs)\n"
     ]
    },
    {
     "name": "stdout",
     "output_type": "stream",
     "text": [
      "\u001b[1m1/1\u001b[0m \u001b[32m━━━━━━━━━━━━━━━━━━━━\u001b[0m\u001b[37m\u001b[0m \u001b[1m0s\u001b[0m 152ms/step\n",
      "Forecasting with LSTM model for Material ID: 30765\n"
     ]
    },
    {
     "name": "stderr",
     "output_type": "stream",
     "text": [
      "C:\\Users\\sohan\\AppData\\Local\\Temp\\ipykernel_22396\\1613537058.py:73: FutureWarning: The frame.append method is deprecated and will be removed from pandas in a future version. Use pandas.concat instead.\n",
      "  forecast_df = forecast_df.append({\n",
      "C:\\Users\\sohan\\anaconda3\\lib\\site-packages\\keras\\src\\layers\\rnn\\rnn.py:205: UserWarning: Do not pass an `input_shape`/`input_dim` argument to a layer. When using Sequential models, prefer using an `Input(shape)` object as the first layer in the model instead.\n",
      "  super().__init__(**kwargs)\n"
     ]
    },
    {
     "name": "stdout",
     "output_type": "stream",
     "text": [
      "\u001b[1m1/1\u001b[0m \u001b[32m━━━━━━━━━━━━━━━━━━━━\u001b[0m\u001b[37m\u001b[0m \u001b[1m0s\u001b[0m 137ms/step\n",
      "Forecasting for Material ID: 32814\n",
      "Skipping Material ID: 32814 due to empty train or test set.\n",
      "   Time id Material id      Model  Actual Quantity  Forecasted        MAE  \\\n",
      "0       27        1311  SimpleRNN              4.0    3.916253   0.083747   \n",
      "1       27        1311        GRU              4.0    3.792202   0.207798   \n",
      "2       27        1311       LSTM              4.0    3.509259   0.490741   \n",
      "3       27        1421  SimpleRNN             28.0   28.412815   0.412815   \n",
      "4       27        1421        GRU             28.0   28.868530   0.868530   \n",
      "5       27        1421       LSTM             28.0   30.377560   2.377560   \n",
      "6       27        1610  SimpleRNN              4.0    3.925970   0.074030   \n",
      "7       27        1610        GRU              4.0    3.776134   0.223866   \n",
      "8       27        1610       LSTM              4.0    3.584343   0.415657   \n",
      "9       27        1755  SimpleRNN              6.0    7.064363   1.064363   \n",
      "10      27        1755        GRU              6.0    6.937864   0.937864   \n",
      "11      27        1755       LSTM              6.0    7.266716   1.266716   \n",
      "12      27        4756  SimpleRNN              4.0    4.061991   0.061991   \n",
      "13      27        4756        GRU              4.0    3.980665   0.019335   \n",
      "14      27        4756       LSTM              4.0    4.016289   0.016289   \n",
      "15      27        6345  SimpleRNN              2.0    2.097564   0.097564   \n",
      "16      27        6345        GRU              2.0    2.099969   0.099969   \n",
      "17      27        6345       LSTM              2.0    2.190914   0.190914   \n",
      "18      27        6464  SimpleRNN              9.0    8.187325   0.812675   \n",
      "19      27        6464        GRU              9.0    6.654548   2.345452   \n",
      "20      27        6464       LSTM              9.0    6.556171   2.443829   \n",
      "21      27        7263  SimpleRNN            128.0  130.509598   2.509598   \n",
      "22      27        7263        GRU            128.0  129.980331   1.980331   \n",
      "23      27        7263       LSTM            128.0  130.270248   2.270248   \n",
      "24      27        8710  SimpleRNN             91.0   86.902885   4.097115   \n",
      "25      27        8710        GRU             91.0   75.267052  15.732948   \n",
      "26      27        8710       LSTM             91.0   74.229683  16.770317   \n",
      "27      27       12481  SimpleRNN              9.0    7.923141   1.076859   \n",
      "28      27       12481        GRU              9.0    7.729545   1.270455   \n",
      "29      27       12481       LSTM              9.0    7.003705   1.996295   \n",
      "30      27       25056  SimpleRNN            185.0  181.199951   3.800049   \n",
      "31      27       25056        GRU            185.0  167.941971  17.058029   \n",
      "32      27       25056       LSTM            185.0  159.128357  25.871643   \n",
      "33      27       30765  SimpleRNN            128.0  112.044899  15.955101   \n",
      "34      27       30765        GRU            128.0  106.931564  21.068436   \n",
      "35      27       30765       LSTM            128.0   99.991043  28.008957   \n",
      "\n",
      "        MAPE        R2  \n",
      "0   0.020937  0.999562  \n",
      "1   0.051950  0.997301  \n",
      "2   0.122685  0.984948  \n",
      "3   0.014743  0.999783  \n",
      "4   0.031019  0.999038  \n",
      "5   0.084913  0.992790  \n",
      "6   0.018507  0.999657  \n",
      "7   0.055967  0.996868  \n",
      "8   0.103914  0.989202  \n",
      "9   0.177394  0.968531  \n",
      "10  0.156311  0.975567  \n",
      "11  0.211119  0.955429  \n",
      "12  0.015498  0.999760  \n",
      "13  0.004834  0.999977  \n",
      "14  0.004072  0.999983  \n",
      "15  0.048782  0.997620  \n",
      "16  0.049984  0.997502  \n",
      "17  0.095457  0.990888  \n",
      "18  0.090297  0.991846  \n",
      "19  0.260606  0.932085  \n",
      "20  0.271537  0.926268  \n",
      "21  0.019606  0.999616  \n",
      "22  0.015471  0.999761  \n",
      "23  0.017736  0.999685  \n",
      "24  0.045023  0.997973  \n",
      "25  0.172890  0.970109  \n",
      "26  0.184289  0.966037  \n",
      "27  0.119651  0.985684  \n",
      "28  0.141162  0.980073  \n",
      "29  0.221811  0.950800  \n",
      "30  0.020541  0.999578  \n",
      "31  0.092206  0.991498  \n",
      "32  0.139847  0.980443  \n",
      "33  0.124649  0.984463  \n",
      "34  0.164597  0.972908  \n",
      "35  0.218820  0.952118  \n"
     ]
    },
    {
     "name": "stderr",
     "output_type": "stream",
     "text": [
      "C:\\Users\\sohan\\AppData\\Local\\Temp\\ipykernel_22396\\1613537058.py:73: FutureWarning: The frame.append method is deprecated and will be removed from pandas in a future version. Use pandas.concat instead.\n",
      "  forecast_df = forecast_df.append({\n"
     ]
    }
   ],
   "source": [
    "import pandas as pd\n",
    "import numpy as np\n",
    "from sklearn.preprocessing import MinMaxScaler\n",
    "from tensorflow.keras.models import Sequential\n",
    "from tensorflow.keras.layers import SimpleRNN, GRU, LSTM, Dense\n",
    "\n",
    "# Function to build and train RNN models\n",
    "def build_and_train_model(model_type, X_train, y_train):\n",
    "    model = Sequential()\n",
    "    if model_type == 'SimpleRNN':\n",
    "        model.add(SimpleRNN(units=64, input_shape=(X_train.shape[1], X_train.shape[2])))\n",
    "    elif model_type == 'GRU':\n",
    "        model.add(GRU(units=64, input_shape=(X_train.shape[1], X_train.shape[2])))\n",
    "    elif model_type == 'LSTM':\n",
    "        model.add(LSTM(units=64, input_shape=(X_train.shape[1], X_train.shape[2])))\n",
    "    model.add(Dense(1))\n",
    "    model.compile(optimizer='adam', loss='mse')\n",
    "    model.fit(X_train, y_train, epochs=100, batch_size=32, verbose=0)\n",
    "    return model\n",
    "\n",
    "# Initialize an empty DataFrame to store the forecast results\n",
    "forecast_df = pd.DataFrame(columns=['Time id', 'Material id', 'Model', 'Actual Quantity', 'Forecasted', 'MAE', 'MAPE', 'R2'])\n",
    "\n",
    "# Iterate over each material id\n",
    "for material_id in df['Material_Id'].unique():\n",
    "    print(f\"Forecasting for Material ID: {material_id}\")\n",
    "\n",
    "    # Filter data for the current material id\n",
    "    material_data = df[df['Material_Id'] == material_id]\n",
    "\n",
    "    # Split data into train and test sets\n",
    "    train = material_data[(material_data['Time id'] >= 13) & (material_data['Time id'] <= 26)]\n",
    "    test = material_data[material_data['Time id'] == 27]\n",
    "\n",
    "    # Check if both train and test sets have at least one sample\n",
    "    if len(train) == 0 or len(test) == 0:\n",
    "        print(f\"Skipping Material ID: {material_id} due to empty train or test set.\")\n",
    "        continue\n",
    "\n",
    "    # Scale the data\n",
    "    scaler = MinMaxScaler()\n",
    "    train_scaled = scaler.fit_transform(train[['Quantity']])\n",
    "    test_scaled = scaler.transform(test[['Quantity']])\n",
    "\n",
    "    # Reshape input to be [samples, time steps, features]\n",
    "    X_train = np.reshape(train_scaled, (train_scaled.shape[0], 1, 1))\n",
    "    X_test = np.reshape(test_scaled, (test_scaled.shape[0], 1, 1))\n",
    "    y_train = train_scaled[:, 0]  # Target variable is Quantity\n",
    "\n",
    "    # Iterate over each model type\n",
    "    for model_type in ['SimpleRNN', 'GRU', 'LSTM']:\n",
    "        print(f\"Forecasting with {model_type} model for Material ID: {material_id}\")\n",
    "\n",
    "        # Build and train model\n",
    "        model = build_and_train_model(model_type, X_train, y_train)\n",
    "\n",
    "        # Forecast for the test set\n",
    "        forecasted_values = model.predict(X_test)\n",
    "        forecasted_values_inv = scaler.inverse_transform(forecasted_values)\n",
    "\n",
    "        # Get actual quantity for the test set\n",
    "        actual_quantity = test['Quantity'].values[0]\n",
    "\n",
    "        # Calculate MAE and MAPE\n",
    "        mae = mean_absolute_error([actual_quantity], forecasted_values_inv[0])\n",
    "        mape = mean_absolute_percentage_error([actual_quantity], forecasted_values_inv[0])\n",
    "\n",
    "        # Calculate R²\n",
    "        mse = mean_squared_error([actual_quantity], forecasted_values_inv[0])\n",
    "        r2 = 1 - (mse / (actual_quantity ** 2))  # Simplified R² calculation\n",
    "\n",
    "        # Append results to the dataframe\n",
    "        forecast_df = forecast_df.append({\n",
    "            'Time id': 27,\n",
    "            'Material id': material_id,\n",
    "            'Model': model_type,\n",
    "            'Actual Quantity': actual_quantity,\n",
    "            'Forecasted': forecasted_values_inv[0][0],\n",
    "            'MAE': mae,\n",
    "            'MAPE': mape,\n",
    "            'R2': r2\n",
    "        }, ignore_index=True)\n",
    "\n",
    "# Display the forecast results dataframe\n",
    "print(forecast_df)\n",
    "\n"
   ]
  },
  {
   "cell_type": "code",
   "execution_count": null,
   "id": "bd9e34fd",
   "metadata": {},
   "outputs": [],
   "source": []
  },
  {
   "cell_type": "code",
   "execution_count": 4,
   "id": "70c4dc84",
   "metadata": {},
   "outputs": [
    {
     "name": "stdout",
     "output_type": "stream",
     "text": [
      "Overall scores for GRU model:\n",
      "Overall MAE: 5.15108464161555\n",
      "Overall MAPE: 0.0997496017572501\n",
      "Overall R2: 0.9843904744231828\n",
      "\n",
      "Overall scores for LSTM model:\n",
      "Overall MAE: 6.843263804912567\n",
      "Overall MAPE: 0.13968334764376253\n",
      "Overall R2: 0.9740492995911351\n",
      "\n",
      "Overall scores for SimpleRNN model:\n",
      "Overall MAE: 2.5038254261016846\n",
      "Overall MAPE: 0.05963573028102686\n",
      "Overall R2: 0.9936727133392941\n",
      "\n"
     ]
    }
   ],
   "source": [
    "# Group forecast results by model\n",
    "grouped_results = forecast_df.groupby('Model')\n",
    "\n",
    "# Calculate overall MAE, MAPE, and R2 scores for each model\n",
    "for model_type, group in grouped_results:\n",
    "    overall_mae = group['MAE'].mean()\n",
    "    overall_mape = group['MAPE'].mean()\n",
    "    overall_r2 = group['R2'].mean()\n",
    "    \n",
    "    # Print the overall scores for the current model\n",
    "    print(f\"Overall scores for {model_type} model:\")\n",
    "    print(\"Overall MAE:\", overall_mae)\n",
    "    print(\"Overall MAPE:\", overall_mape)\n",
    "    print(\"Overall R2:\", overall_r2)\n",
    "    print()"
   ]
  },
  {
   "cell_type": "code",
   "execution_count": null,
   "id": "2ccbb9ba",
   "metadata": {},
   "outputs": [],
   "source": []
  },
  {
   "cell_type": "code",
   "execution_count": 5,
   "id": "5ca7c0ee",
   "metadata": {},
   "outputs": [
    {
     "data": {
      "image/png": "[encoded data removed]",
      "text/plain": [
       "<Figure size 1500x800 with 1 Axes>"
      ]
     },
     "metadata": {},
     "output_type": "display_data"
    }
   ],
   "source": [
    "import matplotlib.pyplot as plt\n",
    "\n",
    "# Filter df for Time id 27\n",
    "actual_quantities = df[df['Time id'] == 15][['Material_Id', 'Quantity']]\n",
    "actual_quantities = actual_quantities.set_index('Material_Id')\n",
    "\n",
    "# Filter forecast_df for Time id 27 and SimpleRNN model\n",
    "forecasted_quantities = forecast_df[(forecast_df['Time id'] == 27) & (forecast_df['Model'] == 'SimpleRNN')][['Material id', 'Forecasted']]\n",
    "forecasted_quantities = forecasted_quantities.rename(columns={'Material id': 'Material_Id'})\n",
    "forecasted_quantities = forecasted_quantities.set_index('Material_Id')\n",
    "\n",
    "# Merge actual and forecasted quantities\n",
    "merged_df = actual_quantities.join(forecasted_quantities, how='inner', lsuffix='_actual', rsuffix='_forecasted')\n",
    "\n",
    "# Plotting\n",
    "merged_df.plot(kind='bar', figsize=(15, 8))\n",
    "plt.xlabel('Material ID')\n",
    "plt.ylabel('Quantity')\n",
    "plt.title('Comparison of Actual Quantity at Time id 15 and Forecasted Quantity at Time id 27 (SimpleRNN Model)')\n",
    "plt.xticks(rotation=45)\n",
    "plt.legend(['Actual Quantity (Time id 15)', 'Forecasted Quantity (Time id 27)'])\n",
    "plt.tight_layout()\n",
    "plt.show()"
   ]
  },
  {
   "cell_type": "code",
   "execution_count": null,
   "id": "58cbda6b",
   "metadata": {},
   "outputs": [],
   "source": []
  },
  {
   "cell_type": "code",
   "execution_count": 6,
   "id": "6f9073f3",
   "metadata": {},
   "outputs": [
    {
     "data": {
      "image/png": "[encoded data removed]",
      "text/plain": [
       "<Figure size 1500x800 with 1 Axes>"
      ]
     },
     "metadata": {},
     "output_type": "display_data"
    }
   ],
   "source": [
    "import matplotlib.pyplot as plt\n",
    "\n",
    "# Filter df for Time id 15\n",
    "actual_quantities_15 = df[df['Time id'] == 15][['Material_Id', 'Quantity']]\n",
    "actual_quantities_15 = actual_quantities_15.set_index('Material_Id')\n",
    "\n",
    "# Filter df for Time id 27\n",
    "actual_quantities_27 = df[df['Time id'] == 27][['Material_Id', 'Quantity']]\n",
    "actual_quantities_27 = actual_quantities_27.set_index('Material_Id')\n",
    "\n",
    "# Filter forecast_df for Time id 27 and SimpleRNN model\n",
    "forecasted_quantities = forecast_df[(forecast_df['Time id'] == 27) & (forecast_df['Model'] == 'SimpleRNN')][['Material id', 'Forecasted']]\n",
    "forecasted_quantities = forecasted_quantities.rename(columns={'Material id': 'Material_Id'})\n",
    "forecasted_quantities = forecasted_quantities.set_index('Material_Id')\n",
    "\n",
    "# Merge actual quantities at Time id 15, Time id 27, and forecasted quantities\n",
    "merged_df = actual_quantities_15.join(actual_quantities_27, how='inner', lsuffix='_actual_15', rsuffix='_actual_27')\n",
    "merged_df = merged_df.join(forecasted_quantities, how='inner')\n",
    "\n",
    "# Plotting\n",
    "merged_df.plot(kind='bar', figsize=(15, 8))\n",
    "plt.xlabel('Material ID')\n",
    "plt.ylabel('Quantity')\n",
    "plt.title('Comparison of Actual Quantity at Time id 15, Actual Quantity at Time id 27, and Forecasted Quantity at Time id 27 (SimpleRNN Model)')\n",
    "plt.xticks(rotation=45)\n",
    "plt.legend(['Actual Quantity (Time id 15)', 'Actual Quantity (Time id 27)', 'Forecasted Quantity (Time id 27)'])\n",
    "plt.tight_layout()\n",
    "plt.show()\n"
   ]
  },
  {
   "cell_type": "code",
   "execution_count": null,
   "id": "4d2bdc97",
   "metadata": {},
   "outputs": [],
   "source": []
  },
  {
   "cell_type": "code",
   "execution_count": null,
   "id": "d47e9629",
   "metadata": {},
   "outputs": [],
   "source": []
  }
 ],
 "metadata": {
  "kernelspec": {
   "display_name": "Python 3 (ipykernel)",
   "language": "python",
   "name": "python3"
  },
  "language_info": {
   "codemirror_mode": {
    "name": "ipython",
    "version": 3
   },
   "file_extension": ".py",
   "mimetype": "text/x-python",
   "name": "python",
   "nbconvert_exporter": "python",
   "pygments_lexer": "ipython3",
   "version": "3.10.9"
  }
 },
 "nbformat": 4,
 "nbformat_minor": 5
}
