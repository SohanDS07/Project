{
 "cells": [
  {
   "cell_type": "code",
   "execution_count": 1,
   "id": "14a0e3cf",
   "metadata": {},
   "outputs": [],
   "source": [
    "import pandas as pd\n",
    "import numpy as np\n",
    "\n",
    "\n",
    "# for Modelling\n",
    "from sklearn.preprocessing import MinMaxScaler\n",
    "from tensorflow.keras.models import Sequential\n",
    "from tensorflow.keras.layers import SimpleRNN, GRU, LSTM, Dense\n",
    "\n",
    "from tensorflow.keras.models import load_model\n",
    "\n",
    "# for Evaluation\n",
    "from sklearn.metrics import r2_score, mean_absolute_error, mean_squared_error\n",
    "from sklearn.metrics import mean_absolute_error, r2_score\n",
    "\n",
    "# Import required library\n",
    "from sklearn.metrics import mean_absolute_percentage_error\n"
   ]
  },
  {
   "cell_type": "code",
   "execution_count": 2,
   "id": "6a3ae781",
   "metadata": {},
   "outputs": [
    {
     "data": {
      "text/html": [
       "<div>\n",
       "<style scoped>\n",
       "    .dataframe tbody tr th:only-of-type {\n",
       "        vertical-align: middle;\n",
       "    }\n",
       "\n",
       "    .dataframe tbody tr th {\n",
       "        vertical-align: top;\n",
       "    }\n",
       "\n",
       "    .dataframe thead th {\n",
       "        text-align: right;\n",
       "    }\n",
       "</style>\n",
       "<table border=\"1\" class=\"dataframe\">\n",
       "  <thead>\n",
       "    <tr style=\"text-align: right;\">\n",
       "      <th></th>\n",
       "      <th>Time id</th>\n",
       "      <th>Material</th>\n",
       "      <th>Quantity</th>\n",
       "      <th>Total_Value</th>\n",
       "      <th>Material_Id</th>\n",
       "    </tr>\n",
       "  </thead>\n",
       "  <tbody>\n",
       "    <tr>\n",
       "      <th>0</th>\n",
       "      <td>1</td>\n",
       "      <td>C37-200258</td>\n",
       "      <td>35.0</td>\n",
       "      <td>392625.71</td>\n",
       "      <td>1708</td>\n",
       "    </tr>\n",
       "    <tr>\n",
       "      <th>1</th>\n",
       "      <td>1</td>\n",
       "      <td>C65-200280</td>\n",
       "      <td>45.0</td>\n",
       "      <td>108333.72</td>\n",
       "      <td>2425</td>\n",
       "    </tr>\n",
       "    <tr>\n",
       "      <th>2</th>\n",
       "      <td>1</td>\n",
       "      <td>S02-060397</td>\n",
       "      <td>6.0</td>\n",
       "      <td>94652.74</td>\n",
       "      <td>6324</td>\n",
       "    </tr>\n",
       "    <tr>\n",
       "      <th>3</th>\n",
       "      <td>1</td>\n",
       "      <td>S06-310007</td>\n",
       "      <td>82.0</td>\n",
       "      <td>88564.92</td>\n",
       "      <td>6587</td>\n",
       "    </tr>\n",
       "    <tr>\n",
       "      <th>4</th>\n",
       "      <td>1</td>\n",
       "      <td>S10-130653</td>\n",
       "      <td>32.0</td>\n",
       "      <td>414240.00</td>\n",
       "      <td>7385</td>\n",
       "    </tr>\n",
       "    <tr>\n",
       "      <th>...</th>\n",
       "      <td>...</td>\n",
       "      <td>...</td>\n",
       "      <td>...</td>\n",
       "      <td>...</td>\n",
       "      <td>...</td>\n",
       "    </tr>\n",
       "    <tr>\n",
       "      <th>373</th>\n",
       "      <td>38</td>\n",
       "      <td>S06-310007</td>\n",
       "      <td>198.0</td>\n",
       "      <td>175678.84</td>\n",
       "      <td>6587</td>\n",
       "    </tr>\n",
       "    <tr>\n",
       "      <th>374</th>\n",
       "      <td>38</td>\n",
       "      <td>S10-130653</td>\n",
       "      <td>97.0</td>\n",
       "      <td>740962.30</td>\n",
       "      <td>7385</td>\n",
       "    </tr>\n",
       "    <tr>\n",
       "      <th>375</th>\n",
       "      <td>38</td>\n",
       "      <td>S10-130781</td>\n",
       "      <td>132.0</td>\n",
       "      <td>546171.00</td>\n",
       "      <td>7413</td>\n",
       "    </tr>\n",
       "    <tr>\n",
       "      <th>376</th>\n",
       "      <td>38</td>\n",
       "      <td>S12-060214</td>\n",
       "      <td>25.0</td>\n",
       "      <td>416336.42</td>\n",
       "      <td>14426</td>\n",
       "    </tr>\n",
       "    <tr>\n",
       "      <th>377</th>\n",
       "      <td>38</td>\n",
       "      <td>S12-160332</td>\n",
       "      <td>10.0</td>\n",
       "      <td>262214.42</td>\n",
       "      <td>15905</td>\n",
       "    </tr>\n",
       "  </tbody>\n",
       "</table>\n",
       "<p>378 rows × 5 columns</p>\n",
       "</div>"
      ],
      "text/plain": [
       "     Time id    Material  Quantity  Total_Value  Material_Id\n",
       "0          1  C37-200258      35.0    392625.71         1708\n",
       "1          1  C65-200280      45.0    108333.72         2425\n",
       "2          1  S02-060397       6.0     94652.74         6324\n",
       "3          1  S06-310007      82.0     88564.92         6587\n",
       "4          1  S10-130653      32.0    414240.00         7385\n",
       "..       ...         ...       ...          ...          ...\n",
       "373       38  S06-310007     198.0    175678.84         6587\n",
       "374       38  S10-130653      97.0    740962.30         7385\n",
       "375       38  S10-130781     132.0    546171.00         7413\n",
       "376       38  S12-060214      25.0    416336.42        14426\n",
       "377       38  S12-160332      10.0    262214.42        15905\n",
       "\n",
       "[378 rows x 5 columns]"
      ]
     },
     "execution_count": 2,
     "metadata": {},
     "output_type": "execute_result"
    }
   ],
   "source": [
    "df= pd.read_csv('ax_t1.csv')\n",
    "df"
   ]
  },
  {
   "cell_type": "code",
   "execution_count": null,
   "id": "bdc6f75c",
   "metadata": {},
   "outputs": [],
   "source": []
  },
  {
   "cell_type": "code",
   "execution_count": 3,
   "id": "e58aef75",
   "metadata": {},
   "outputs": [
    {
     "name": "stdout",
     "output_type": "stream",
     "text": [
      "Forecasting for Material ID: 1708\n",
      "Forecasting with SimpleRNN model for Material ID: 1708\n"
     ]
    },
    {
     "name": "stderr",
     "output_type": "stream",
     "text": [
      "C:\\Users\\sohan\\anaconda3\\lib\\site-packages\\keras\\src\\layers\\rnn\\rnn.py:205: UserWarning: Do not pass an `input_shape`/`input_dim` argument to a layer. When using Sequential models, prefer using an `Input(shape)` object as the first layer in the model instead.\n",
      "  super().__init__(**kwargs)\n"
     ]
    },
    {
     "name": "stdout",
     "output_type": "stream",
     "text": [
      "\u001b[1m1/1\u001b[0m \u001b[32m━━━━━━━━━━━━━━━━━━━━\u001b[0m\u001b[37m\u001b[0m \u001b[1m0s\u001b[0m 78ms/step\n",
      "Forecasting with GRU model for Material ID: 1708\n"
     ]
    },
    {
     "name": "stderr",
     "output_type": "stream",
     "text": [
      "C:\\Users\\sohan\\AppData\\Local\\Temp\\ipykernel_10876\\3337730940.py:79: FutureWarning: The frame.append method is deprecated and will be removed from pandas in a future version. Use pandas.concat instead.\n",
      "  forecast_df = forecast_df.append({\n",
      "C:\\Users\\sohan\\anaconda3\\lib\\site-packages\\keras\\src\\layers\\rnn\\rnn.py:205: UserWarning: Do not pass an `input_shape`/`input_dim` argument to a layer. When using Sequential models, prefer using an `Input(shape)` object as the first layer in the model instead.\n",
      "  super().__init__(**kwargs)\n"
     ]
    },
    {
     "name": "stdout",
     "output_type": "stream",
     "text": [
      "\u001b[1m1/1\u001b[0m \u001b[32m━━━━━━━━━━━━━━━━━━━━\u001b[0m\u001b[37m\u001b[0m \u001b[1m0s\u001b[0m 96ms/step\n",
      "Forecasting with LSTM model for Material ID: 1708\n"
     ]
    },
    {
     "name": "stderr",
     "output_type": "stream",
     "text": [
      "C:\\Users\\sohan\\AppData\\Local\\Temp\\ipykernel_10876\\3337730940.py:79: FutureWarning: The frame.append method is deprecated and will be removed from pandas in a future version. Use pandas.concat instead.\n",
      "  forecast_df = forecast_df.append({\n",
      "C:\\Users\\sohan\\anaconda3\\lib\\site-packages\\keras\\src\\layers\\rnn\\rnn.py:205: UserWarning: Do not pass an `input_shape`/`input_dim` argument to a layer. When using Sequential models, prefer using an `Input(shape)` object as the first layer in the model instead.\n",
      "  super().__init__(**kwargs)\n"
     ]
    },
    {
     "name": "stdout",
     "output_type": "stream",
     "text": [
      "\u001b[1m1/1\u001b[0m \u001b[32m━━━━━━━━━━━━━━━━━━━━\u001b[0m\u001b[37m\u001b[0m \u001b[1m0s\u001b[0m 91ms/step\n",
      "Forecasting for Material ID: 2425\n",
      "Forecasting with SimpleRNN model for Material ID: 2425\n"
     ]
    },
    {
     "name": "stderr",
     "output_type": "stream",
     "text": [
      "C:\\Users\\sohan\\AppData\\Local\\Temp\\ipykernel_10876\\3337730940.py:79: FutureWarning: The frame.append method is deprecated and will be removed from pandas in a future version. Use pandas.concat instead.\n",
      "  forecast_df = forecast_df.append({\n",
      "C:\\Users\\sohan\\anaconda3\\lib\\site-packages\\keras\\src\\layers\\rnn\\rnn.py:205: UserWarning: Do not pass an `input_shape`/`input_dim` argument to a layer. When using Sequential models, prefer using an `Input(shape)` object as the first layer in the model instead.\n",
      "  super().__init__(**kwargs)\n"
     ]
    },
    {
     "name": "stdout",
     "output_type": "stream",
     "text": [
      "\u001b[1m1/1\u001b[0m \u001b[32m━━━━━━━━━━━━━━━━━━━━\u001b[0m\u001b[37m\u001b[0m \u001b[1m0s\u001b[0m 74ms/step\n",
      "Forecasting with GRU model for Material ID: 2425\n"
     ]
    },
    {
     "name": "stderr",
     "output_type": "stream",
     "text": [
      "C:\\Users\\sohan\\AppData\\Local\\Temp\\ipykernel_10876\\3337730940.py:79: FutureWarning: The frame.append method is deprecated and will be removed from pandas in a future version. Use pandas.concat instead.\n",
      "  forecast_df = forecast_df.append({\n",
      "C:\\Users\\sohan\\anaconda3\\lib\\site-packages\\keras\\src\\layers\\rnn\\rnn.py:205: UserWarning: Do not pass an `input_shape`/`input_dim` argument to a layer. When using Sequential models, prefer using an `Input(shape)` object as the first layer in the model instead.\n",
      "  super().__init__(**kwargs)\n"
     ]
    },
    {
     "name": "stdout",
     "output_type": "stream",
     "text": [
      "WARNING:tensorflow:5 out of the last 5 calls to <function TensorFlowTrainer.make_predict_function.<locals>.one_step_on_data_distributed at 0x0000021F6C517C70> triggered tf.function retracing. Tracing is expensive and the excessive number of tracings could be due to (1) creating @tf.function repeatedly in a loop, (2) passing tensors with different shapes, (3) passing Python objects instead of tensors. For (1), please define your @tf.function outside of the loop. For (2), @tf.function has reduce_retracing=True option that can avoid unnecessary retracing. For (3), please refer to https://www.tensorflow.org/guide/function#controlling_retracing and https://www.tensorflow.org/api_docs/python/tf/function for  more details.\n",
      "\u001b[1m1/1\u001b[0m \u001b[32m━━━━━━━━━━━━━━━━━━━━\u001b[0m\u001b[37m\u001b[0m \u001b[1m0s\u001b[0m 94ms/step\n",
      "Forecasting with LSTM model for Material ID: 2425\n"
     ]
    },
    {
     "name": "stderr",
     "output_type": "stream",
     "text": [
      "C:\\Users\\sohan\\AppData\\Local\\Temp\\ipykernel_10876\\3337730940.py:79: FutureWarning: The frame.append method is deprecated and will be removed from pandas in a future version. Use pandas.concat instead.\n",
      "  forecast_df = forecast_df.append({\n",
      "C:\\Users\\sohan\\anaconda3\\lib\\site-packages\\keras\\src\\layers\\rnn\\rnn.py:205: UserWarning: Do not pass an `input_shape`/`input_dim` argument to a layer. When using Sequential models, prefer using an `Input(shape)` object as the first layer in the model instead.\n",
      "  super().__init__(**kwargs)\n"
     ]
    },
    {
     "name": "stdout",
     "output_type": "stream",
     "text": [
      "WARNING:tensorflow:6 out of the last 6 calls to <function TensorFlowTrainer.make_predict_function.<locals>.one_step_on_data_distributed at 0x0000021F699CD870> triggered tf.function retracing. Tracing is expensive and the excessive number of tracings could be due to (1) creating @tf.function repeatedly in a loop, (2) passing tensors with different shapes, (3) passing Python objects instead of tensors. For (1), please define your @tf.function outside of the loop. For (2), @tf.function has reduce_retracing=True option that can avoid unnecessary retracing. For (3), please refer to https://www.tensorflow.org/guide/function#controlling_retracing and https://www.tensorflow.org/api_docs/python/tf/function for  more details.\n",
      "\u001b[1m1/1\u001b[0m \u001b[32m━━━━━━━━━━━━━━━━━━━━\u001b[0m\u001b[37m\u001b[0m \u001b[1m0s\u001b[0m 93ms/step\n",
      "Forecasting for Material ID: 6324\n",
      "Forecasting with SimpleRNN model for Material ID: 6324\n"
     ]
    },
    {
     "name": "stderr",
     "output_type": "stream",
     "text": [
      "C:\\Users\\sohan\\AppData\\Local\\Temp\\ipykernel_10876\\3337730940.py:79: FutureWarning: The frame.append method is deprecated and will be removed from pandas in a future version. Use pandas.concat instead.\n",
      "  forecast_df = forecast_df.append({\n",
      "C:\\Users\\sohan\\anaconda3\\lib\\site-packages\\keras\\src\\layers\\rnn\\rnn.py:205: UserWarning: Do not pass an `input_shape`/`input_dim` argument to a layer. When using Sequential models, prefer using an `Input(shape)` object as the first layer in the model instead.\n",
      "  super().__init__(**kwargs)\n"
     ]
    },
    {
     "name": "stdout",
     "output_type": "stream",
     "text": [
      "\u001b[1m1/1\u001b[0m \u001b[32m━━━━━━━━━━━━━━━━━━━━\u001b[0m\u001b[37m\u001b[0m \u001b[1m0s\u001b[0m 73ms/step\n",
      "Forecasting with GRU model for Material ID: 6324\n"
     ]
    },
    {
     "name": "stderr",
     "output_type": "stream",
     "text": [
      "C:\\Users\\sohan\\AppData\\Local\\Temp\\ipykernel_10876\\3337730940.py:79: FutureWarning: The frame.append method is deprecated and will be removed from pandas in a future version. Use pandas.concat instead.\n",
      "  forecast_df = forecast_df.append({\n",
      "C:\\Users\\sohan\\anaconda3\\lib\\site-packages\\keras\\src\\layers\\rnn\\rnn.py:205: UserWarning: Do not pass an `input_shape`/`input_dim` argument to a layer. When using Sequential models, prefer using an `Input(shape)` object as the first layer in the model instead.\n",
      "  super().__init__(**kwargs)\n"
     ]
    },
    {
     "name": "stdout",
     "output_type": "stream",
     "text": [
      "\u001b[1m1/1\u001b[0m \u001b[32m━━━━━━━━━━━━━━━━━━━━\u001b[0m\u001b[37m\u001b[0m \u001b[1m0s\u001b[0m 102ms/step\n",
      "Forecasting with LSTM model for Material ID: 6324\n"
     ]
    },
    {
     "name": "stderr",
     "output_type": "stream",
     "text": [
      "C:\\Users\\sohan\\AppData\\Local\\Temp\\ipykernel_10876\\3337730940.py:79: FutureWarning: The frame.append method is deprecated and will be removed from pandas in a future version. Use pandas.concat instead.\n",
      "  forecast_df = forecast_df.append({\n",
      "C:\\Users\\sohan\\anaconda3\\lib\\site-packages\\keras\\src\\layers\\rnn\\rnn.py:205: UserWarning: Do not pass an `input_shape`/`input_dim` argument to a layer. When using Sequential models, prefer using an `Input(shape)` object as the first layer in the model instead.\n",
      "  super().__init__(**kwargs)\n"
     ]
    },
    {
     "name": "stdout",
     "output_type": "stream",
     "text": [
      "\u001b[1m1/1\u001b[0m \u001b[32m━━━━━━━━━━━━━━━━━━━━\u001b[0m\u001b[37m\u001b[0m \u001b[1m0s\u001b[0m 91ms/step\n",
      "Forecasting for Material ID: 6587\n",
      "Forecasting with SimpleRNN model for Material ID: 6587\n"
     ]
    },
    {
     "name": "stderr",
     "output_type": "stream",
     "text": [
      "C:\\Users\\sohan\\AppData\\Local\\Temp\\ipykernel_10876\\3337730940.py:79: FutureWarning: The frame.append method is deprecated and will be removed from pandas in a future version. Use pandas.concat instead.\n",
      "  forecast_df = forecast_df.append({\n",
      "C:\\Users\\sohan\\anaconda3\\lib\\site-packages\\keras\\src\\layers\\rnn\\rnn.py:205: UserWarning: Do not pass an `input_shape`/`input_dim` argument to a layer. When using Sequential models, prefer using an `Input(shape)` object as the first layer in the model instead.\n",
      "  super().__init__(**kwargs)\n"
     ]
    },
    {
     "name": "stdout",
     "output_type": "stream",
     "text": [
      "\u001b[1m1/1\u001b[0m \u001b[32m━━━━━━━━━━━━━━━━━━━━\u001b[0m\u001b[37m\u001b[0m \u001b[1m0s\u001b[0m 317ms/step\n",
      "Forecasting with GRU model for Material ID: 6587\n"
     ]
    },
    {
     "name": "stderr",
     "output_type": "stream",
     "text": [
      "C:\\Users\\sohan\\AppData\\Local\\Temp\\ipykernel_10876\\3337730940.py:79: FutureWarning: The frame.append method is deprecated and will be removed from pandas in a future version. Use pandas.concat instead.\n",
      "  forecast_df = forecast_df.append({\n",
      "C:\\Users\\sohan\\anaconda3\\lib\\site-packages\\keras\\src\\layers\\rnn\\rnn.py:205: UserWarning: Do not pass an `input_shape`/`input_dim` argument to a layer. When using Sequential models, prefer using an `Input(shape)` object as the first layer in the model instead.\n",
      "  super().__init__(**kwargs)\n"
     ]
    },
    {
     "name": "stdout",
     "output_type": "stream",
     "text": [
      "\u001b[1m1/1\u001b[0m \u001b[32m━━━━━━━━━━━━━━━━━━━━\u001b[0m\u001b[37m\u001b[0m \u001b[1m0s\u001b[0m 103ms/step\n",
      "Forecasting with LSTM model for Material ID: 6587\n"
     ]
    },
    {
     "name": "stderr",
     "output_type": "stream",
     "text": [
      "C:\\Users\\sohan\\AppData\\Local\\Temp\\ipykernel_10876\\3337730940.py:79: FutureWarning: The frame.append method is deprecated and will be removed from pandas in a future version. Use pandas.concat instead.\n",
      "  forecast_df = forecast_df.append({\n",
      "C:\\Users\\sohan\\anaconda3\\lib\\site-packages\\keras\\src\\layers\\rnn\\rnn.py:205: UserWarning: Do not pass an `input_shape`/`input_dim` argument to a layer. When using Sequential models, prefer using an `Input(shape)` object as the first layer in the model instead.\n",
      "  super().__init__(**kwargs)\n"
     ]
    },
    {
     "name": "stdout",
     "output_type": "stream",
     "text": [
      "\u001b[1m1/1\u001b[0m \u001b[32m━━━━━━━━━━━━━━━━━━━━\u001b[0m\u001b[37m\u001b[0m \u001b[1m0s\u001b[0m 87ms/step\n",
      "Forecasting for Material ID: 7385\n",
      "Forecasting with SimpleRNN model for Material ID: 7385\n"
     ]
    },
    {
     "name": "stderr",
     "output_type": "stream",
     "text": [
      "C:\\Users\\sohan\\AppData\\Local\\Temp\\ipykernel_10876\\3337730940.py:79: FutureWarning: The frame.append method is deprecated and will be removed from pandas in a future version. Use pandas.concat instead.\n",
      "  forecast_df = forecast_df.append({\n",
      "C:\\Users\\sohan\\anaconda3\\lib\\site-packages\\keras\\src\\layers\\rnn\\rnn.py:205: UserWarning: Do not pass an `input_shape`/`input_dim` argument to a layer. When using Sequential models, prefer using an `Input(shape)` object as the first layer in the model instead.\n",
      "  super().__init__(**kwargs)\n"
     ]
    },
    {
     "name": "stdout",
     "output_type": "stream",
     "text": [
      "\u001b[1m1/1\u001b[0m \u001b[32m━━━━━━━━━━━━━━━━━━━━\u001b[0m\u001b[37m\u001b[0m \u001b[1m0s\u001b[0m 75ms/step\n",
      "Forecasting with GRU model for Material ID: 7385\n"
     ]
    },
    {
     "name": "stderr",
     "output_type": "stream",
     "text": [
      "C:\\Users\\sohan\\AppData\\Local\\Temp\\ipykernel_10876\\3337730940.py:79: FutureWarning: The frame.append method is deprecated and will be removed from pandas in a future version. Use pandas.concat instead.\n",
      "  forecast_df = forecast_df.append({\n",
      "C:\\Users\\sohan\\anaconda3\\lib\\site-packages\\keras\\src\\layers\\rnn\\rnn.py:205: UserWarning: Do not pass an `input_shape`/`input_dim` argument to a layer. When using Sequential models, prefer using an `Input(shape)` object as the first layer in the model instead.\n",
      "  super().__init__(**kwargs)\n"
     ]
    },
    {
     "name": "stdout",
     "output_type": "stream",
     "text": [
      "\u001b[1m1/1\u001b[0m \u001b[32m━━━━━━━━━━━━━━━━━━━━\u001b[0m\u001b[37m\u001b[0m \u001b[1m0s\u001b[0m 98ms/step\n",
      "Forecasting with LSTM model for Material ID: 7385\n"
     ]
    },
    {
     "name": "stderr",
     "output_type": "stream",
     "text": [
      "C:\\Users\\sohan\\AppData\\Local\\Temp\\ipykernel_10876\\3337730940.py:79: FutureWarning: The frame.append method is deprecated and will be removed from pandas in a future version. Use pandas.concat instead.\n",
      "  forecast_df = forecast_df.append({\n",
      "C:\\Users\\sohan\\anaconda3\\lib\\site-packages\\keras\\src\\layers\\rnn\\rnn.py:205: UserWarning: Do not pass an `input_shape`/`input_dim` argument to a layer. When using Sequential models, prefer using an `Input(shape)` object as the first layer in the model instead.\n",
      "  super().__init__(**kwargs)\n"
     ]
    },
    {
     "name": "stdout",
     "output_type": "stream",
     "text": [
      "\u001b[1m1/1\u001b[0m \u001b[32m━━━━━━━━━━━━━━━━━━━━\u001b[0m\u001b[37m\u001b[0m \u001b[1m0s\u001b[0m 90ms/step\n",
      "Forecasting for Material ID: 7413\n",
      "Forecasting with SimpleRNN model for Material ID: 7413\n"
     ]
    },
    {
     "name": "stderr",
     "output_type": "stream",
     "text": [
      "C:\\Users\\sohan\\AppData\\Local\\Temp\\ipykernel_10876\\3337730940.py:79: FutureWarning: The frame.append method is deprecated and will be removed from pandas in a future version. Use pandas.concat instead.\n",
      "  forecast_df = forecast_df.append({\n",
      "C:\\Users\\sohan\\anaconda3\\lib\\site-packages\\keras\\src\\layers\\rnn\\rnn.py:205: UserWarning: Do not pass an `input_shape`/`input_dim` argument to a layer. When using Sequential models, prefer using an `Input(shape)` object as the first layer in the model instead.\n",
      "  super().__init__(**kwargs)\n"
     ]
    },
    {
     "name": "stdout",
     "output_type": "stream",
     "text": [
      "\u001b[1m1/1\u001b[0m \u001b[32m━━━━━━━━━━━━━━━━━━━━\u001b[0m\u001b[37m\u001b[0m \u001b[1m0s\u001b[0m 81ms/step\n",
      "Forecasting with GRU model for Material ID: 7413\n"
     ]
    },
    {
     "name": "stderr",
     "output_type": "stream",
     "text": [
      "C:\\Users\\sohan\\AppData\\Local\\Temp\\ipykernel_10876\\3337730940.py:79: FutureWarning: The frame.append method is deprecated and will be removed from pandas in a future version. Use pandas.concat instead.\n",
      "  forecast_df = forecast_df.append({\n",
      "C:\\Users\\sohan\\anaconda3\\lib\\site-packages\\keras\\src\\layers\\rnn\\rnn.py:205: UserWarning: Do not pass an `input_shape`/`input_dim` argument to a layer. When using Sequential models, prefer using an `Input(shape)` object as the first layer in the model instead.\n",
      "  super().__init__(**kwargs)\n"
     ]
    },
    {
     "name": "stdout",
     "output_type": "stream",
     "text": [
      "\u001b[1m1/1\u001b[0m \u001b[32m━━━━━━━━━━━━━━━━━━━━\u001b[0m\u001b[37m\u001b[0m \u001b[1m0s\u001b[0m 111ms/step\n",
      "Forecasting with LSTM model for Material ID: 7413\n"
     ]
    },
    {
     "name": "stderr",
     "output_type": "stream",
     "text": [
      "C:\\Users\\sohan\\AppData\\Local\\Temp\\ipykernel_10876\\3337730940.py:79: FutureWarning: The frame.append method is deprecated and will be removed from pandas in a future version. Use pandas.concat instead.\n",
      "  forecast_df = forecast_df.append({\n",
      "C:\\Users\\sohan\\anaconda3\\lib\\site-packages\\keras\\src\\layers\\rnn\\rnn.py:205: UserWarning: Do not pass an `input_shape`/`input_dim` argument to a layer. When using Sequential models, prefer using an `Input(shape)` object as the first layer in the model instead.\n",
      "  super().__init__(**kwargs)\n"
     ]
    },
    {
     "name": "stdout",
     "output_type": "stream",
     "text": [
      "\u001b[1m1/1\u001b[0m \u001b[32m━━━━━━━━━━━━━━━━━━━━\u001b[0m\u001b[37m\u001b[0m \u001b[1m0s\u001b[0m 92ms/step\n",
      "Forecasting for Material ID: 11101\n",
      "Forecasting with SimpleRNN model for Material ID: 11101\n"
     ]
    },
    {
     "name": "stderr",
     "output_type": "stream",
     "text": [
      "C:\\Users\\sohan\\AppData\\Local\\Temp\\ipykernel_10876\\3337730940.py:79: FutureWarning: The frame.append method is deprecated and will be removed from pandas in a future version. Use pandas.concat instead.\n",
      "  forecast_df = forecast_df.append({\n",
      "C:\\Users\\sohan\\anaconda3\\lib\\site-packages\\keras\\src\\layers\\rnn\\rnn.py:205: UserWarning: Do not pass an `input_shape`/`input_dim` argument to a layer. When using Sequential models, prefer using an `Input(shape)` object as the first layer in the model instead.\n",
      "  super().__init__(**kwargs)\n"
     ]
    },
    {
     "name": "stdout",
     "output_type": "stream",
     "text": [
      "\u001b[1m1/1\u001b[0m \u001b[32m━━━━━━━━━━━━━━━━━━━━\u001b[0m\u001b[37m\u001b[0m \u001b[1m0s\u001b[0m 77ms/step\n",
      "Forecasting with GRU model for Material ID: 11101\n"
     ]
    },
    {
     "name": "stderr",
     "output_type": "stream",
     "text": [
      "C:\\Users\\sohan\\AppData\\Local\\Temp\\ipykernel_10876\\3337730940.py:79: FutureWarning: The frame.append method is deprecated and will be removed from pandas in a future version. Use pandas.concat instead.\n",
      "  forecast_df = forecast_df.append({\n",
      "C:\\Users\\sohan\\anaconda3\\lib\\site-packages\\keras\\src\\layers\\rnn\\rnn.py:205: UserWarning: Do not pass an `input_shape`/`input_dim` argument to a layer. When using Sequential models, prefer using an `Input(shape)` object as the first layer in the model instead.\n",
      "  super().__init__(**kwargs)\n"
     ]
    },
    {
     "name": "stdout",
     "output_type": "stream",
     "text": [
      "\u001b[1m1/1\u001b[0m \u001b[32m━━━━━━━━━━━━━━━━━━━━\u001b[0m\u001b[37m\u001b[0m \u001b[1m0s\u001b[0m 109ms/step\n",
      "Forecasting with LSTM model for Material ID: 11101\n"
     ]
    },
    {
     "name": "stderr",
     "output_type": "stream",
     "text": [
      "C:\\Users\\sohan\\AppData\\Local\\Temp\\ipykernel_10876\\3337730940.py:79: FutureWarning: The frame.append method is deprecated and will be removed from pandas in a future version. Use pandas.concat instead.\n",
      "  forecast_df = forecast_df.append({\n",
      "C:\\Users\\sohan\\anaconda3\\lib\\site-packages\\keras\\src\\layers\\rnn\\rnn.py:205: UserWarning: Do not pass an `input_shape`/`input_dim` argument to a layer. When using Sequential models, prefer using an `Input(shape)` object as the first layer in the model instead.\n",
      "  super().__init__(**kwargs)\n"
     ]
    },
    {
     "name": "stdout",
     "output_type": "stream",
     "text": [
      "\u001b[1m1/1\u001b[0m \u001b[32m━━━━━━━━━━━━━━━━━━━━\u001b[0m\u001b[37m\u001b[0m \u001b[1m0s\u001b[0m 163ms/step\n",
      "Forecasting for Material ID: 14426\n",
      "Forecasting with SimpleRNN model for Material ID: 14426\n"
     ]
    },
    {
     "name": "stderr",
     "output_type": "stream",
     "text": [
      "C:\\Users\\sohan\\AppData\\Local\\Temp\\ipykernel_10876\\3337730940.py:79: FutureWarning: The frame.append method is deprecated and will be removed from pandas in a future version. Use pandas.concat instead.\n",
      "  forecast_df = forecast_df.append({\n",
      "C:\\Users\\sohan\\anaconda3\\lib\\site-packages\\keras\\src\\layers\\rnn\\rnn.py:205: UserWarning: Do not pass an `input_shape`/`input_dim` argument to a layer. When using Sequential models, prefer using an `Input(shape)` object as the first layer in the model instead.\n",
      "  super().__init__(**kwargs)\n"
     ]
    },
    {
     "name": "stdout",
     "output_type": "stream",
     "text": [
      "\u001b[1m1/1\u001b[0m \u001b[32m━━━━━━━━━━━━━━━━━━━━\u001b[0m\u001b[37m\u001b[0m \u001b[1m0s\u001b[0m 82ms/step\n",
      "Forecasting with GRU model for Material ID: 14426\n"
     ]
    },
    {
     "name": "stderr",
     "output_type": "stream",
     "text": [
      "C:\\Users\\sohan\\AppData\\Local\\Temp\\ipykernel_10876\\3337730940.py:79: FutureWarning: The frame.append method is deprecated and will be removed from pandas in a future version. Use pandas.concat instead.\n",
      "  forecast_df = forecast_df.append({\n",
      "C:\\Users\\sohan\\anaconda3\\lib\\site-packages\\keras\\src\\layers\\rnn\\rnn.py:205: UserWarning: Do not pass an `input_shape`/`input_dim` argument to a layer. When using Sequential models, prefer using an `Input(shape)` object as the first layer in the model instead.\n",
      "  super().__init__(**kwargs)\n"
     ]
    },
    {
     "name": "stdout",
     "output_type": "stream",
     "text": [
      "\u001b[1m1/1\u001b[0m \u001b[32m━━━━━━━━━━━━━━━━━━━━\u001b[0m\u001b[37m\u001b[0m \u001b[1m0s\u001b[0m 100ms/step\n",
      "Forecasting with LSTM model for Material ID: 14426\n"
     ]
    },
    {
     "name": "stderr",
     "output_type": "stream",
     "text": [
      "C:\\Users\\sohan\\AppData\\Local\\Temp\\ipykernel_10876\\3337730940.py:79: FutureWarning: The frame.append method is deprecated and will be removed from pandas in a future version. Use pandas.concat instead.\n",
      "  forecast_df = forecast_df.append({\n",
      "C:\\Users\\sohan\\anaconda3\\lib\\site-packages\\keras\\src\\layers\\rnn\\rnn.py:205: UserWarning: Do not pass an `input_shape`/`input_dim` argument to a layer. When using Sequential models, prefer using an `Input(shape)` object as the first layer in the model instead.\n",
      "  super().__init__(**kwargs)\n"
     ]
    },
    {
     "name": "stdout",
     "output_type": "stream",
     "text": [
      "\u001b[1m1/1\u001b[0m \u001b[32m━━━━━━━━━━━━━━━━━━━━\u001b[0m\u001b[37m\u001b[0m \u001b[1m0s\u001b[0m 90ms/step\n",
      "Forecasting for Material ID: 15905\n",
      "Forecasting with SimpleRNN model for Material ID: 15905\n"
     ]
    },
    {
     "name": "stderr",
     "output_type": "stream",
     "text": [
      "C:\\Users\\sohan\\AppData\\Local\\Temp\\ipykernel_10876\\3337730940.py:79: FutureWarning: The frame.append method is deprecated and will be removed from pandas in a future version. Use pandas.concat instead.\n",
      "  forecast_df = forecast_df.append({\n",
      "C:\\Users\\sohan\\anaconda3\\lib\\site-packages\\keras\\src\\layers\\rnn\\rnn.py:205: UserWarning: Do not pass an `input_shape`/`input_dim` argument to a layer. When using Sequential models, prefer using an `Input(shape)` object as the first layer in the model instead.\n",
      "  super().__init__(**kwargs)\n"
     ]
    },
    {
     "name": "stdout",
     "output_type": "stream",
     "text": [
      "\u001b[1m1/1\u001b[0m \u001b[32m━━━━━━━━━━━━━━━━━━━━\u001b[0m\u001b[37m\u001b[0m \u001b[1m0s\u001b[0m 97ms/step\n",
      "Forecasting with GRU model for Material ID: 15905\n"
     ]
    },
    {
     "name": "stderr",
     "output_type": "stream",
     "text": [
      "C:\\Users\\sohan\\AppData\\Local\\Temp\\ipykernel_10876\\3337730940.py:79: FutureWarning: The frame.append method is deprecated and will be removed from pandas in a future version. Use pandas.concat instead.\n",
      "  forecast_df = forecast_df.append({\n",
      "C:\\Users\\sohan\\anaconda3\\lib\\site-packages\\keras\\src\\layers\\rnn\\rnn.py:205: UserWarning: Do not pass an `input_shape`/`input_dim` argument to a layer. When using Sequential models, prefer using an `Input(shape)` object as the first layer in the model instead.\n",
      "  super().__init__(**kwargs)\n"
     ]
    },
    {
     "name": "stdout",
     "output_type": "stream",
     "text": [
      "\u001b[1m1/1\u001b[0m \u001b[32m━━━━━━━━━━━━━━━━━━━━\u001b[0m\u001b[37m\u001b[0m \u001b[1m0s\u001b[0m 103ms/step\n",
      "Forecasting with LSTM model for Material ID: 15905\n"
     ]
    },
    {
     "name": "stderr",
     "output_type": "stream",
     "text": [
      "C:\\Users\\sohan\\AppData\\Local\\Temp\\ipykernel_10876\\3337730940.py:79: FutureWarning: The frame.append method is deprecated and will be removed from pandas in a future version. Use pandas.concat instead.\n",
      "  forecast_df = forecast_df.append({\n",
      "C:\\Users\\sohan\\anaconda3\\lib\\site-packages\\keras\\src\\layers\\rnn\\rnn.py:205: UserWarning: Do not pass an `input_shape`/`input_dim` argument to a layer. When using Sequential models, prefer using an `Input(shape)` object as the first layer in the model instead.\n",
      "  super().__init__(**kwargs)\n"
     ]
    },
    {
     "name": "stdout",
     "output_type": "stream",
     "text": [
      "\u001b[1m1/1\u001b[0m \u001b[32m━━━━━━━━━━━━━━━━━━━━\u001b[0m\u001b[37m\u001b[0m \u001b[1m0s\u001b[0m 96ms/step\n",
      "Forecasting for Material ID: 18176\n",
      "Forecasting with SimpleRNN model for Material ID: 18176\n"
     ]
    },
    {
     "name": "stderr",
     "output_type": "stream",
     "text": [
      "C:\\Users\\sohan\\AppData\\Local\\Temp\\ipykernel_10876\\3337730940.py:79: FutureWarning: The frame.append method is deprecated and will be removed from pandas in a future version. Use pandas.concat instead.\n",
      "  forecast_df = forecast_df.append({\n",
      "C:\\Users\\sohan\\anaconda3\\lib\\site-packages\\keras\\src\\layers\\rnn\\rnn.py:205: UserWarning: Do not pass an `input_shape`/`input_dim` argument to a layer. When using Sequential models, prefer using an `Input(shape)` object as the first layer in the model instead.\n",
      "  super().__init__(**kwargs)\n"
     ]
    },
    {
     "name": "stdout",
     "output_type": "stream",
     "text": [
      "\u001b[1m1/1\u001b[0m \u001b[32m━━━━━━━━━━━━━━━━━━━━\u001b[0m\u001b[37m\u001b[0m \u001b[1m0s\u001b[0m 164ms/step\n",
      "Forecasting with GRU model for Material ID: 18176\n"
     ]
    },
    {
     "name": "stderr",
     "output_type": "stream",
     "text": [
      "C:\\Users\\sohan\\AppData\\Local\\Temp\\ipykernel_10876\\3337730940.py:79: FutureWarning: The frame.append method is deprecated and will be removed from pandas in a future version. Use pandas.concat instead.\n",
      "  forecast_df = forecast_df.append({\n",
      "C:\\Users\\sohan\\anaconda3\\lib\\site-packages\\keras\\src\\layers\\rnn\\rnn.py:205: UserWarning: Do not pass an `input_shape`/`input_dim` argument to a layer. When using Sequential models, prefer using an `Input(shape)` object as the first layer in the model instead.\n",
      "  super().__init__(**kwargs)\n"
     ]
    },
    {
     "name": "stdout",
     "output_type": "stream",
     "text": [
      "\u001b[1m1/1\u001b[0m \u001b[32m━━━━━━━━━━━━━━━━━━━━\u001b[0m\u001b[37m\u001b[0m \u001b[1m0s\u001b[0m 117ms/step\n",
      "Forecasting with LSTM model for Material ID: 18176\n"
     ]
    },
    {
     "name": "stderr",
     "output_type": "stream",
     "text": [
      "C:\\Users\\sohan\\AppData\\Local\\Temp\\ipykernel_10876\\3337730940.py:79: FutureWarning: The frame.append method is deprecated and will be removed from pandas in a future version. Use pandas.concat instead.\n",
      "  forecast_df = forecast_df.append({\n",
      "C:\\Users\\sohan\\anaconda3\\lib\\site-packages\\keras\\src\\layers\\rnn\\rnn.py:205: UserWarning: Do not pass an `input_shape`/`input_dim` argument to a layer. When using Sequential models, prefer using an `Input(shape)` object as the first layer in the model instead.\n",
      "  super().__init__(**kwargs)\n"
     ]
    },
    {
     "name": "stdout",
     "output_type": "stream",
     "text": [
      "\u001b[1m1/1\u001b[0m \u001b[32m━━━━━━━━━━━━━━━━━━━━\u001b[0m\u001b[37m\u001b[0m \u001b[1m0s\u001b[0m 97ms/step\n",
      "Forecasting for Material ID: 18997\n",
      "Forecasting with SimpleRNN model for Material ID: 18997\n"
     ]
    },
    {
     "name": "stderr",
     "output_type": "stream",
     "text": [
      "C:\\Users\\sohan\\AppData\\Local\\Temp\\ipykernel_10876\\3337730940.py:79: FutureWarning: The frame.append method is deprecated and will be removed from pandas in a future version. Use pandas.concat instead.\n",
      "  forecast_df = forecast_df.append({\n",
      "C:\\Users\\sohan\\anaconda3\\lib\\site-packages\\keras\\src\\layers\\rnn\\rnn.py:205: UserWarning: Do not pass an `input_shape`/`input_dim` argument to a layer. When using Sequential models, prefer using an `Input(shape)` object as the first layer in the model instead.\n",
      "  super().__init__(**kwargs)\n"
     ]
    },
    {
     "name": "stdout",
     "output_type": "stream",
     "text": [
      "\u001b[1m1/1\u001b[0m \u001b[32m━━━━━━━━━━━━━━━━━━━━\u001b[0m\u001b[37m\u001b[0m \u001b[1m0s\u001b[0m 148ms/step\n",
      "Forecasting with GRU model for Material ID: 18997\n"
     ]
    },
    {
     "name": "stderr",
     "output_type": "stream",
     "text": [
      "C:\\Users\\sohan\\AppData\\Local\\Temp\\ipykernel_10876\\3337730940.py:79: FutureWarning: The frame.append method is deprecated and will be removed from pandas in a future version. Use pandas.concat instead.\n",
      "  forecast_df = forecast_df.append({\n",
      "C:\\Users\\sohan\\anaconda3\\lib\\site-packages\\keras\\src\\layers\\rnn\\rnn.py:205: UserWarning: Do not pass an `input_shape`/`input_dim` argument to a layer. When using Sequential models, prefer using an `Input(shape)` object as the first layer in the model instead.\n",
      "  super().__init__(**kwargs)\n"
     ]
    },
    {
     "name": "stdout",
     "output_type": "stream",
     "text": [
      "\u001b[1m1/1\u001b[0m \u001b[32m━━━━━━━━━━━━━━━━━━━━\u001b[0m\u001b[37m\u001b[0m \u001b[1m0s\u001b[0m 118ms/step\n",
      "Forecasting with LSTM model for Material ID: 18997\n"
     ]
    },
    {
     "name": "stderr",
     "output_type": "stream",
     "text": [
      "C:\\Users\\sohan\\AppData\\Local\\Temp\\ipykernel_10876\\3337730940.py:79: FutureWarning: The frame.append method is deprecated and will be removed from pandas in a future version. Use pandas.concat instead.\n",
      "  forecast_df = forecast_df.append({\n",
      "C:\\Users\\sohan\\anaconda3\\lib\\site-packages\\keras\\src\\layers\\rnn\\rnn.py:205: UserWarning: Do not pass an `input_shape`/`input_dim` argument to a layer. When using Sequential models, prefer using an `Input(shape)` object as the first layer in the model instead.\n",
      "  super().__init__(**kwargs)\n"
     ]
    },
    {
     "name": "stdout",
     "output_type": "stream",
     "text": [
      "\u001b[1m1/1\u001b[0m \u001b[32m━━━━━━━━━━━━━━━━━━━━\u001b[0m\u001b[37m\u001b[0m \u001b[1m0s\u001b[0m 111ms/step\n",
      "Forecasting for Material ID: 22297\n",
      "Forecasting with SimpleRNN model for Material ID: 22297\n"
     ]
    },
    {
     "name": "stderr",
     "output_type": "stream",
     "text": [
      "C:\\Users\\sohan\\AppData\\Local\\Temp\\ipykernel_10876\\3337730940.py:79: FutureWarning: The frame.append method is deprecated and will be removed from pandas in a future version. Use pandas.concat instead.\n",
      "  forecast_df = forecast_df.append({\n",
      "C:\\Users\\sohan\\anaconda3\\lib\\site-packages\\keras\\src\\layers\\rnn\\rnn.py:205: UserWarning: Do not pass an `input_shape`/`input_dim` argument to a layer. When using Sequential models, prefer using an `Input(shape)` object as the first layer in the model instead.\n",
      "  super().__init__(**kwargs)\n"
     ]
    },
    {
     "name": "stdout",
     "output_type": "stream",
     "text": [
      "\u001b[1m1/1\u001b[0m \u001b[32m━━━━━━━━━━━━━━━━━━━━\u001b[0m\u001b[37m\u001b[0m \u001b[1m0s\u001b[0m 80ms/step\n",
      "Forecasting with GRU model for Material ID: 22297\n"
     ]
    },
    {
     "name": "stderr",
     "output_type": "stream",
     "text": [
      "C:\\Users\\sohan\\AppData\\Local\\Temp\\ipykernel_10876\\3337730940.py:79: FutureWarning: The frame.append method is deprecated and will be removed from pandas in a future version. Use pandas.concat instead.\n",
      "  forecast_df = forecast_df.append({\n",
      "C:\\Users\\sohan\\anaconda3\\lib\\site-packages\\keras\\src\\layers\\rnn\\rnn.py:205: UserWarning: Do not pass an `input_shape`/`input_dim` argument to a layer. When using Sequential models, prefer using an `Input(shape)` object as the first layer in the model instead.\n",
      "  super().__init__(**kwargs)\n"
     ]
    },
    {
     "name": "stdout",
     "output_type": "stream",
     "text": [
      "\u001b[1m1/1\u001b[0m \u001b[32m━━━━━━━━━━━━━━━━━━━━\u001b[0m\u001b[37m\u001b[0m \u001b[1m0s\u001b[0m 114ms/step\n",
      "Forecasting with LSTM model for Material ID: 22297\n"
     ]
    },
    {
     "name": "stderr",
     "output_type": "stream",
     "text": [
      "C:\\Users\\sohan\\AppData\\Local\\Temp\\ipykernel_10876\\3337730940.py:79: FutureWarning: The frame.append method is deprecated and will be removed from pandas in a future version. Use pandas.concat instead.\n",
      "  forecast_df = forecast_df.append({\n",
      "C:\\Users\\sohan\\anaconda3\\lib\\site-packages\\keras\\src\\layers\\rnn\\rnn.py:205: UserWarning: Do not pass an `input_shape`/`input_dim` argument to a layer. When using Sequential models, prefer using an `Input(shape)` object as the first layer in the model instead.\n",
      "  super().__init__(**kwargs)\n"
     ]
    },
    {
     "name": "stdout",
     "output_type": "stream",
     "text": [
      "\u001b[1m1/1\u001b[0m \u001b[32m━━━━━━━━━━━━━━━━━━━━\u001b[0m\u001b[37m\u001b[0m \u001b[1m0s\u001b[0m 100ms/step\n",
      "   Time id Material id      Model  Actual Quantity  Forecasted        MAE  \\\n",
      "0       27        1708  SimpleRNN             13.0   17.091295   4.091295   \n",
      "1       27        1708        GRU             13.0   15.854448   2.854448   \n",
      "2       27        1708       LSTM             13.0   17.063396   4.063396   \n",
      "3       27        2425  SimpleRNN             66.0   64.465958   1.534042   \n",
      "4       27        2425        GRU             66.0   59.414330   6.585670   \n",
      "5       27        2425       LSTM             66.0   56.494717   9.505283   \n",
      "6       27        6324  SimpleRNN             12.0   10.832581   1.167419   \n",
      "7       27        6324        GRU             12.0    9.729645   2.270355   \n",
      "8       27        6324       LSTM             12.0    9.282483   2.717517   \n",
      "9       27        6587  SimpleRNN            142.0  128.172928  13.827072   \n",
      "10      27        6587        GRU            142.0  123.837891  18.162109   \n",
      "11      27        6587       LSTM            142.0  125.702530  16.297470   \n",
      "12      27        7385  SimpleRNN             81.0   77.152489   3.847511   \n",
      "13      27        7385        GRU             81.0   62.124992  18.875008   \n",
      "14      27        7385       LSTM             81.0   60.463097  20.536903   \n",
      "15      27        7413  SimpleRNN             98.0   83.289719  14.710281   \n",
      "16      27        7413        GRU             98.0   88.472015   9.527985   \n",
      "17      27        7413       LSTM             98.0   81.449333  16.550667   \n",
      "18      27       11101  SimpleRNN             16.0   15.388352   0.611648   \n",
      "19      27       11101        GRU             16.0   11.352350   4.647650   \n",
      "20      27       11101       LSTM             16.0   10.212387   5.787613   \n",
      "21      27       14426  SimpleRNN             16.0   16.643229   0.643229   \n",
      "22      27       14426        GRU             16.0   16.432402   0.432402   \n",
      "23      27       14426       LSTM             16.0   16.402966   0.402966   \n",
      "24      27       15905  SimpleRNN             12.0   11.145100   0.854900   \n",
      "25      27       15905        GRU             12.0    9.118345   2.881655   \n",
      "26      27       15905       LSTM             12.0    8.949240   3.050760   \n",
      "27      27       18176  SimpleRNN              8.0    8.033921   0.033921   \n",
      "28      27       18176        GRU              8.0    7.852365   0.147635   \n",
      "29      27       18176       LSTM              8.0    7.885808   0.114192   \n",
      "30      27       18997  SimpleRNN              7.0    6.850253   0.149747   \n",
      "31      27       18997        GRU              7.0    4.935478   2.064522   \n",
      "32      27       18997       LSTM              7.0    4.902617   2.097383   \n",
      "33      27       22297  SimpleRNN             11.0    9.990279   1.009721   \n",
      "34      27       22297        GRU             11.0    9.155550   1.844450   \n",
      "35      27       22297       LSTM             11.0    6.869772   4.130228   \n",
      "\n",
      "         MAPE        R2  \n",
      "0   31.471502  0.900954  \n",
      "1   21.957295  0.951788  \n",
      "2   31.256896  0.902301  \n",
      "3    2.324307  0.999460  \n",
      "4    9.978289  0.990043  \n",
      "5   14.401944  0.979258  \n",
      "6    9.728495  0.990536  \n",
      "7   18.919627  0.964205  \n",
      "8   22.645974  0.948716  \n",
      "9    9.737375  0.990518  \n",
      "10  12.790218  0.983641  \n",
      "11  11.477092  0.986828  \n",
      "12   4.750014  0.997744  \n",
      "13  23.302479  0.945699  \n",
      "14  25.354202  0.935716  \n",
      "15  15.010491  0.977469  \n",
      "16   9.722433  0.990547  \n",
      "17  16.888436  0.971478  \n",
      "18   3.822798  0.998539  \n",
      "19  29.047811  0.915622  \n",
      "20  36.172581  0.869154  \n",
      "21   4.020178  0.998384  \n",
      "22   2.702510  0.999270  \n",
      "23   2.518535  0.999366  \n",
      "24   7.124170  0.994925  \n",
      "25  24.013789  0.942334  \n",
      "26  25.423002  0.935367  \n",
      "27   0.424016  0.999982  \n",
      "28   1.845431  0.999659  \n",
      "29   1.427400  0.999796  \n",
      "30   2.139241  0.999542  \n",
      "31  29.493175  0.913015  \n",
      "32  29.962608  0.910224  \n",
      "33   9.179280  0.991574  \n",
      "34  16.767727  0.971884  \n",
      "35  37.547523  0.859018  \n"
     ]
    },
    {
     "name": "stderr",
     "output_type": "stream",
     "text": [
      "C:\\Users\\sohan\\AppData\\Local\\Temp\\ipykernel_10876\\3337730940.py:79: FutureWarning: The frame.append method is deprecated and will be removed from pandas in a future version. Use pandas.concat instead.\n",
      "  forecast_df = forecast_df.append({\n"
     ]
    }
   ],
   "source": [
    "import pandas as pd\n",
    "import numpy as np\n",
    "from sklearn.preprocessing import MinMaxScaler\n",
    "from tensorflow.keras.models import Sequential\n",
    "from tensorflow.keras.layers import SimpleRNN, GRU, LSTM, Dense\n",
    "from sklearn.metrics import mean_absolute_error, mean_squared_error\n",
    "\n",
    "# Function to build and train RNN models\n",
    "def build_and_train_model(model_type, X_train, y_train):\n",
    "    model = Sequential()\n",
    "    if model_type == 'SimpleRNN':\n",
    "        model.add(SimpleRNN(units=64, input_shape=(X_train.shape[1], X_train.shape[2])))\n",
    "    elif model_type == 'GRU':\n",
    "        model.add(GRU(units=64, input_shape=(X_train.shape[1], X_train.shape[2])))\n",
    "    elif model_type == 'LSTM':\n",
    "        model.add(LSTM(units=64, input_shape=(X_train.shape[1], X_train.shape[2])))\n",
    "    model.add(Dense(1))\n",
    "    model.compile(optimizer='adam', loss='mse')\n",
    "    model.fit(X_train, y_train, epochs=100, batch_size=32, verbose=0)\n",
    "    return model\n",
    "\n",
    "# Function to calculate MAPE\n",
    "def mean_absolute_percentage_error(y_true, y_pred):\n",
    "    y_true, y_pred = np.array(y_true), np.array(y_pred)\n",
    "    return np.mean(np.abs((y_true - y_pred) / y_true)) * 100\n",
    "\n",
    "# Initialize an empty DataFrame to store the forecast results\n",
    "forecast_df = pd.DataFrame(columns=['Time id', 'Material id', 'Model', 'Actual Quantity', 'Forecasted', 'MAE', 'MAPE', 'R2'])\n",
    "\n",
    "# Iterate over each material id\n",
    "for material_id in df['Material_Id'].unique():\n",
    "    print(f\"Forecasting for Material ID: {material_id}\")\n",
    "\n",
    "    # Filter data for the current material id\n",
    "    material_data = df[df['Material_Id'] == material_id]\n",
    "\n",
    "    # Split data into train and test sets\n",
    "    train = material_data[(material_data['Time id'] >= 13) & (material_data['Time id'] <= 26)]\n",
    "    test = material_data[material_data['Time id'] == 27]\n",
    "\n",
    "    # Check if both train and test sets have at least one sample\n",
    "    if len(train) == 0 or len(test) == 0:\n",
    "        print(f\"Skipping Material ID: {material_id} due to empty train or test set.\")\n",
    "        continue\n",
    "\n",
    "    # Scale the data\n",
    "    scaler = MinMaxScaler()\n",
    "    train_scaled = scaler.fit_transform(train[['Quantity']])\n",
    "    test_scaled = scaler.transform(test[['Quantity']])\n",
    "\n",
    "    # Reshape input to be [samples, time steps, features]\n",
    "    X_train = np.reshape(train_scaled, (train_scaled.shape[0], 1, 1))\n",
    "    X_test = np.reshape(test_scaled, (test_scaled.shape[0], 1, 1))\n",
    "    y_train = train_scaled[:, 0]  # Target variable is Quantity\n",
    "\n",
    "    # Iterate over each model type\n",
    "    for model_type in ['SimpleRNN', 'GRU', 'LSTM']:\n",
    "        print(f\"Forecasting with {model_type} model for Material ID: {material_id}\")\n",
    "\n",
    "        # Build and train model\n",
    "        model = build_and_train_model(model_type, X_train, y_train)\n",
    "\n",
    "        # Forecast for the test set\n",
    "        forecasted_values = model.predict(X_test)\n",
    "        forecasted_values_inv = scaler.inverse_transform(forecasted_values)\n",
    "\n",
    "        # Get actual quantity for the test set\n",
    "        actual_quantity = test['Quantity'].values[0]\n",
    "\n",
    "        # Calculate MAE and MAPE\n",
    "        mae = mean_absolute_error([actual_quantity], forecasted_values_inv[0])\n",
    "        mape = mean_absolute_percentage_error([actual_quantity], forecasted_values_inv[0])\n",
    "\n",
    "        # Calculate R²\n",
    "        mse = mean_squared_error([actual_quantity], forecasted_values_inv[0])\n",
    "        r2 = 1 - (mse / (actual_quantity ** 2))  # Simplified R² calculation\n",
    "\n",
    "        # Append results to the dataframe\n",
    "        forecast_df = forecast_df.append({\n",
    "            'Time id': 27,\n",
    "            'Material id': material_id,\n",
    "            'Model': model_type,\n",
    "            'Actual Quantity': actual_quantity,\n",
    "            'Forecasted': forecasted_values_inv[0][0],\n",
    "            'MAE': mae,\n",
    "            'MAPE': mape,\n",
    "            'R2': r2\n",
    "        }, ignore_index=True)\n",
    "\n",
    "# Display the forecast results dataframe\n",
    "print(forecast_df)\n"
   ]
  },
  {
   "cell_type": "code",
   "execution_count": null,
   "id": "1455bf6b",
   "metadata": {},
   "outputs": [],
   "source": []
  },
  {
   "cell_type": "code",
   "execution_count": null,
   "id": "853de4f3",
   "metadata": {},
   "outputs": [],
   "source": []
  },
  {
   "cell_type": "code",
   "execution_count": null,
   "id": "87ec728c",
   "metadata": {},
   "outputs": [],
   "source": [
    "\n",
    "\n"
   ]
  },
  {
   "cell_type": "code",
   "execution_count": null,
   "id": "baa6d4e9",
   "metadata": {},
   "outputs": [],
   "source": []
  },
  {
   "cell_type": "code",
   "execution_count": 5,
   "id": "c25de4b0",
   "metadata": {},
   "outputs": [
    {
     "name": "stdout",
     "output_type": "stream",
     "text": [
      "Overall scores for GRU model:\n",
      "Overall MAE: 5.857824047406514\n",
      "Overall MAPE: 16.711732051780555\n",
      "Overall R2: 0.9639757261734371\n",
      "\n",
      "Overall scores for LSTM model:\n",
      "Overall MAE: 7.104531486829122\n",
      "Overall MAPE: 21.256349344006498\n",
      "Overall R2: 0.9414352698656862\n",
      "\n",
      "Overall scores for SimpleRNN model:\n",
      "Overall MAE: 3.54006560643514\n",
      "Overall MAPE: 8.310988837735076\n",
      "Overall R2: 0.9866354989236839\n",
      "\n"
     ]
    }
   ],
   "source": [
    "# Group forecast results by model\n",
    "grouped_results = forecast_df.groupby('Model')\n",
    "\n",
    "# Calculate overall MAE, MAPE, and R2 scores for each model\n",
    "for model_type, group in grouped_results:\n",
    "    overall_mae = group['MAE'].mean()\n",
    "    overall_mape = group['MAPE'].mean()\n",
    "    overall_r2 = group['R2'].mean()\n",
    "    \n",
    "    # Print the overall scores for the current model\n",
    "    print(f\"Overall scores for {model_type} model:\")\n",
    "    print(\"Overall MAE:\", overall_mae)\n",
    "    print(\"Overall MAPE:\", overall_mape)\n",
    "    print(\"Overall R2:\", overall_r2)\n",
    "    print()"
   ]
  },
  {
   "cell_type": "code",
   "execution_count": null,
   "id": "1c05e7ff",
   "metadata": {},
   "outputs": [],
   "source": []
  },
  {
   "cell_type": "code",
   "execution_count": null,
   "id": "4d3c6ace",
   "metadata": {},
   "outputs": [],
   "source": []
  },
  {
   "cell_type": "code",
   "execution_count": 6,
   "id": "4a736bf1",
   "metadata": {},
   "outputs": [
    {
     "data": {
      "image/png": "[encoded data removed]",
      "text/plain": [
       "<Figure size 1500x800 with 1 Axes>"
      ]
     },
     "metadata": {},
     "output_type": "display_data"
    }
   ],
   "source": [
    "import matplotlib.pyplot as plt\n",
    "\n",
    "# Filter df for Time id 27\n",
    "actual_quantities = df[df['Time id'] == 15][['Material_Id', 'Quantity']]\n",
    "actual_quantities = actual_quantities.set_index('Material_Id')\n",
    "\n",
    "# Filter forecast_df for Time id 27 and SimpleRNN model\n",
    "forecasted_quantities = forecast_df[(forecast_df['Time id'] == 27) & (forecast_df['Model'] == 'SimpleRNN')][['Material id', 'Forecasted']]\n",
    "forecasted_quantities = forecasted_quantities.rename(columns={'Material id': 'Material_Id'})\n",
    "forecasted_quantities = forecasted_quantities.set_index('Material_Id')\n",
    "\n",
    "# Merge actual and forecasted quantities\n",
    "merged_df = actual_quantities.join(forecasted_quantities, how='inner', lsuffix='_actual', rsuffix='_forecasted')\n",
    "\n",
    "# Plotting\n",
    "merged_df.plot(kind='bar', figsize=(15, 8))\n",
    "plt.xlabel('Material ID')\n",
    "plt.ylabel('Quantity')\n",
    "plt.title('Comparison of Actual Quantity at Time id 15 and Forecasted Quantity at Time id 27 (SimpleRNN Model)')\n",
    "plt.xticks(rotation=45)\n",
    "plt.legend(['Actual Quantity (Time id 15)', 'Forecasted Quantity (Time id 27)'])\n",
    "plt.tight_layout()\n",
    "plt.show()"
   ]
  },
  {
   "cell_type": "code",
   "execution_count": 7,
   "id": "ac53202f",
   "metadata": {},
   "outputs": [
    {
     "data": {
      "image/png": "[encoded data removed]",
      "text/plain": [
       "<Figure size 1500x800 with 1 Axes>"
      ]
     },
     "metadata": {},
     "output_type": "display_data"
    }
   ],
   "source": [
    "import matplotlib.pyplot as plt\n",
    "\n",
    "# Filter df for Time id 15\n",
    "actual_quantities_15 = df[df['Time id'] == 15][['Material_Id', 'Quantity']]\n",
    "actual_quantities_15 = actual_quantities_15.set_index('Material_Id')\n",
    "\n",
    "# Filter df for Time id 27\n",
    "actual_quantities_27 = df[df['Time id'] == 27][['Material_Id', 'Quantity']]\n",
    "actual_quantities_27 = actual_quantities_27.set_index('Material_Id')\n",
    "\n",
    "# Filter forecast_df for Time id 27 and SimpleRNN model\n",
    "forecasted_quantities = forecast_df[(forecast_df['Time id'] == 27) & (forecast_df['Model'] == 'SimpleRNN')][['Material id', 'Forecasted']]\n",
    "forecasted_quantities = forecasted_quantities.rename(columns={'Material id': 'Material_Id'})\n",
    "forecasted_quantities = forecasted_quantities.set_index('Material_Id')\n",
    "\n",
    "# Merge actual quantities at Time id 15, Time id 27, and forecasted quantities\n",
    "merged_df = actual_quantities_15.join(actual_quantities_27, how='inner', lsuffix='_actual_15', rsuffix='_actual_27')\n",
    "merged_df = merged_df.join(forecasted_quantities, how='inner')\n",
    "\n",
    "# Plotting\n",
    "merged_df.plot(kind='bar', figsize=(15, 8))\n",
    "plt.xlabel('Material ID')\n",
    "plt.ylabel('Quantity')\n",
    "plt.title('Comparison of Actual Quantity at Time id 15, Actual Quantity at Time id 27, and Forecasted Quantity at Time id 27 (SimpleRNN Model)')\n",
    "plt.xticks(rotation=45)\n",
    "plt.legend(['Actual Quantity (Time id 15)', 'Actual Quantity (Time id 27)', 'Forecasted Quantity (Time id 27)'])\n",
    "plt.tight_layout()\n",
    "plt.show()\n"
   ]
  },
  {
   "cell_type": "code",
   "execution_count": null,
   "id": "0f24f8b7",
   "metadata": {},
   "outputs": [],
   "source": []
  }
 ],
 "metadata": {
  "kernelspec": {
   "display_name": "Python 3 (ipykernel)",
   "language": "python",
   "name": "python3"
  },
  "language_info": {
   "codemirror_mode": {
    "name": "ipython",
    "version": 3
   },
   "file_extension": ".py",
   "mimetype": "text/x-python",
   "name": "python",
   "nbconvert_exporter": "python",
   "pygments_lexer": "ipython3",
   "version": "3.10.9"
  }
 },
 "nbformat": 4,
 "nbformat_minor": 5
}
