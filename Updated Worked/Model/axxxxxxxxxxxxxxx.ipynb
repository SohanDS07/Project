{
 "cells": [
  {
   "cell_type": "code",
   "execution_count": 1,
   "id": "a16a97b6",
   "metadata": {},
   "outputs": [],
   "source": [
    "import pandas as pd\n",
    "import numpy as np\n",
    "\n",
    "\n",
    "# for Modelling\n",
    "from sklearn.preprocessing import MinMaxScaler\n",
    "from tensorflow.keras.models import Sequential\n",
    "from tensorflow.keras.layers import SimpleRNN, GRU, LSTM, Dense\n",
    "\n",
    "from tensorflow.keras.models import load_model\n",
    "\n",
    "# for Evaluation\n",
    "from sklearn.metrics import r2_score, mean_absolute_error, mean_squared_error\n",
    "from sklearn.metrics import mean_absolute_error, r2_score\n"
   ]
  },
  {
   "cell_type": "code",
   "execution_count": 2,
   "id": "452a581b",
   "metadata": {},
   "outputs": [
    {
     "data": {
      "text/html": [
       "<div>\n",
       "<style scoped>\n",
       "    .dataframe tbody tr th:only-of-type {\n",
       "        vertical-align: middle;\n",
       "    }\n",
       "\n",
       "    .dataframe tbody tr th {\n",
       "        vertical-align: top;\n",
       "    }\n",
       "\n",
       "    .dataframe thead th {\n",
       "        text-align: right;\n",
       "    }\n",
       "</style>\n",
       "<table border=\"1\" class=\"dataframe\">\n",
       "  <thead>\n",
       "    <tr style=\"text-align: right;\">\n",
       "      <th></th>\n",
       "      <th>Time id</th>\n",
       "      <th>Material</th>\n",
       "      <th>Quantity</th>\n",
       "      <th>Total_Value</th>\n",
       "      <th>Material_Id</th>\n",
       "    </tr>\n",
       "  </thead>\n",
       "  <tbody>\n",
       "    <tr>\n",
       "      <th>0</th>\n",
       "      <td>1</td>\n",
       "      <td>C37-200258</td>\n",
       "      <td>35</td>\n",
       "      <td>392625.71</td>\n",
       "      <td>1708</td>\n",
       "    </tr>\n",
       "    <tr>\n",
       "      <th>1</th>\n",
       "      <td>1</td>\n",
       "      <td>C65-200280</td>\n",
       "      <td>45</td>\n",
       "      <td>108333.72</td>\n",
       "      <td>2425</td>\n",
       "    </tr>\n",
       "    <tr>\n",
       "      <th>2</th>\n",
       "      <td>1</td>\n",
       "      <td>S02-060397</td>\n",
       "      <td>6</td>\n",
       "      <td>94652.74</td>\n",
       "      <td>6324</td>\n",
       "    </tr>\n",
       "    <tr>\n",
       "      <th>3</th>\n",
       "      <td>1</td>\n",
       "      <td>S06-310007</td>\n",
       "      <td>82</td>\n",
       "      <td>88564.92</td>\n",
       "      <td>6587</td>\n",
       "    </tr>\n",
       "    <tr>\n",
       "      <th>4</th>\n",
       "      <td>1</td>\n",
       "      <td>S10-130653</td>\n",
       "      <td>32</td>\n",
       "      <td>414240.00</td>\n",
       "      <td>7385</td>\n",
       "    </tr>\n",
       "    <tr>\n",
       "      <th>...</th>\n",
       "      <td>...</td>\n",
       "      <td>...</td>\n",
       "      <td>...</td>\n",
       "      <td>...</td>\n",
       "      <td>...</td>\n",
       "    </tr>\n",
       "    <tr>\n",
       "      <th>373</th>\n",
       "      <td>38</td>\n",
       "      <td>S06-310007</td>\n",
       "      <td>198</td>\n",
       "      <td>175678.84</td>\n",
       "      <td>6587</td>\n",
       "    </tr>\n",
       "    <tr>\n",
       "      <th>374</th>\n",
       "      <td>38</td>\n",
       "      <td>S10-130653</td>\n",
       "      <td>97</td>\n",
       "      <td>740962.30</td>\n",
       "      <td>7385</td>\n",
       "    </tr>\n",
       "    <tr>\n",
       "      <th>375</th>\n",
       "      <td>38</td>\n",
       "      <td>S10-130781</td>\n",
       "      <td>132</td>\n",
       "      <td>546171.00</td>\n",
       "      <td>7413</td>\n",
       "    </tr>\n",
       "    <tr>\n",
       "      <th>376</th>\n",
       "      <td>38</td>\n",
       "      <td>S12-060214</td>\n",
       "      <td>25</td>\n",
       "      <td>416336.42</td>\n",
       "      <td>14426</td>\n",
       "    </tr>\n",
       "    <tr>\n",
       "      <th>377</th>\n",
       "      <td>38</td>\n",
       "      <td>S12-160332</td>\n",
       "      <td>10</td>\n",
       "      <td>262214.42</td>\n",
       "      <td>15905</td>\n",
       "    </tr>\n",
       "  </tbody>\n",
       "</table>\n",
       "<p>378 rows × 5 columns</p>\n",
       "</div>"
      ],
      "text/plain": [
       "     Time id    Material  Quantity  Total_Value  Material_Id\n",
       "0          1  C37-200258        35    392625.71         1708\n",
       "1          1  C65-200280        45    108333.72         2425\n",
       "2          1  S02-060397         6     94652.74         6324\n",
       "3          1  S06-310007        82     88564.92         6587\n",
       "4          1  S10-130653        32    414240.00         7385\n",
       "..       ...         ...       ...          ...          ...\n",
       "373       38  S06-310007       198    175678.84         6587\n",
       "374       38  S10-130653        97    740962.30         7385\n",
       "375       38  S10-130781       132    546171.00         7413\n",
       "376       38  S12-060214        25    416336.42        14426\n",
       "377       38  S12-160332        10    262214.42        15905\n",
       "\n",
       "[378 rows x 5 columns]"
      ]
     },
     "execution_count": 2,
     "metadata": {},
     "output_type": "execute_result"
    }
   ],
   "source": [
    "df= pd.read_csv('ax_t1.csv')\n",
    "df"
   ]
  },
  {
   "cell_type": "code",
   "execution_count": null,
   "id": "edd82881",
   "metadata": {},
   "outputs": [],
   "source": []
  },
  {
   "cell_type": "code",
   "execution_count": null,
   "id": "481a88f4",
   "metadata": {},
   "outputs": [],
   "source": []
  },
  {
   "cell_type": "code",
   "execution_count": 3,
   "id": "12093c7b",
   "metadata": {},
   "outputs": [
    {
     "name": "stdout",
     "output_type": "stream",
     "text": [
      "     Time id          Material  Quantity  Total_Value  Material_Id\n",
      "357       37  A11-14S-0113-SET         3    181220.99        18176\n",
      "358       37  A30-14S-0131-SET        13    935101.61        18997\n",
      "359       37        C37-200258        16    228653.01         1708\n",
      "360       37        C65-200280        29     96347.63         2425\n",
      "361       37        S02-060397         4     60536.04         6324\n",
      "362       37        S02-060529        18    369281.80        11101\n",
      "363       37        S06-310007       161    115333.28         6587\n",
      "364       37        S10-130653       121    921052.56         7385\n",
      "365       37        S10-130781       144    591126.30         7413\n",
      "366       37        S12-060214        36    607009.96        14426\n",
      "367       38  A11-14S-0113-SET         8    490059.19        18176\n",
      "368       38  A30-14S-0131-SET        26   1870716.06        18997\n",
      "369       38        C37-200258        11    156982.44         1708\n",
      "370       38        C65-200280        48    157149.14         2425\n",
      "371       38        S02-060397         2     30268.02         6324\n",
      "372       38        S02-060529        12    246187.86        11101\n",
      "373       38        S06-310007       198    175678.84         6587\n",
      "374       38        S10-130653        97    740962.30         7385\n",
      "375       38        S10-130781       132    546171.00         7413\n",
      "376       38        S12-060214        25    416336.42        14426\n",
      "377       38        S12-160332        10    262214.42        15905\n"
     ]
    }
   ],
   "source": [
    "import pandas as pd\n",
    "\n",
    "# Assuming your DataFrame is named df\n",
    "\n",
    "# Filter the DataFrame for Time ids 37 and 38\n",
    "filtered_df = df[df['Time id'].isin([37, 38])]\n",
    "\n",
    "# Display the resulting DataFrame\n",
    "print(filtered_df)\n"
   ]
  },
  {
   "cell_type": "code",
   "execution_count": null,
   "id": "2b5e1e15",
   "metadata": {},
   "outputs": [],
   "source": []
  },
  {
   "cell_type": "code",
   "execution_count": null,
   "id": "62a4c41d",
   "metadata": {},
   "outputs": [],
   "source": []
  },
  {
   "cell_type": "code",
   "execution_count": 4,
   "id": "c5afe2ea",
   "metadata": {
    "scrolled": true
   },
   "outputs": [
    {
     "name": "stdout",
     "output_type": "stream",
     "text": [
      "Evaluating models for Material ID: 1708\n",
      "Training SimpleRNN model for Material ID: 1708\n"
     ]
    },
    {
     "name": "stderr",
     "output_type": "stream",
     "text": [
      "C:\\Users\\sohan\\anaconda3\\lib\\site-packages\\keras\\src\\layers\\rnn\\rnn.py:205: UserWarning: Do not pass an `input_shape`/`input_dim` argument to a layer. When using Sequential models, prefer using an `Input(shape)` object as the first layer in the model instead.\n",
      "  super().__init__(**kwargs)\n"
     ]
    },
    {
     "name": "stdout",
     "output_type": "stream",
     "text": [
      "\u001b[1m1/1\u001b[0m \u001b[32m━━━━━━━━━━━━━━━━━━━━\u001b[0m\u001b[37m\u001b[0m \u001b[1m0s\u001b[0m 169ms/step\n",
      "\u001b[1m1/1\u001b[0m \u001b[32m━━━━━━━━━━━━━━━━━━━━\u001b[0m\u001b[37m\u001b[0m \u001b[1m0s\u001b[0m 198ms/step\n",
      "MAE: 0.09561039358377459, MAPE: inf, R-squared: 0.895713657173765\n",
      "Training GRU model for Material ID: 1708\n"
     ]
    },
    {
     "name": "stderr",
     "output_type": "stream",
     "text": [
      "C:\\Users\\sohan\\AppData\\Local\\Temp\\ipykernel_22764\\4108763989.py:12: RuntimeWarning: divide by zero encountered in divide\n",
      "  mape = np.mean(np.abs((y_test - y_pred) / y_test)) * 100\n",
      "C:\\Users\\sohan\\AppData\\Local\\Temp\\ipykernel_22764\\4108763989.py:80: FutureWarning: The frame.append method is deprecated and will be removed from pandas in a future version. Use pandas.concat instead.\n",
      "  forecast_df = forecast_df.append({\n",
      "C:\\Users\\sohan\\anaconda3\\lib\\site-packages\\keras\\src\\layers\\rnn\\rnn.py:205: UserWarning: Do not pass an `input_shape`/`input_dim` argument to a layer. When using Sequential models, prefer using an `Input(shape)` object as the first layer in the model instead.\n",
      "  super().__init__(**kwargs)\n"
     ]
    },
    {
     "name": "stdout",
     "output_type": "stream",
     "text": [
      "\u001b[1m1/1\u001b[0m \u001b[32m━━━━━━━━━━━━━━━━━━━━\u001b[0m\u001b[37m\u001b[0m \u001b[1m0s\u001b[0m 172ms/step\n",
      "\u001b[1m1/1\u001b[0m \u001b[32m━━━━━━━━━━━━━━━━━━━━\u001b[0m\u001b[37m\u001b[0m \u001b[1m0s\u001b[0m 170ms/step\n",
      "MAE: 0.15565709620714188, MAPE: inf, R-squared: 0.7134094839036311\n",
      "Training LSTM model for Material ID: 1708\n"
     ]
    },
    {
     "name": "stderr",
     "output_type": "stream",
     "text": [
      "C:\\Users\\sohan\\AppData\\Local\\Temp\\ipykernel_22764\\4108763989.py:12: RuntimeWarning: divide by zero encountered in divide\n",
      "  mape = np.mean(np.abs((y_test - y_pred) / y_test)) * 100\n",
      "C:\\Users\\sohan\\AppData\\Local\\Temp\\ipykernel_22764\\4108763989.py:80: FutureWarning: The frame.append method is deprecated and will be removed from pandas in a future version. Use pandas.concat instead.\n",
      "  forecast_df = forecast_df.append({\n",
      "C:\\Users\\sohan\\anaconda3\\lib\\site-packages\\keras\\src\\layers\\rnn\\rnn.py:205: UserWarning: Do not pass an `input_shape`/`input_dim` argument to a layer. When using Sequential models, prefer using an `Input(shape)` object as the first layer in the model instead.\n",
      "  super().__init__(**kwargs)\n"
     ]
    },
    {
     "name": "stdout",
     "output_type": "stream",
     "text": [
      "WARNING:tensorflow:5 out of the last 5 calls to <function TensorFlowTrainer.make_predict_function.<locals>.one_step_on_data_distributed at 0x00000131093C0820> triggered tf.function retracing. Tracing is expensive and the excessive number of tracings could be due to (1) creating @tf.function repeatedly in a loop, (2) passing tensors with different shapes, (3) passing Python objects instead of tensors. For (1), please define your @tf.function outside of the loop. For (2), @tf.function has reduce_retracing=True option that can avoid unnecessary retracing. For (3), please refer to https://www.tensorflow.org/guide/function#controlling_retracing and https://www.tensorflow.org/api_docs/python/tf/function for  more details.\n",
      "\u001b[1m1/1\u001b[0m \u001b[32m━━━━━━━━━━━━━━━━━━━━\u001b[0m\u001b[37m\u001b[0m \u001b[1m0s\u001b[0m 142ms/step\n",
      "WARNING:tensorflow:6 out of the last 6 calls to <function TensorFlowTrainer.make_predict_function.<locals>.one_step_on_data_distributed at 0x00000131093C0820> triggered tf.function retracing. Tracing is expensive and the excessive number of tracings could be due to (1) creating @tf.function repeatedly in a loop, (2) passing tensors with different shapes, (3) passing Python objects instead of tensors. For (1), please define your @tf.function outside of the loop. For (2), @tf.function has reduce_retracing=True option that can avoid unnecessary retracing. For (3), please refer to https://www.tensorflow.org/guide/function#controlling_retracing and https://www.tensorflow.org/api_docs/python/tf/function for  more details.\n",
      "\u001b[1m1/1\u001b[0m \u001b[32m━━━━━━━━━━━━━━━━━━━━\u001b[0m\u001b[37m\u001b[0m \u001b[1m0s\u001b[0m 167ms/step\n",
      "MAE: 0.16706385811169944, MAPE: inf, R-squared: 0.6774762788407276\n",
      "Evaluating models for Material ID: 2425\n",
      "Training SimpleRNN model for Material ID: 2425\n"
     ]
    },
    {
     "name": "stderr",
     "output_type": "stream",
     "text": [
      "C:\\Users\\sohan\\AppData\\Local\\Temp\\ipykernel_22764\\4108763989.py:12: RuntimeWarning: divide by zero encountered in divide\n",
      "  mape = np.mean(np.abs((y_test - y_pred) / y_test)) * 100\n",
      "C:\\Users\\sohan\\AppData\\Local\\Temp\\ipykernel_22764\\4108763989.py:80: FutureWarning: The frame.append method is deprecated and will be removed from pandas in a future version. Use pandas.concat instead.\n",
      "  forecast_df = forecast_df.append({\n",
      "C:\\Users\\sohan\\anaconda3\\lib\\site-packages\\keras\\src\\layers\\rnn\\rnn.py:205: UserWarning: Do not pass an `input_shape`/`input_dim` argument to a layer. When using Sequential models, prefer using an `Input(shape)` object as the first layer in the model instead.\n",
      "  super().__init__(**kwargs)\n"
     ]
    },
    {
     "name": "stdout",
     "output_type": "stream",
     "text": [
      "\u001b[1m1/1\u001b[0m \u001b[32m━━━━━━━━━━━━━━━━━━━━\u001b[0m\u001b[37m\u001b[0m \u001b[1m0s\u001b[0m 137ms/step\n",
      "\u001b[1m1/1\u001b[0m \u001b[32m━━━━━━━━━━━━━━━━━━━━\u001b[0m\u001b[37m\u001b[0m \u001b[1m0s\u001b[0m 190ms/step\n",
      "MAE: 0.02273678220808506, MAPE: inf, R-squared: 0.9926272114141964\n",
      "Training GRU model for Material ID: 2425\n"
     ]
    },
    {
     "name": "stderr",
     "output_type": "stream",
     "text": [
      "C:\\Users\\sohan\\AppData\\Local\\Temp\\ipykernel_22764\\4108763989.py:12: RuntimeWarning: divide by zero encountered in divide\n",
      "  mape = np.mean(np.abs((y_test - y_pred) / y_test)) * 100\n",
      "C:\\Users\\sohan\\AppData\\Local\\Temp\\ipykernel_22764\\4108763989.py:80: FutureWarning: The frame.append method is deprecated and will be removed from pandas in a future version. Use pandas.concat instead.\n",
      "  forecast_df = forecast_df.append({\n",
      "C:\\Users\\sohan\\anaconda3\\lib\\site-packages\\keras\\src\\layers\\rnn\\rnn.py:205: UserWarning: Do not pass an `input_shape`/`input_dim` argument to a layer. When using Sequential models, prefer using an `Input(shape)` object as the first layer in the model instead.\n",
      "  super().__init__(**kwargs)\n"
     ]
    },
    {
     "name": "stdout",
     "output_type": "stream",
     "text": [
      "\u001b[1m1/1\u001b[0m \u001b[32m━━━━━━━━━━━━━━━━━━━━\u001b[0m\u001b[37m\u001b[0m \u001b[1m0s\u001b[0m 236ms/step\n",
      "\u001b[1m1/1\u001b[0m \u001b[32m━━━━━━━━━━━━━━━━━━━━\u001b[0m\u001b[37m\u001b[0m \u001b[1m0s\u001b[0m 181ms/step\n",
      "MAE: 0.12124727045496304, MAPE: inf, R-squared: 0.7955166645668332\n",
      "Training LSTM model for Material ID: 2425\n"
     ]
    },
    {
     "name": "stderr",
     "output_type": "stream",
     "text": [
      "C:\\Users\\sohan\\AppData\\Local\\Temp\\ipykernel_22764\\4108763989.py:12: RuntimeWarning: divide by zero encountered in divide\n",
      "  mape = np.mean(np.abs((y_test - y_pred) / y_test)) * 100\n",
      "C:\\Users\\sohan\\AppData\\Local\\Temp\\ipykernel_22764\\4108763989.py:80: FutureWarning: The frame.append method is deprecated and will be removed from pandas in a future version. Use pandas.concat instead.\n",
      "  forecast_df = forecast_df.append({\n",
      "C:\\Users\\sohan\\anaconda3\\lib\\site-packages\\keras\\src\\layers\\rnn\\rnn.py:205: UserWarning: Do not pass an `input_shape`/`input_dim` argument to a layer. When using Sequential models, prefer using an `Input(shape)` object as the first layer in the model instead.\n",
      "  super().__init__(**kwargs)\n"
     ]
    },
    {
     "name": "stdout",
     "output_type": "stream",
     "text": [
      "\u001b[1m1/1\u001b[0m \u001b[32m━━━━━━━━━━━━━━━━━━━━\u001b[0m\u001b[37m\u001b[0m \u001b[1m0s\u001b[0m 145ms/step\n",
      "\u001b[1m1/1\u001b[0m \u001b[32m━━━━━━━━━━━━━━━━━━━━\u001b[0m\u001b[37m\u001b[0m \u001b[1m0s\u001b[0m 154ms/step\n",
      "MAE: 0.154666468501091, MAPE: inf, R-squared: 0.6679753616170676\n",
      "Evaluating models for Material ID: 6324\n",
      "Training SimpleRNN model for Material ID: 6324\n"
     ]
    },
    {
     "name": "stderr",
     "output_type": "stream",
     "text": [
      "C:\\Users\\sohan\\AppData\\Local\\Temp\\ipykernel_22764\\4108763989.py:12: RuntimeWarning: divide by zero encountered in divide\n",
      "  mape = np.mean(np.abs((y_test - y_pred) / y_test)) * 100\n",
      "C:\\Users\\sohan\\AppData\\Local\\Temp\\ipykernel_22764\\4108763989.py:80: FutureWarning: The frame.append method is deprecated and will be removed from pandas in a future version. Use pandas.concat instead.\n",
      "  forecast_df = forecast_df.append({\n",
      "C:\\Users\\sohan\\anaconda3\\lib\\site-packages\\keras\\src\\layers\\rnn\\rnn.py:205: UserWarning: Do not pass an `input_shape`/`input_dim` argument to a layer. When using Sequential models, prefer using an `Input(shape)` object as the first layer in the model instead.\n",
      "  super().__init__(**kwargs)\n"
     ]
    },
    {
     "name": "stdout",
     "output_type": "stream",
     "text": [
      "\u001b[1m1/1\u001b[0m \u001b[32m━━━━━━━━━━━━━━━━━━━━\u001b[0m\u001b[37m\u001b[0m \u001b[1m0s\u001b[0m 111ms/step\n",
      "\u001b[1m1/1\u001b[0m \u001b[32m━━━━━━━━━━━━━━━━━━━━\u001b[0m\u001b[37m\u001b[0m \u001b[1m0s\u001b[0m 199ms/step\n",
      "MAE: 0.11208441480994225, MAPE: inf, R-squared: 0.7868725423098852\n",
      "Training GRU model for Material ID: 6324\n"
     ]
    },
    {
     "name": "stderr",
     "output_type": "stream",
     "text": [
      "C:\\Users\\sohan\\AppData\\Local\\Temp\\ipykernel_22764\\4108763989.py:12: RuntimeWarning: divide by zero encountered in divide\n",
      "  mape = np.mean(np.abs((y_test - y_pred) / y_test)) * 100\n",
      "C:\\Users\\sohan\\AppData\\Local\\Temp\\ipykernel_22764\\4108763989.py:80: FutureWarning: The frame.append method is deprecated and will be removed from pandas in a future version. Use pandas.concat instead.\n",
      "  forecast_df = forecast_df.append({\n",
      "C:\\Users\\sohan\\anaconda3\\lib\\site-packages\\keras\\src\\layers\\rnn\\rnn.py:205: UserWarning: Do not pass an `input_shape`/`input_dim` argument to a layer. When using Sequential models, prefer using an `Input(shape)` object as the first layer in the model instead.\n",
      "  super().__init__(**kwargs)\n"
     ]
    },
    {
     "name": "stdout",
     "output_type": "stream",
     "text": [
      "\u001b[1m1/1\u001b[0m \u001b[32m━━━━━━━━━━━━━━━━━━━━\u001b[0m\u001b[37m\u001b[0m \u001b[1m0s\u001b[0m 152ms/step\n",
      "\u001b[1m1/1\u001b[0m \u001b[32m━━━━━━━━━━━━━━━━━━━━\u001b[0m\u001b[37m\u001b[0m \u001b[1m0s\u001b[0m 156ms/step\n",
      "MAE: 0.1200399249792099, MAPE: inf, R-squared: 0.755866334167234\n",
      "Training LSTM model for Material ID: 6324\n"
     ]
    },
    {
     "name": "stderr",
     "output_type": "stream",
     "text": [
      "C:\\Users\\sohan\\AppData\\Local\\Temp\\ipykernel_22764\\4108763989.py:12: RuntimeWarning: divide by zero encountered in divide\n",
      "  mape = np.mean(np.abs((y_test - y_pred) / y_test)) * 100\n",
      "C:\\Users\\sohan\\AppData\\Local\\Temp\\ipykernel_22764\\4108763989.py:80: FutureWarning: The frame.append method is deprecated and will be removed from pandas in a future version. Use pandas.concat instead.\n",
      "  forecast_df = forecast_df.append({\n",
      "C:\\Users\\sohan\\anaconda3\\lib\\site-packages\\keras\\src\\layers\\rnn\\rnn.py:205: UserWarning: Do not pass an `input_shape`/`input_dim` argument to a layer. When using Sequential models, prefer using an `Input(shape)` object as the first layer in the model instead.\n",
      "  super().__init__(**kwargs)\n"
     ]
    },
    {
     "name": "stdout",
     "output_type": "stream",
     "text": [
      "\u001b[1m1/1\u001b[0m \u001b[32m━━━━━━━━━━━━━━━━━━━━\u001b[0m\u001b[37m\u001b[0m \u001b[1m0s\u001b[0m 139ms/step\n",
      "\u001b[1m1/1\u001b[0m \u001b[32m━━━━━━━━━━━━━━━━━━━━\u001b[0m\u001b[37m\u001b[0m \u001b[1m0s\u001b[0m 149ms/step\n",
      "MAE: 0.14126905302206674, MAPE: inf, R-squared: 0.6631556949468627\n",
      "Evaluating models for Material ID: 6587\n",
      "Training SimpleRNN model for Material ID: 6587\n"
     ]
    },
    {
     "name": "stderr",
     "output_type": "stream",
     "text": [
      "C:\\Users\\sohan\\AppData\\Local\\Temp\\ipykernel_22764\\4108763989.py:12: RuntimeWarning: divide by zero encountered in divide\n",
      "  mape = np.mean(np.abs((y_test - y_pred) / y_test)) * 100\n",
      "C:\\Users\\sohan\\AppData\\Local\\Temp\\ipykernel_22764\\4108763989.py:80: FutureWarning: The frame.append method is deprecated and will be removed from pandas in a future version. Use pandas.concat instead.\n",
      "  forecast_df = forecast_df.append({\n",
      "C:\\Users\\sohan\\anaconda3\\lib\\site-packages\\keras\\src\\layers\\rnn\\rnn.py:205: UserWarning: Do not pass an `input_shape`/`input_dim` argument to a layer. When using Sequential models, prefer using an `Input(shape)` object as the first layer in the model instead.\n",
      "  super().__init__(**kwargs)\n"
     ]
    },
    {
     "name": "stdout",
     "output_type": "stream",
     "text": [
      "\u001b[1m1/1\u001b[0m \u001b[32m━━━━━━━━━━━━━━━━━━━━\u001b[0m\u001b[37m\u001b[0m \u001b[1m0s\u001b[0m 132ms/step\n",
      "\u001b[1m1/1\u001b[0m \u001b[32m━━━━━━━━━━━━━━━━━━━━\u001b[0m\u001b[37m\u001b[0m \u001b[1m0s\u001b[0m 135ms/step\n",
      "MAE: 0.07403299478547905, MAPE: inf, R-squared: 0.9407307994259587\n",
      "Training GRU model for Material ID: 6587\n"
     ]
    },
    {
     "name": "stderr",
     "output_type": "stream",
     "text": [
      "C:\\Users\\sohan\\AppData\\Local\\Temp\\ipykernel_22764\\4108763989.py:12: RuntimeWarning: divide by zero encountered in divide\n",
      "  mape = np.mean(np.abs((y_test - y_pred) / y_test)) * 100\n",
      "C:\\Users\\sohan\\AppData\\Local\\Temp\\ipykernel_22764\\4108763989.py:80: FutureWarning: The frame.append method is deprecated and will be removed from pandas in a future version. Use pandas.concat instead.\n",
      "  forecast_df = forecast_df.append({\n",
      "C:\\Users\\sohan\\anaconda3\\lib\\site-packages\\keras\\src\\layers\\rnn\\rnn.py:205: UserWarning: Do not pass an `input_shape`/`input_dim` argument to a layer. When using Sequential models, prefer using an `Input(shape)` object as the first layer in the model instead.\n",
      "  super().__init__(**kwargs)\n"
     ]
    },
    {
     "name": "stdout",
     "output_type": "stream",
     "text": [
      "\u001b[1m1/1\u001b[0m \u001b[32m━━━━━━━━━━━━━━━━━━━━\u001b[0m\u001b[37m\u001b[0m \u001b[1m0s\u001b[0m 160ms/step\n",
      "\u001b[1m1/1\u001b[0m \u001b[32m━━━━━━━━━━━━━━━━━━━━\u001b[0m\u001b[37m\u001b[0m \u001b[1m0s\u001b[0m 170ms/step\n",
      "MAE: 0.14917109055178499, MAPE: inf, R-squared: 0.7562438204171064\n",
      "Training LSTM model for Material ID: 6587\n"
     ]
    },
    {
     "name": "stderr",
     "output_type": "stream",
     "text": [
      "C:\\Users\\sohan\\AppData\\Local\\Temp\\ipykernel_22764\\4108763989.py:12: RuntimeWarning: divide by zero encountered in divide\n",
      "  mape = np.mean(np.abs((y_test - y_pred) / y_test)) * 100\n",
      "C:\\Users\\sohan\\AppData\\Local\\Temp\\ipykernel_22764\\4108763989.py:80: FutureWarning: The frame.append method is deprecated and will be removed from pandas in a future version. Use pandas.concat instead.\n",
      "  forecast_df = forecast_df.append({\n",
      "C:\\Users\\sohan\\anaconda3\\lib\\site-packages\\keras\\src\\layers\\rnn\\rnn.py:205: UserWarning: Do not pass an `input_shape`/`input_dim` argument to a layer. When using Sequential models, prefer using an `Input(shape)` object as the first layer in the model instead.\n",
      "  super().__init__(**kwargs)\n"
     ]
    },
    {
     "name": "stdout",
     "output_type": "stream",
     "text": [
      "\u001b[1m1/1\u001b[0m \u001b[32m━━━━━━━━━━━━━━━━━━━━\u001b[0m\u001b[37m\u001b[0m \u001b[1m0s\u001b[0m 138ms/step\n",
      "\u001b[1m1/1\u001b[0m \u001b[32m━━━━━━━━━━━━━━━━━━━━\u001b[0m\u001b[37m\u001b[0m \u001b[1m0s\u001b[0m 152ms/step\n",
      "MAE: 0.16965627563851213, MAPE: inf, R-squared: 0.6842992196474004\n",
      "Evaluating models for Material ID: 7385\n",
      "Training SimpleRNN model for Material ID: 7385\n"
     ]
    },
    {
     "name": "stderr",
     "output_type": "stream",
     "text": [
      "C:\\Users\\sohan\\AppData\\Local\\Temp\\ipykernel_22764\\4108763989.py:12: RuntimeWarning: divide by zero encountered in divide\n",
      "  mape = np.mean(np.abs((y_test - y_pred) / y_test)) * 100\n",
      "C:\\Users\\sohan\\AppData\\Local\\Temp\\ipykernel_22764\\4108763989.py:80: FutureWarning: The frame.append method is deprecated and will be removed from pandas in a future version. Use pandas.concat instead.\n",
      "  forecast_df = forecast_df.append({\n",
      "C:\\Users\\sohan\\anaconda3\\lib\\site-packages\\keras\\src\\layers\\rnn\\rnn.py:205: UserWarning: Do not pass an `input_shape`/`input_dim` argument to a layer. When using Sequential models, prefer using an `Input(shape)` object as the first layer in the model instead.\n",
      "  super().__init__(**kwargs)\n"
     ]
    },
    {
     "name": "stdout",
     "output_type": "stream",
     "text": [
      "\u001b[1m1/1\u001b[0m \u001b[32m━━━━━━━━━━━━━━━━━━━━\u001b[0m\u001b[37m\u001b[0m \u001b[1m0s\u001b[0m 129ms/step\n",
      "\u001b[1m1/1\u001b[0m \u001b[32m━━━━━━━━━━━━━━━━━━━━\u001b[0m\u001b[37m\u001b[0m \u001b[1m0s\u001b[0m 132ms/step\n",
      "MAE: 0.10051212400197984, MAPE: inf, R-squared: 0.867436822226271\n",
      "Training GRU model for Material ID: 7385\n"
     ]
    },
    {
     "name": "stderr",
     "output_type": "stream",
     "text": [
      "C:\\Users\\sohan\\AppData\\Local\\Temp\\ipykernel_22764\\4108763989.py:12: RuntimeWarning: divide by zero encountered in divide\n",
      "  mape = np.mean(np.abs((y_test - y_pred) / y_test)) * 100\n",
      "C:\\Users\\sohan\\AppData\\Local\\Temp\\ipykernel_22764\\4108763989.py:80: FutureWarning: The frame.append method is deprecated and will be removed from pandas in a future version. Use pandas.concat instead.\n",
      "  forecast_df = forecast_df.append({\n",
      "C:\\Users\\sohan\\anaconda3\\lib\\site-packages\\keras\\src\\layers\\rnn\\rnn.py:205: UserWarning: Do not pass an `input_shape`/`input_dim` argument to a layer. When using Sequential models, prefer using an `Input(shape)` object as the first layer in the model instead.\n",
      "  super().__init__(**kwargs)\n"
     ]
    },
    {
     "name": "stdout",
     "output_type": "stream",
     "text": [
      "\u001b[1m1/1\u001b[0m \u001b[32m━━━━━━━━━━━━━━━━━━━━\u001b[0m\u001b[37m\u001b[0m \u001b[1m0s\u001b[0m 164ms/step\n",
      "\u001b[1m1/1\u001b[0m \u001b[32m━━━━━━━━━━━━━━━━━━━━\u001b[0m\u001b[37m\u001b[0m \u001b[1m0s\u001b[0m 162ms/step\n",
      "MAE: 0.12749950776497523, MAPE: inf, R-squared: 0.7828477917696394\n",
      "Training LSTM model for Material ID: 7385\n"
     ]
    },
    {
     "name": "stderr",
     "output_type": "stream",
     "text": [
      "C:\\Users\\sohan\\AppData\\Local\\Temp\\ipykernel_22764\\4108763989.py:12: RuntimeWarning: divide by zero encountered in divide\n",
      "  mape = np.mean(np.abs((y_test - y_pred) / y_test)) * 100\n",
      "C:\\Users\\sohan\\AppData\\Local\\Temp\\ipykernel_22764\\4108763989.py:80: FutureWarning: The frame.append method is deprecated and will be removed from pandas in a future version. Use pandas.concat instead.\n",
      "  forecast_df = forecast_df.append({\n",
      "C:\\Users\\sohan\\anaconda3\\lib\\site-packages\\keras\\src\\layers\\rnn\\rnn.py:205: UserWarning: Do not pass an `input_shape`/`input_dim` argument to a layer. When using Sequential models, prefer using an `Input(shape)` object as the first layer in the model instead.\n",
      "  super().__init__(**kwargs)\n"
     ]
    },
    {
     "name": "stdout",
     "output_type": "stream",
     "text": [
      "\u001b[1m1/1\u001b[0m \u001b[32m━━━━━━━━━━━━━━━━━━━━\u001b[0m\u001b[37m\u001b[0m \u001b[1m0s\u001b[0m 137ms/step\n",
      "\u001b[1m1/1\u001b[0m \u001b[32m━━━━━━━━━━━━━━━━━━━━\u001b[0m\u001b[37m\u001b[0m \u001b[1m0s\u001b[0m 148ms/step\n",
      "MAE: 0.14344991435607277, MAPE: inf, R-squared: 0.7242001396659328\n",
      "Evaluating models for Material ID: 7413\n",
      "Training SimpleRNN model for Material ID: 7413\n"
     ]
    },
    {
     "name": "stderr",
     "output_type": "stream",
     "text": [
      "C:\\Users\\sohan\\AppData\\Local\\Temp\\ipykernel_22764\\4108763989.py:12: RuntimeWarning: divide by zero encountered in divide\n",
      "  mape = np.mean(np.abs((y_test - y_pred) / y_test)) * 100\n",
      "C:\\Users\\sohan\\AppData\\Local\\Temp\\ipykernel_22764\\4108763989.py:80: FutureWarning: The frame.append method is deprecated and will be removed from pandas in a future version. Use pandas.concat instead.\n",
      "  forecast_df = forecast_df.append({\n",
      "C:\\Users\\sohan\\anaconda3\\lib\\site-packages\\keras\\src\\layers\\rnn\\rnn.py:205: UserWarning: Do not pass an `input_shape`/`input_dim` argument to a layer. When using Sequential models, prefer using an `Input(shape)` object as the first layer in the model instead.\n",
      "  super().__init__(**kwargs)\n"
     ]
    },
    {
     "name": "stdout",
     "output_type": "stream",
     "text": [
      "\u001b[1m1/1\u001b[0m \u001b[32m━━━━━━━━━━━━━━━━━━━━\u001b[0m\u001b[37m\u001b[0m \u001b[1m0s\u001b[0m 122ms/step\n",
      "\u001b[1m1/1\u001b[0m \u001b[32m━━━━━━━━━━━━━━━━━━━━\u001b[0m\u001b[37m\u001b[0m \u001b[1m0s\u001b[0m 130ms/step\n",
      "MAE: 0.12314660250083777, MAPE: inf, R-squared: 0.7779738466238063\n",
      "Training GRU model for Material ID: 7413\n"
     ]
    },
    {
     "name": "stderr",
     "output_type": "stream",
     "text": [
      "C:\\Users\\sohan\\AppData\\Local\\Temp\\ipykernel_22764\\4108763989.py:12: RuntimeWarning: divide by zero encountered in divide\n",
      "  mape = np.mean(np.abs((y_test - y_pred) / y_test)) * 100\n",
      "C:\\Users\\sohan\\AppData\\Local\\Temp\\ipykernel_22764\\4108763989.py:80: FutureWarning: The frame.append method is deprecated and will be removed from pandas in a future version. Use pandas.concat instead.\n",
      "  forecast_df = forecast_df.append({\n",
      "C:\\Users\\sohan\\anaconda3\\lib\\site-packages\\keras\\src\\layers\\rnn\\rnn.py:205: UserWarning: Do not pass an `input_shape`/`input_dim` argument to a layer. When using Sequential models, prefer using an `Input(shape)` object as the first layer in the model instead.\n",
      "  super().__init__(**kwargs)\n"
     ]
    },
    {
     "name": "stdout",
     "output_type": "stream",
     "text": [
      "\u001b[1m1/1\u001b[0m \u001b[32m━━━━━━━━━━━━━━━━━━━━\u001b[0m\u001b[37m\u001b[0m \u001b[1m0s\u001b[0m 236ms/step\n",
      "\u001b[1m1/1\u001b[0m \u001b[32m━━━━━━━━━━━━━━━━━━━━\u001b[0m\u001b[37m\u001b[0m \u001b[1m0s\u001b[0m 247ms/step\n",
      "MAE: 0.1418771162523446, MAPE: inf, R-squared: 0.7044099774433441\n",
      "Training LSTM model for Material ID: 7413\n"
     ]
    },
    {
     "name": "stderr",
     "output_type": "stream",
     "text": [
      "C:\\Users\\sohan\\AppData\\Local\\Temp\\ipykernel_22764\\4108763989.py:12: RuntimeWarning: divide by zero encountered in divide\n",
      "  mape = np.mean(np.abs((y_test - y_pred) / y_test)) * 100\n",
      "C:\\Users\\sohan\\AppData\\Local\\Temp\\ipykernel_22764\\4108763989.py:80: FutureWarning: The frame.append method is deprecated and will be removed from pandas in a future version. Use pandas.concat instead.\n",
      "  forecast_df = forecast_df.append({\n",
      "C:\\Users\\sohan\\anaconda3\\lib\\site-packages\\keras\\src\\layers\\rnn\\rnn.py:205: UserWarning: Do not pass an `input_shape`/`input_dim` argument to a layer. When using Sequential models, prefer using an `Input(shape)` object as the first layer in the model instead.\n",
      "  super().__init__(**kwargs)\n"
     ]
    },
    {
     "name": "stdout",
     "output_type": "stream",
     "text": [
      "\u001b[1m1/1\u001b[0m \u001b[32m━━━━━━━━━━━━━━━━━━━━\u001b[0m\u001b[37m\u001b[0m \u001b[1m0s\u001b[0m 146ms/step\n",
      "\u001b[1m1/1\u001b[0m \u001b[32m━━━━━━━━━━━━━━━━━━━━\u001b[0m\u001b[37m\u001b[0m \u001b[1m0s\u001b[0m 155ms/step\n",
      "MAE: 0.1649806656947373, MAPE: inf, R-squared: 0.5898417636938923\n",
      "Evaluating models for Material ID: 11101\n",
      "Training SimpleRNN model for Material ID: 11101\n"
     ]
    },
    {
     "name": "stderr",
     "output_type": "stream",
     "text": [
      "C:\\Users\\sohan\\AppData\\Local\\Temp\\ipykernel_22764\\4108763989.py:12: RuntimeWarning: divide by zero encountered in divide\n",
      "  mape = np.mean(np.abs((y_test - y_pred) / y_test)) * 100\n",
      "C:\\Users\\sohan\\AppData\\Local\\Temp\\ipykernel_22764\\4108763989.py:80: FutureWarning: The frame.append method is deprecated and will be removed from pandas in a future version. Use pandas.concat instead.\n",
      "  forecast_df = forecast_df.append({\n",
      "C:\\Users\\sohan\\anaconda3\\lib\\site-packages\\keras\\src\\layers\\rnn\\rnn.py:205: UserWarning: Do not pass an `input_shape`/`input_dim` argument to a layer. When using Sequential models, prefer using an `Input(shape)` object as the first layer in the model instead.\n",
      "  super().__init__(**kwargs)\n"
     ]
    },
    {
     "name": "stdout",
     "output_type": "stream",
     "text": [
      "\u001b[1m1/1\u001b[0m \u001b[32m━━━━━━━━━━━━━━━━━━━━\u001b[0m\u001b[37m\u001b[0m \u001b[1m0s\u001b[0m 138ms/step\n",
      "\u001b[1m1/1\u001b[0m \u001b[32m━━━━━━━━━━━━━━━━━━━━\u001b[0m\u001b[37m\u001b[0m \u001b[1m0s\u001b[0m 193ms/step\n",
      "MAE: 0.00962151291889029, MAPE: inf, R-squared: 0.9985388321731081\n",
      "Training GRU model for Material ID: 11101\n"
     ]
    },
    {
     "name": "stderr",
     "output_type": "stream",
     "text": [
      "C:\\Users\\sohan\\AppData\\Local\\Temp\\ipykernel_22764\\4108763989.py:12: RuntimeWarning: divide by zero encountered in divide\n",
      "  mape = np.mean(np.abs((y_test - y_pred) / y_test)) * 100\n",
      "C:\\Users\\sohan\\AppData\\Local\\Temp\\ipykernel_22764\\4108763989.py:80: FutureWarning: The frame.append method is deprecated and will be removed from pandas in a future version. Use pandas.concat instead.\n",
      "  forecast_df = forecast_df.append({\n",
      "C:\\Users\\sohan\\anaconda3\\lib\\site-packages\\keras\\src\\layers\\rnn\\rnn.py:205: UserWarning: Do not pass an `input_shape`/`input_dim` argument to a layer. When using Sequential models, prefer using an `Input(shape)` object as the first layer in the model instead.\n",
      "  super().__init__(**kwargs)\n"
     ]
    },
    {
     "name": "stdout",
     "output_type": "stream",
     "text": [
      "\u001b[1m1/1\u001b[0m \u001b[32m━━━━━━━━━━━━━━━━━━━━\u001b[0m\u001b[37m\u001b[0m \u001b[1m0s\u001b[0m 157ms/step\n",
      "\u001b[1m1/1\u001b[0m \u001b[32m━━━━━━━━━━━━━━━━━━━━\u001b[0m\u001b[37m\u001b[0m \u001b[1m0s\u001b[0m 166ms/step\n",
      "MAE: 0.12821645434800683, MAPE: inf, R-squared: 0.7569183676070196\n",
      "Training LSTM model for Material ID: 11101\n"
     ]
    },
    {
     "name": "stderr",
     "output_type": "stream",
     "text": [
      "C:\\Users\\sohan\\AppData\\Local\\Temp\\ipykernel_22764\\4108763989.py:12: RuntimeWarning: divide by zero encountered in divide\n",
      "  mape = np.mean(np.abs((y_test - y_pred) / y_test)) * 100\n",
      "C:\\Users\\sohan\\AppData\\Local\\Temp\\ipykernel_22764\\4108763989.py:80: FutureWarning: The frame.append method is deprecated and will be removed from pandas in a future version. Use pandas.concat instead.\n",
      "  forecast_df = forecast_df.append({\n",
      "C:\\Users\\sohan\\anaconda3\\lib\\site-packages\\keras\\src\\layers\\rnn\\rnn.py:205: UserWarning: Do not pass an `input_shape`/`input_dim` argument to a layer. When using Sequential models, prefer using an `Input(shape)` object as the first layer in the model instead.\n",
      "  super().__init__(**kwargs)\n"
     ]
    },
    {
     "name": "stdout",
     "output_type": "stream",
     "text": [
      "\u001b[1m1/1\u001b[0m \u001b[32m━━━━━━━━━━━━━━━━━━━━\u001b[0m\u001b[37m\u001b[0m \u001b[1m0s\u001b[0m 150ms/step\n",
      "\u001b[1m1/1\u001b[0m \u001b[32m━━━━━━━━━━━━━━━━━━━━\u001b[0m\u001b[37m\u001b[0m \u001b[1m0s\u001b[0m 147ms/step\n",
      "MAE: 0.175411940395058, MAPE: inf, R-squared: 0.5669049379763493\n",
      "Evaluating models for Material ID: 14426\n",
      "Training SimpleRNN model for Material ID: 14426\n"
     ]
    },
    {
     "name": "stderr",
     "output_type": "stream",
     "text": [
      "C:\\Users\\sohan\\AppData\\Local\\Temp\\ipykernel_22764\\4108763989.py:12: RuntimeWarning: divide by zero encountered in divide\n",
      "  mape = np.mean(np.abs((y_test - y_pred) / y_test)) * 100\n",
      "C:\\Users\\sohan\\AppData\\Local\\Temp\\ipykernel_22764\\4108763989.py:80: FutureWarning: The frame.append method is deprecated and will be removed from pandas in a future version. Use pandas.concat instead.\n",
      "  forecast_df = forecast_df.append({\n",
      "C:\\Users\\sohan\\anaconda3\\lib\\site-packages\\keras\\src\\layers\\rnn\\rnn.py:205: UserWarning: Do not pass an `input_shape`/`input_dim` argument to a layer. When using Sequential models, prefer using an `Input(shape)` object as the first layer in the model instead.\n",
      "  super().__init__(**kwargs)\n"
     ]
    },
    {
     "name": "stdout",
     "output_type": "stream",
     "text": [
      "\u001b[1m1/1\u001b[0m \u001b[32m━━━━━━━━━━━━━━━━━━━━\u001b[0m\u001b[37m\u001b[0m \u001b[1m0s\u001b[0m 114ms/step\n",
      "\u001b[1m1/1\u001b[0m \u001b[32m━━━━━━━━━━━━━━━━━━━━\u001b[0m\u001b[37m\u001b[0m \u001b[1m0s\u001b[0m 129ms/step\n",
      "MAE: 0.09856482373193058, MAPE: inf, R-squared: 0.8763146276821289\n",
      "Training GRU model for Material ID: 14426\n"
     ]
    },
    {
     "name": "stderr",
     "output_type": "stream",
     "text": [
      "C:\\Users\\sohan\\AppData\\Local\\Temp\\ipykernel_22764\\4108763989.py:12: RuntimeWarning: divide by zero encountered in divide\n",
      "  mape = np.mean(np.abs((y_test - y_pred) / y_test)) * 100\n",
      "C:\\Users\\sohan\\AppData\\Local\\Temp\\ipykernel_22764\\4108763989.py:80: FutureWarning: The frame.append method is deprecated and will be removed from pandas in a future version. Use pandas.concat instead.\n",
      "  forecast_df = forecast_df.append({\n",
      "C:\\Users\\sohan\\anaconda3\\lib\\site-packages\\keras\\src\\layers\\rnn\\rnn.py:205: UserWarning: Do not pass an `input_shape`/`input_dim` argument to a layer. When using Sequential models, prefer using an `Input(shape)` object as the first layer in the model instead.\n",
      "  super().__init__(**kwargs)\n"
     ]
    },
    {
     "name": "stdout",
     "output_type": "stream",
     "text": [
      "\u001b[1m1/1\u001b[0m \u001b[32m━━━━━━━━━━━━━━━━━━━━\u001b[0m\u001b[37m\u001b[0m \u001b[1m0s\u001b[0m 232ms/step\n",
      "\u001b[1m1/1\u001b[0m \u001b[32m━━━━━━━━━━━━━━━━━━━━\u001b[0m\u001b[37m\u001b[0m \u001b[1m0s\u001b[0m 169ms/step\n",
      "MAE: 0.12246573272377555, MAPE: inf, R-squared: 0.809249196479285\n",
      "Training LSTM model for Material ID: 14426\n"
     ]
    },
    {
     "name": "stderr",
     "output_type": "stream",
     "text": [
      "C:\\Users\\sohan\\AppData\\Local\\Temp\\ipykernel_22764\\4108763989.py:12: RuntimeWarning: divide by zero encountered in divide\n",
      "  mape = np.mean(np.abs((y_test - y_pred) / y_test)) * 100\n",
      "C:\\Users\\sohan\\AppData\\Local\\Temp\\ipykernel_22764\\4108763989.py:80: FutureWarning: The frame.append method is deprecated and will be removed from pandas in a future version. Use pandas.concat instead.\n",
      "  forecast_df = forecast_df.append({\n",
      "C:\\Users\\sohan\\anaconda3\\lib\\site-packages\\keras\\src\\layers\\rnn\\rnn.py:205: UserWarning: Do not pass an `input_shape`/`input_dim` argument to a layer. When using Sequential models, prefer using an `Input(shape)` object as the first layer in the model instead.\n",
      "  super().__init__(**kwargs)\n"
     ]
    },
    {
     "name": "stdout",
     "output_type": "stream",
     "text": [
      "\u001b[1m1/1\u001b[0m \u001b[32m━━━━━━━━━━━━━━━━━━━━\u001b[0m\u001b[37m\u001b[0m \u001b[1m0s\u001b[0m 124ms/step\n",
      "\u001b[1m1/1\u001b[0m \u001b[32m━━━━━━━━━━━━━━━━━━━━\u001b[0m\u001b[37m\u001b[0m \u001b[1m0s\u001b[0m 148ms/step\n",
      "MAE: 0.16520112060537243, MAPE: inf, R-squared: 0.6839118904015463\n",
      "Evaluating models for Material ID: 15905\n",
      "Training SimpleRNN model for Material ID: 15905\n"
     ]
    },
    {
     "name": "stderr",
     "output_type": "stream",
     "text": [
      "C:\\Users\\sohan\\AppData\\Local\\Temp\\ipykernel_22764\\4108763989.py:12: RuntimeWarning: divide by zero encountered in divide\n",
      "  mape = np.mean(np.abs((y_test - y_pred) / y_test)) * 100\n",
      "C:\\Users\\sohan\\AppData\\Local\\Temp\\ipykernel_22764\\4108763989.py:80: FutureWarning: The frame.append method is deprecated and will be removed from pandas in a future version. Use pandas.concat instead.\n",
      "  forecast_df = forecast_df.append({\n",
      "C:\\Users\\sohan\\anaconda3\\lib\\site-packages\\keras\\src\\layers\\rnn\\rnn.py:205: UserWarning: Do not pass an `input_shape`/`input_dim` argument to a layer. When using Sequential models, prefer using an `Input(shape)` object as the first layer in the model instead.\n",
      "  super().__init__(**kwargs)\n"
     ]
    },
    {
     "name": "stdout",
     "output_type": "stream",
     "text": [
      "\u001b[1m1/1\u001b[0m \u001b[32m━━━━━━━━━━━━━━━━━━━━\u001b[0m\u001b[37m\u001b[0m \u001b[1m0s\u001b[0m 119ms/step\n",
      "\u001b[1m1/1\u001b[0m \u001b[32m━━━━━━━━━━━━━━━━━━━━\u001b[0m\u001b[37m\u001b[0m \u001b[1m0s\u001b[0m 192ms/step\n",
      "MAE: 0.11581633217406995, MAPE: inf, R-squared: 0.7370304354201647\n",
      "Training GRU model for Material ID: 15905\n"
     ]
    },
    {
     "name": "stderr",
     "output_type": "stream",
     "text": [
      "C:\\Users\\sohan\\AppData\\Local\\Temp\\ipykernel_22764\\4108763989.py:12: RuntimeWarning: divide by zero encountered in divide\n",
      "  mape = np.mean(np.abs((y_test - y_pred) / y_test)) * 100\n",
      "C:\\Users\\sohan\\AppData\\Local\\Temp\\ipykernel_22764\\4108763989.py:80: FutureWarning: The frame.append method is deprecated and will be removed from pandas in a future version. Use pandas.concat instead.\n",
      "  forecast_df = forecast_df.append({\n",
      "C:\\Users\\sohan\\anaconda3\\lib\\site-packages\\keras\\src\\layers\\rnn\\rnn.py:205: UserWarning: Do not pass an `input_shape`/`input_dim` argument to a layer. When using Sequential models, prefer using an `Input(shape)` object as the first layer in the model instead.\n",
      "  super().__init__(**kwargs)\n"
     ]
    },
    {
     "name": "stdout",
     "output_type": "stream",
     "text": [
      "\u001b[1m1/1\u001b[0m \u001b[32m━━━━━━━━━━━━━━━━━━━━\u001b[0m\u001b[37m\u001b[0m \u001b[1m0s\u001b[0m 220ms/step\n",
      "\u001b[1m1/1\u001b[0m \u001b[32m━━━━━━━━━━━━━━━━━━━━\u001b[0m\u001b[37m\u001b[0m \u001b[1m0s\u001b[0m 245ms/step\n",
      "MAE: 0.11573151386145387, MAPE: inf, R-squared: 0.7382332092615131\n",
      "Training LSTM model for Material ID: 15905\n"
     ]
    },
    {
     "name": "stderr",
     "output_type": "stream",
     "text": [
      "C:\\Users\\sohan\\AppData\\Local\\Temp\\ipykernel_22764\\4108763989.py:12: RuntimeWarning: divide by zero encountered in divide\n",
      "  mape = np.mean(np.abs((y_test - y_pred) / y_test)) * 100\n",
      "C:\\Users\\sohan\\AppData\\Local\\Temp\\ipykernel_22764\\4108763989.py:80: FutureWarning: The frame.append method is deprecated and will be removed from pandas in a future version. Use pandas.concat instead.\n",
      "  forecast_df = forecast_df.append({\n",
      "C:\\Users\\sohan\\anaconda3\\lib\\site-packages\\keras\\src\\layers\\rnn\\rnn.py:205: UserWarning: Do not pass an `input_shape`/`input_dim` argument to a layer. When using Sequential models, prefer using an `Input(shape)` object as the first layer in the model instead.\n",
      "  super().__init__(**kwargs)\n"
     ]
    },
    {
     "name": "stdout",
     "output_type": "stream",
     "text": [
      "\u001b[1m1/1\u001b[0m \u001b[32m━━━━━━━━━━━━━━━━━━━━\u001b[0m\u001b[37m\u001b[0m \u001b[1m0s\u001b[0m 132ms/step\n",
      "\u001b[1m1/1\u001b[0m \u001b[32m━━━━━━━━━━━━━━━━━━━━\u001b[0m\u001b[37m\u001b[0m \u001b[1m0s\u001b[0m 140ms/step\n",
      "MAE: 0.13416363795598346, MAPE: inf, R-squared: 0.6656108359723608\n",
      "Evaluating models for Material ID: 18176\n",
      "Training SimpleRNN model for Material ID: 18176\n"
     ]
    },
    {
     "name": "stderr",
     "output_type": "stream",
     "text": [
      "C:\\Users\\sohan\\AppData\\Local\\Temp\\ipykernel_22764\\4108763989.py:12: RuntimeWarning: divide by zero encountered in divide\n",
      "  mape = np.mean(np.abs((y_test - y_pred) / y_test)) * 100\n",
      "C:\\Users\\sohan\\AppData\\Local\\Temp\\ipykernel_22764\\4108763989.py:80: FutureWarning: The frame.append method is deprecated and will be removed from pandas in a future version. Use pandas.concat instead.\n",
      "  forecast_df = forecast_df.append({\n",
      "C:\\Users\\sohan\\anaconda3\\lib\\site-packages\\keras\\src\\layers\\rnn\\rnn.py:205: UserWarning: Do not pass an `input_shape`/`input_dim` argument to a layer. When using Sequential models, prefer using an `Input(shape)` object as the first layer in the model instead.\n",
      "  super().__init__(**kwargs)\n"
     ]
    },
    {
     "name": "stdout",
     "output_type": "stream",
     "text": [
      "\u001b[1m1/1\u001b[0m \u001b[32m━━━━━━━━━━━━━━━━━━━━\u001b[0m\u001b[37m\u001b[0m \u001b[1m0s\u001b[0m 157ms/step\n",
      "\u001b[1m1/1\u001b[0m \u001b[32m━━━━━━━━━━━━━━━━━━━━\u001b[0m\u001b[37m\u001b[0m \u001b[1m0s\u001b[0m 184ms/step\n",
      "MAE: 0.09729530478452707, MAPE: inf, R-squared: 0.8708330263287374\n",
      "Training GRU model for Material ID: 18176\n"
     ]
    },
    {
     "name": "stderr",
     "output_type": "stream",
     "text": [
      "C:\\Users\\sohan\\AppData\\Local\\Temp\\ipykernel_22764\\4108763989.py:12: RuntimeWarning: divide by zero encountered in divide\n",
      "  mape = np.mean(np.abs((y_test - y_pred) / y_test)) * 100\n",
      "C:\\Users\\sohan\\AppData\\Local\\Temp\\ipykernel_22764\\4108763989.py:80: FutureWarning: The frame.append method is deprecated and will be removed from pandas in a future version. Use pandas.concat instead.\n",
      "  forecast_df = forecast_df.append({\n",
      "C:\\Users\\sohan\\anaconda3\\lib\\site-packages\\keras\\src\\layers\\rnn\\rnn.py:205: UserWarning: Do not pass an `input_shape`/`input_dim` argument to a layer. When using Sequential models, prefer using an `Input(shape)` object as the first layer in the model instead.\n",
      "  super().__init__(**kwargs)\n"
     ]
    },
    {
     "name": "stdout",
     "output_type": "stream",
     "text": [
      "\u001b[1m1/1\u001b[0m \u001b[32m━━━━━━━━━━━━━━━━━━━━\u001b[0m\u001b[37m\u001b[0m \u001b[1m0s\u001b[0m 148ms/step\n",
      "\u001b[1m1/1\u001b[0m \u001b[32m━━━━━━━━━━━━━━━━━━━━\u001b[0m\u001b[37m\u001b[0m \u001b[1m0s\u001b[0m 170ms/step\n",
      "MAE: 0.13061382050638073, MAPE: inf, R-squared: 0.7676845693180865\n",
      "Training LSTM model for Material ID: 18176\n"
     ]
    },
    {
     "name": "stderr",
     "output_type": "stream",
     "text": [
      "C:\\Users\\sohan\\AppData\\Local\\Temp\\ipykernel_22764\\4108763989.py:12: RuntimeWarning: divide by zero encountered in divide\n",
      "  mape = np.mean(np.abs((y_test - y_pred) / y_test)) * 100\n",
      "C:\\Users\\sohan\\AppData\\Local\\Temp\\ipykernel_22764\\4108763989.py:80: FutureWarning: The frame.append method is deprecated and will be removed from pandas in a future version. Use pandas.concat instead.\n",
      "  forecast_df = forecast_df.append({\n",
      "C:\\Users\\sohan\\anaconda3\\lib\\site-packages\\keras\\src\\layers\\rnn\\rnn.py:205: UserWarning: Do not pass an `input_shape`/`input_dim` argument to a layer. When using Sequential models, prefer using an `Input(shape)` object as the first layer in the model instead.\n",
      "  super().__init__(**kwargs)\n"
     ]
    },
    {
     "name": "stdout",
     "output_type": "stream",
     "text": [
      "\u001b[1m1/1\u001b[0m \u001b[32m━━━━━━━━━━━━━━━━━━━━\u001b[0m\u001b[37m\u001b[0m \u001b[1m0s\u001b[0m 140ms/step\n",
      "\u001b[1m1/1\u001b[0m \u001b[32m━━━━━━━━━━━━━━━━━━━━\u001b[0m\u001b[37m\u001b[0m \u001b[1m0s\u001b[0m 147ms/step\n",
      "MAE: 0.15147001944579086, MAPE: inf, R-squared: 0.6853881992946863\n",
      "Evaluating models for Material ID: 18997\n",
      "Training SimpleRNN model for Material ID: 18997\n"
     ]
    },
    {
     "name": "stderr",
     "output_type": "stream",
     "text": [
      "C:\\Users\\sohan\\AppData\\Local\\Temp\\ipykernel_22764\\4108763989.py:12: RuntimeWarning: divide by zero encountered in divide\n",
      "  mape = np.mean(np.abs((y_test - y_pred) / y_test)) * 100\n",
      "C:\\Users\\sohan\\AppData\\Local\\Temp\\ipykernel_22764\\4108763989.py:80: FutureWarning: The frame.append method is deprecated and will be removed from pandas in a future version. Use pandas.concat instead.\n",
      "  forecast_df = forecast_df.append({\n",
      "C:\\Users\\sohan\\anaconda3\\lib\\site-packages\\keras\\src\\layers\\rnn\\rnn.py:205: UserWarning: Do not pass an `input_shape`/`input_dim` argument to a layer. When using Sequential models, prefer using an `Input(shape)` object as the first layer in the model instead.\n",
      "  super().__init__(**kwargs)\n"
     ]
    },
    {
     "name": "stdout",
     "output_type": "stream",
     "text": [
      "\u001b[1m1/1\u001b[0m \u001b[32m━━━━━━━━━━━━━━━━━━━━\u001b[0m\u001b[37m\u001b[0m \u001b[1m0s\u001b[0m 164ms/step\n",
      "\u001b[1m1/1\u001b[0m \u001b[32m━━━━━━━━━━━━━━━━━━━━\u001b[0m\u001b[37m\u001b[0m \u001b[1m0s\u001b[0m 118ms/step\n",
      "MAE: 0.10418477553129199, MAPE: inf, R-squared: 0.8447139432711878\n",
      "Training GRU model for Material ID: 18997\n"
     ]
    },
    {
     "name": "stderr",
     "output_type": "stream",
     "text": [
      "C:\\Users\\sohan\\AppData\\Local\\Temp\\ipykernel_22764\\4108763989.py:12: RuntimeWarning: divide by zero encountered in divide\n",
      "  mape = np.mean(np.abs((y_test - y_pred) / y_test)) * 100\n",
      "C:\\Users\\sohan\\AppData\\Local\\Temp\\ipykernel_22764\\4108763989.py:80: FutureWarning: The frame.append method is deprecated and will be removed from pandas in a future version. Use pandas.concat instead.\n",
      "  forecast_df = forecast_df.append({\n",
      "C:\\Users\\sohan\\anaconda3\\lib\\site-packages\\keras\\src\\layers\\rnn\\rnn.py:205: UserWarning: Do not pass an `input_shape`/`input_dim` argument to a layer. When using Sequential models, prefer using an `Input(shape)` object as the first layer in the model instead.\n",
      "  super().__init__(**kwargs)\n"
     ]
    },
    {
     "name": "stdout",
     "output_type": "stream",
     "text": [
      "\u001b[1m1/1\u001b[0m \u001b[32m━━━━━━━━━━━━━━━━━━━━\u001b[0m\u001b[37m\u001b[0m \u001b[1m0s\u001b[0m 152ms/step\n",
      "\u001b[1m1/1\u001b[0m \u001b[32m━━━━━━━━━━━━━━━━━━━━\u001b[0m\u001b[37m\u001b[0m \u001b[1m0s\u001b[0m 242ms/step\n",
      "MAE: 0.10087160265445712, MAPE: inf, R-squared: 0.8507243173264178\n",
      "Training LSTM model for Material ID: 18997\n"
     ]
    },
    {
     "name": "stderr",
     "output_type": "stream",
     "text": [
      "C:\\Users\\sohan\\AppData\\Local\\Temp\\ipykernel_22764\\4108763989.py:12: RuntimeWarning: divide by zero encountered in divide\n",
      "  mape = np.mean(np.abs((y_test - y_pred) / y_test)) * 100\n",
      "C:\\Users\\sohan\\AppData\\Local\\Temp\\ipykernel_22764\\4108763989.py:80: FutureWarning: The frame.append method is deprecated and will be removed from pandas in a future version. Use pandas.concat instead.\n",
      "  forecast_df = forecast_df.append({\n",
      "C:\\Users\\sohan\\anaconda3\\lib\\site-packages\\keras\\src\\layers\\rnn\\rnn.py:205: UserWarning: Do not pass an `input_shape`/`input_dim` argument to a layer. When using Sequential models, prefer using an `Input(shape)` object as the first layer in the model instead.\n",
      "  super().__init__(**kwargs)\n"
     ]
    },
    {
     "name": "stdout",
     "output_type": "stream",
     "text": [
      "\u001b[1m1/1\u001b[0m \u001b[32m━━━━━━━━━━━━━━━━━━━━\u001b[0m\u001b[37m\u001b[0m \u001b[1m0s\u001b[0m 144ms/step\n",
      "\u001b[1m1/1\u001b[0m \u001b[32m━━━━━━━━━━━━━━━━━━━━\u001b[0m\u001b[37m\u001b[0m \u001b[1m0s\u001b[0m 155ms/step\n",
      "MAE: 0.16303195106983187, MAPE: inf, R-squared: 0.6108391862535831\n",
      "Evaluating models for Material ID: 22297\n",
      "Training SimpleRNN model for Material ID: 22297\n"
     ]
    },
    {
     "name": "stderr",
     "output_type": "stream",
     "text": [
      "C:\\Users\\sohan\\AppData\\Local\\Temp\\ipykernel_22764\\4108763989.py:12: RuntimeWarning: divide by zero encountered in divide\n",
      "  mape = np.mean(np.abs((y_test - y_pred) / y_test)) * 100\n",
      "C:\\Users\\sohan\\AppData\\Local\\Temp\\ipykernel_22764\\4108763989.py:80: FutureWarning: The frame.append method is deprecated and will be removed from pandas in a future version. Use pandas.concat instead.\n",
      "  forecast_df = forecast_df.append({\n",
      "C:\\Users\\sohan\\anaconda3\\lib\\site-packages\\keras\\src\\layers\\rnn\\rnn.py:205: UserWarning: Do not pass an `input_shape`/`input_dim` argument to a layer. When using Sequential models, prefer using an `Input(shape)` object as the first layer in the model instead.\n",
      "  super().__init__(**kwargs)\n"
     ]
    },
    {
     "name": "stdout",
     "output_type": "stream",
     "text": [
      "\u001b[1m1/1\u001b[0m \u001b[32m━━━━━━━━━━━━━━━━━━━━\u001b[0m\u001b[37m\u001b[0m \u001b[1m0s\u001b[0m 127ms/step\n",
      "\u001b[1m1/1\u001b[0m \u001b[32m━━━━━━━━━━━━━━━━━━━━\u001b[0m\u001b[37m\u001b[0m \u001b[1m0s\u001b[0m 123ms/step\n",
      "MAE: 0.0028625595709309004, MAPE: inf, R-squared: 0.999880266879234\n",
      "Training GRU model for Material ID: 22297\n"
     ]
    },
    {
     "name": "stderr",
     "output_type": "stream",
     "text": [
      "C:\\Users\\sohan\\AppData\\Local\\Temp\\ipykernel_22764\\4108763989.py:12: RuntimeWarning: divide by zero encountered in divide\n",
      "  mape = np.mean(np.abs((y_test - y_pred) / y_test)) * 100\n",
      "C:\\Users\\sohan\\AppData\\Local\\Temp\\ipykernel_22764\\4108763989.py:80: FutureWarning: The frame.append method is deprecated and will be removed from pandas in a future version. Use pandas.concat instead.\n",
      "  forecast_df = forecast_df.append({\n",
      "C:\\Users\\sohan\\anaconda3\\lib\\site-packages\\keras\\src\\layers\\rnn\\rnn.py:205: UserWarning: Do not pass an `input_shape`/`input_dim` argument to a layer. When using Sequential models, prefer using an `Input(shape)` object as the first layer in the model instead.\n",
      "  super().__init__(**kwargs)\n"
     ]
    },
    {
     "name": "stdout",
     "output_type": "stream",
     "text": [
      "\u001b[1m1/1\u001b[0m \u001b[32m━━━━━━━━━━━━━━━━━━━━\u001b[0m\u001b[37m\u001b[0m \u001b[1m0s\u001b[0m 234ms/step\n",
      "\u001b[1m1/1\u001b[0m \u001b[32m━━━━━━━━━━━━━━━━━━━━\u001b[0m\u001b[37m\u001b[0m \u001b[1m0s\u001b[0m 259ms/step\n",
      "MAE: 0.12610366702079776, MAPE: inf, R-squared: 0.7385068513543497\n",
      "Training LSTM model for Material ID: 22297\n"
     ]
    },
    {
     "name": "stderr",
     "output_type": "stream",
     "text": [
      "C:\\Users\\sohan\\AppData\\Local\\Temp\\ipykernel_22764\\4108763989.py:12: RuntimeWarning: divide by zero encountered in divide\n",
      "  mape = np.mean(np.abs((y_test - y_pred) / y_test)) * 100\n",
      "C:\\Users\\sohan\\AppData\\Local\\Temp\\ipykernel_22764\\4108763989.py:80: FutureWarning: The frame.append method is deprecated and will be removed from pandas in a future version. Use pandas.concat instead.\n",
      "  forecast_df = forecast_df.append({\n",
      "C:\\Users\\sohan\\anaconda3\\lib\\site-packages\\keras\\src\\layers\\rnn\\rnn.py:205: UserWarning: Do not pass an `input_shape`/`input_dim` argument to a layer. When using Sequential models, prefer using an `Input(shape)` object as the first layer in the model instead.\n",
      "  super().__init__(**kwargs)\n"
     ]
    },
    {
     "name": "stdout",
     "output_type": "stream",
     "text": [
      "\u001b[1m1/1\u001b[0m \u001b[32m━━━━━━━━━━━━━━━━━━━━\u001b[0m\u001b[37m\u001b[0m \u001b[1m0s\u001b[0m 210ms/step\n",
      "\u001b[1m1/1\u001b[0m \u001b[32m━━━━━━━━━━━━━━━━━━━━\u001b[0m\u001b[37m\u001b[0m \u001b[1m0s\u001b[0m 245ms/step\n",
      "MAE: 0.14883365094661716, MAPE: inf, R-squared: 0.6429069779595535\n",
      "   Time id          Material Quantity  Total_Value Material_Id      Model  \\\n",
      "0       37        C37-200258       11    156982.44        1708  SimpleRNN   \n",
      "1       37        C37-200258       11    156982.44        1708        GRU   \n",
      "2       37        C37-200258       11    156982.44        1708       LSTM   \n",
      "3       37        C65-200280       48    157149.14        2425  SimpleRNN   \n",
      "4       37        C65-200280       48    157149.14        2425        GRU   \n",
      "5       37        C65-200280       48    157149.14        2425       LSTM   \n",
      "6       37        S02-060397        2     30268.02        6324  SimpleRNN   \n",
      "7       37        S02-060397        2     30268.02        6324        GRU   \n",
      "8       37        S02-060397        2     30268.02        6324       LSTM   \n",
      "9       37        S06-310007      198    175678.84        6587  SimpleRNN   \n",
      "10      37        S06-310007      198    175678.84        6587        GRU   \n",
      "11      37        S06-310007      198    175678.84        6587       LSTM   \n",
      "12      37        S10-130653       97    740962.30        7385  SimpleRNN   \n",
      "13      37        S10-130653       97    740962.30        7385        GRU   \n",
      "14      37        S10-130653       97    740962.30        7385       LSTM   \n",
      "15      37        S10-130781      132    546171.00        7413  SimpleRNN   \n",
      "16      37        S10-130781      132    546171.00        7413        GRU   \n",
      "17      37        S10-130781      132    546171.00        7413       LSTM   \n",
      "18      37        S02-060529       12    246187.86       11101  SimpleRNN   \n",
      "19      37        S02-060529       12    246187.86       11101        GRU   \n",
      "20      37        S02-060529       12    246187.86       11101       LSTM   \n",
      "21      37        S12-060214       25    416336.42       14426  SimpleRNN   \n",
      "22      37        S12-060214       25    416336.42       14426        GRU   \n",
      "23      37        S12-060214       25    416336.42       14426       LSTM   \n",
      "24      37        S12-160332       10    262214.42       15905  SimpleRNN   \n",
      "25      37        S12-160332       10    262214.42       15905        GRU   \n",
      "26      37        S12-160332       10    262214.42       15905       LSTM   \n",
      "27      37  A11-14S-0113-SET        8    490059.19       18176  SimpleRNN   \n",
      "28      37  A11-14S-0113-SET        8    490059.19       18176        GRU   \n",
      "29      37  A11-14S-0113-SET        8    490059.19       18176       LSTM   \n",
      "30      37  A30-14S-0131-SET       26   1870716.06       18997  SimpleRNN   \n",
      "31      37  A30-14S-0131-SET       26   1870716.06       18997        GRU   \n",
      "32      37  A30-14S-0131-SET       26   1870716.06       18997       LSTM   \n",
      "33      37        S10-131029        9    198103.70       22297  SimpleRNN   \n",
      "34      37        S10-131029        9    198103.70       22297        GRU   \n",
      "35      37        S10-131029        9    198103.70       22297       LSTM   \n",
      "\n",
      "    Forecasted       MAE  MAPE        R2  \n",
      "0    16.656425  0.095610   inf  0.895714  \n",
      "1    15.669968  0.155657   inf  0.713409  \n",
      "2    15.702220  0.167064   inf  0.677476  \n",
      "3    42.672153  0.022737   inf  0.992627  \n",
      "4    45.118500  0.121247   inf  0.795517  \n",
      "5    46.282967  0.154666   inf  0.667975  \n",
      "6     8.410541  0.112084   inf  0.786873  \n",
      "7     8.334505  0.120040   inf  0.755866  \n",
      "8     8.533985  0.141269   inf  0.663156  \n",
      "9   146.993164  0.074033   inf  0.940731  \n",
      "10  142.048691  0.149171   inf  0.756244  \n",
      "11  141.512085  0.169656   inf  0.684299  \n",
      "12   57.886349  0.100512   inf  0.867437  \n",
      "13   58.016418  0.127500   inf  0.782848  \n",
      "14   58.630829  0.143450   inf  0.724200  \n",
      "15   86.222015  0.123147   inf  0.777974  \n",
      "16   84.614960  0.141877   inf  0.704410  \n",
      "17   81.587845  0.164981   inf  0.589842  \n",
      "18    4.106915  0.009622   inf  0.998539  \n",
      "19    5.401489  0.128216   inf  0.756918  \n",
      "20    6.032823  0.175412   inf  0.566905  \n",
      "21   30.737158  0.098565   inf  0.876315  \n",
      "22   29.936977  0.122466   inf  0.809249  \n",
      "23   27.595984  0.165201   inf  0.683912  \n",
      "24    6.027184  0.115816   inf  0.737030  \n",
      "25    6.009730  0.115732   inf  0.738233  \n",
      "26    6.125727  0.134164   inf  0.665611  \n",
      "27    5.684179  0.097295   inf  0.870833  \n",
      "28    5.471786  0.130614   inf  0.767685  \n",
      "29    5.399261  0.151470   inf  0.685388  \n",
      "30   18.171810  0.104185   inf  0.844714  \n",
      "31   17.972347  0.100872   inf  0.850724  \n",
      "32   18.003201  0.163032   inf  0.610839  \n",
      "33    9.041496  0.002863   inf  0.999880  \n",
      "34   10.564837  0.126104   inf  0.738507  \n",
      "35   10.903107  0.148834   inf  0.642907  \n"
     ]
    },
    {
     "name": "stderr",
     "output_type": "stream",
     "text": [
      "C:\\Users\\sohan\\AppData\\Local\\Temp\\ipykernel_22764\\4108763989.py:12: RuntimeWarning: divide by zero encountered in divide\n",
      "  mape = np.mean(np.abs((y_test - y_pred) / y_test)) * 100\n",
      "C:\\Users\\sohan\\AppData\\Local\\Temp\\ipykernel_22764\\4108763989.py:80: FutureWarning: The frame.append method is deprecated and will be removed from pandas in a future version. Use pandas.concat instead.\n",
      "  forecast_df = forecast_df.append({\n"
     ]
    }
   ],
   "source": [
    "from sklearn.metrics import mean_absolute_error, r2_score\n",
    "from sklearn.preprocessing import MinMaxScaler\n",
    "from keras.models import Sequential\n",
    "from keras.layers import SimpleRNN, GRU, LSTM, Dense\n",
    "import numpy as np\n",
    "import pandas as pd\n",
    "\n",
    "# Define the evaluate_model function with MAPE\n",
    "def evaluate_model(model, X_test, y_test):\n",
    "    y_pred = model.predict(X_test)\n",
    "    mae = mean_absolute_error(y_test, y_pred)\n",
    "    mape = np.mean(np.abs((y_test - y_pred) / y_test)) * 100\n",
    "    r2 = r2_score(y_test, y_pred)\n",
    "    return mae, mape, r2\n",
    "\n",
    "# Define train and test periods\n",
    "train_start_id = 25\n",
    "train_end_id = 36\n",
    "forecast_time_id = 37\n",
    "\n",
    "# Create an empty DataFrame to store forecasted values\n",
    "forecast_df = pd.DataFrame(columns=['Time id', 'Material', 'Quantity', 'Total_Value', 'Material_Id', 'Model', 'Forecasted', 'MAE', 'MAPE', 'R2'])\n",
    "\n",
    "# Define a function to build and train RNN model\n",
    "def build_and_train_model(X_train, y_train, model_type):\n",
    "    model = Sequential()\n",
    "    if model_type == 'SimpleRNN':\n",
    "        model.add(SimpleRNN(units=64, input_shape=(X_train.shape[1], X_train.shape[2])))\n",
    "    elif model_type == 'GRU':\n",
    "        model.add(GRU(units=64, input_shape=(X_train.shape[1], X_train.shape[2])))\n",
    "    elif model_type == 'LSTM':\n",
    "        model.add(LSTM(units=64, input_shape=(X_train.shape[1], X_train.shape[2])))\n",
    "    model.add(Dense(1))\n",
    "    model.compile(optimizer='adam', loss='mse')\n",
    "    model.fit(X_train, y_train, epochs=100, batch_size=32, verbose=0)\n",
    "    return model\n",
    "\n",
    "# Iterate over each material id\n",
    "for material_id in df['Material_Id'].unique():\n",
    "    print(f\"Evaluating models for Material ID: {material_id}\")\n",
    "    \n",
    "    # Filter data for the current material id\n",
    "    material_data = df[df['Material_Id'] == material_id]\n",
    "    \n",
    "    # Filter training data\n",
    "    # Filter training data\n",
    "    train_data = material_data[(material_data['Time id'] >= train_start_id) & (material_data['Time id'] <= train_end_id)]\n",
    "\n",
    "\n",
    "    # Skip evaluation if there is no training data\n",
    "    if train_data.empty:\n",
    "        print(f\"No training data available for Material ID: {material_id}. Skipping evaluation.\")\n",
    "        continue\n",
    "\n",
    "    # Scale the data\n",
    "    scaler = MinMaxScaler()\n",
    "    train_scaled = scaler.fit_transform(train_data[['Quantity']])\n",
    "\n",
    "    # Reshape input to be [samples, time steps, features]\n",
    "    X_train = np.reshape(train_scaled, (train_scaled.shape[0], 1, 1))\n",
    "    y_train = train_scaled[:, 0]  # Target variable is Quantity\n",
    "\n",
    "    # Evaluate SimpleRNN, GRU, and LSTM models\n",
    "    for model_type in ['SimpleRNN', 'GRU', 'LSTM']:\n",
    "        print(f\"Training {model_type} model for Material ID: {material_id}\")\n",
    "        \n",
    "        # Build and train the model\n",
    "        model = build_and_train_model(X_train, y_train, model_type)\n",
    "        \n",
    "        # Forecast for the next time id (Time id 37)\n",
    "        forecasted_values = model.predict(X_train[-1:])  # Use the last time step of the training data for forecasting\n",
    "        forecasted_values = scaler.inverse_transform(forecasted_values.reshape(-1, 1)).flatten()\n",
    "        forecast = forecasted_values[0]\n",
    "\n",
    "        # Evaluate the model for the current Material Id\n",
    "        mae, mape, r2 = evaluate_model(model, X_train, y_train)\n",
    "        print(f\"MAE: {mae}, MAPE: {mape}, R-squared: {r2}\")\n",
    "\n",
    "        # Append to forecast DataFrame\n",
    "        forecast_df = forecast_df.append({\n",
    "            'Time id': forecast_time_id,\n",
    "            'Material': material_data['Material'].iloc[-1],\n",
    "            'Quantity': material_data['Quantity'].iloc[-1],\n",
    "            'Total_Value': material_data['Total_Value'].iloc[-1],\n",
    "            'Material_Id': material_id,\n",
    "            'Model': model_type,\n",
    "            'Forecasted': forecast,\n",
    "            'MAE': mae,\n",
    "            'MAPE': mape,\n",
    "            'R2': r2\n",
    "        }, ignore_index=True)\n",
    "\n",
    "# Display the forecast DataFrame\n",
    "print(forecast_df)\n"
   ]
  },
  {
   "cell_type": "code",
   "execution_count": 5,
   "id": "ef248dd4",
   "metadata": {},
   "outputs": [
    {
     "name": "stdout",
     "output_type": "stream",
     "text": [
      "Overall MAE and R2 for each model:\n",
      "       Model       MAE        R2\n",
      "0        GRU  0.128291  0.764134\n",
      "1       LSTM  0.156600  0.655209\n",
      "2  SimpleRNN  0.079706  0.882389\n"
     ]
    }
   ],
   "source": [
    "\n",
    "\n",
    "# Group the forecast DataFrame by the 'Model' column and calculate the mean MAE and R2 for each group\n",
    "model_metrics = forecast_df.groupby('Model').agg({'MAE': 'mean', 'R2': 'mean'}).reset_index()\n",
    "\n",
    "# Print the overall MAE and R2 for each model\n",
    "print(\"Overall MAE and R2 for each model:\")\n",
    "print(model_metrics)\n",
    "\n"
   ]
  },
  {
   "cell_type": "code",
   "execution_count": null,
   "id": "8700384e",
   "metadata": {},
   "outputs": [],
   "source": []
  },
  {
   "cell_type": "code",
   "execution_count": 6,
   "id": "613738d7",
   "metadata": {
    "scrolled": true
   },
   "outputs": [
    {
     "name": "stdout",
     "output_type": "stream",
     "text": [
      "Evaluating models for Material ID: 1708"
     ]
    },
    {
     "name": "stderr",
     "output_type": "stream",
     "text": [
      "C:\\Users\\sohan\\anaconda3\\lib\\site-packages\\keras\\src\\layers\\rnn\\rnn.py:205: UserWarning: Do not pass an `input_shape`/`input_dim` argument to a layer. When using Sequential models, prefer using an `Input(shape)` object as the first layer in the model instead.\n",
      "  super().__init__(**kwargs)\n"
     ]
    },
    {
     "name": "stdout",
     "output_type": "stream",
     "text": [
      "\n",
      "Evaluating SimpleRNN model for Material ID: 1708\n",
      "\u001b[1m1/1\u001b[0m \u001b[32m━━━━━━━━━━━━━━━━━━━━\u001b[0m\u001b[37m\u001b[0m \u001b[1m0s\u001b[0m 121ms/step\n",
      "MAPE: 10.58114767074585\n",
      "Evaluating GRU model for Material ID: 1708\n"
     ]
    },
    {
     "name": "stderr",
     "output_type": "stream",
     "text": [
      "C:\\Users\\sohan\\AppData\\Local\\Temp\\ipykernel_22764\\472838995.py:77: FutureWarning: The frame.append method is deprecated and will be removed from pandas in a future version. Use pandas.concat instead.\n",
      "  forecast_df = forecast_df.append({\n",
      "C:\\Users\\sohan\\anaconda3\\lib\\site-packages\\keras\\src\\layers\\rnn\\rnn.py:205: UserWarning: Do not pass an `input_shape`/`input_dim` argument to a layer. When using Sequential models, prefer using an `Input(shape)` object as the first layer in the model instead.\n",
      "  super().__init__(**kwargs)\n"
     ]
    },
    {
     "name": "stdout",
     "output_type": "stream",
     "text": [
      "\u001b[1m1/1\u001b[0m \u001b[32m━━━━━━━━━━━━━━━━━━━━\u001b[0m\u001b[37m\u001b[0m \u001b[1m0s\u001b[0m 265ms/step\n",
      "MAPE: 0.8101582527160645\n",
      "Evaluating LSTM model for Material ID: 1708\n"
     ]
    },
    {
     "name": "stderr",
     "output_type": "stream",
     "text": [
      "C:\\Users\\sohan\\AppData\\Local\\Temp\\ipykernel_22764\\472838995.py:77: FutureWarning: The frame.append method is deprecated and will be removed from pandas in a future version. Use pandas.concat instead.\n",
      "  forecast_df = forecast_df.append({\n",
      "C:\\Users\\sohan\\anaconda3\\lib\\site-packages\\keras\\src\\layers\\rnn\\rnn.py:205: UserWarning: Do not pass an `input_shape`/`input_dim` argument to a layer. When using Sequential models, prefer using an `Input(shape)` object as the first layer in the model instead.\n",
      "  super().__init__(**kwargs)\n"
     ]
    },
    {
     "name": "stdout",
     "output_type": "stream",
     "text": [
      "\u001b[1m1/1\u001b[0m \u001b[32m━━━━━━━━━━━━━━━━━━━━\u001b[0m\u001b[37m\u001b[0m \u001b[1m0s\u001b[0m 208ms/step\n",
      "MAPE: 1.330876350402832\n",
      "Evaluating models for Material ID: 2425\n",
      "Evaluating SimpleRNN model for Material ID: 2425\n"
     ]
    },
    {
     "name": "stderr",
     "output_type": "stream",
     "text": [
      "C:\\Users\\sohan\\AppData\\Local\\Temp\\ipykernel_22764\\472838995.py:77: FutureWarning: The frame.append method is deprecated and will be removed from pandas in a future version. Use pandas.concat instead.\n",
      "  forecast_df = forecast_df.append({\n",
      "C:\\Users\\sohan\\anaconda3\\lib\\site-packages\\keras\\src\\layers\\rnn\\rnn.py:205: UserWarning: Do not pass an `input_shape`/`input_dim` argument to a layer. When using Sequential models, prefer using an `Input(shape)` object as the first layer in the model instead.\n",
      "  super().__init__(**kwargs)\n"
     ]
    },
    {
     "name": "stdout",
     "output_type": "stream",
     "text": [
      "\u001b[1m1/1\u001b[0m \u001b[32m━━━━━━━━━━━━━━━━━━━━\u001b[0m\u001b[37m\u001b[0m \u001b[1m0s\u001b[0m 118ms/step\n",
      "MAPE: 49.61171643487338\n",
      "Evaluating GRU model for Material ID: 2425\n"
     ]
    },
    {
     "name": "stderr",
     "output_type": "stream",
     "text": [
      "C:\\Users\\sohan\\AppData\\Local\\Temp\\ipykernel_22764\\472838995.py:77: FutureWarning: The frame.append method is deprecated and will be removed from pandas in a future version. Use pandas.concat instead.\n",
      "  forecast_df = forecast_df.append({\n",
      "C:\\Users\\sohan\\anaconda3\\lib\\site-packages\\keras\\src\\layers\\rnn\\rnn.py:205: UserWarning: Do not pass an `input_shape`/`input_dim` argument to a layer. When using Sequential models, prefer using an `Input(shape)` object as the first layer in the model instead.\n",
      "  super().__init__(**kwargs)\n"
     ]
    },
    {
     "name": "stdout",
     "output_type": "stream",
     "text": [
      "\u001b[1m1/1\u001b[0m \u001b[32m━━━━━━━━━━━━━━━━━━━━\u001b[0m\u001b[37m\u001b[0m \u001b[1m0s\u001b[0m 231ms/step\n",
      "MAPE: 57.336846713362064\n",
      "Evaluating LSTM model for Material ID: 2425\n"
     ]
    },
    {
     "name": "stderr",
     "output_type": "stream",
     "text": [
      "C:\\Users\\sohan\\AppData\\Local\\Temp\\ipykernel_22764\\472838995.py:77: FutureWarning: The frame.append method is deprecated and will be removed from pandas in a future version. Use pandas.concat instead.\n",
      "  forecast_df = forecast_df.append({\n",
      "C:\\Users\\sohan\\anaconda3\\lib\\site-packages\\keras\\src\\layers\\rnn\\rnn.py:205: UserWarning: Do not pass an `input_shape`/`input_dim` argument to a layer. When using Sequential models, prefer using an `Input(shape)` object as the first layer in the model instead.\n",
      "  super().__init__(**kwargs)\n"
     ]
    },
    {
     "name": "stdout",
     "output_type": "stream",
     "text": [
      "\u001b[1m1/1\u001b[0m \u001b[32m━━━━━━━━━━━━━━━━━━━━\u001b[0m\u001b[37m\u001b[0m \u001b[1m0s\u001b[0m 140ms/step\n",
      "MAPE: 59.48569199134563\n",
      "Evaluating models for Material ID: 6324\n",
      "Evaluating SimpleRNN model for Material ID: 6324\n"
     ]
    },
    {
     "name": "stderr",
     "output_type": "stream",
     "text": [
      "C:\\Users\\sohan\\AppData\\Local\\Temp\\ipykernel_22764\\472838995.py:77: FutureWarning: The frame.append method is deprecated and will be removed from pandas in a future version. Use pandas.concat instead.\n",
      "  forecast_df = forecast_df.append({\n",
      "C:\\Users\\sohan\\anaconda3\\lib\\site-packages\\keras\\src\\layers\\rnn\\rnn.py:205: UserWarning: Do not pass an `input_shape`/`input_dim` argument to a layer. When using Sequential models, prefer using an `Input(shape)` object as the first layer in the model instead.\n",
      "  super().__init__(**kwargs)\n"
     ]
    },
    {
     "name": "stdout",
     "output_type": "stream",
     "text": [
      "\u001b[1m1/1\u001b[0m \u001b[32m━━━━━━━━━━━━━━━━━━━━\u001b[0m\u001b[37m\u001b[0m \u001b[1m0s\u001b[0m 173ms/step\n",
      "MAPE: 105.1243543624878\n",
      "Evaluating GRU model for Material ID: 6324\n"
     ]
    },
    {
     "name": "stderr",
     "output_type": "stream",
     "text": [
      "C:\\Users\\sohan\\AppData\\Local\\Temp\\ipykernel_22764\\472838995.py:77: FutureWarning: The frame.append method is deprecated and will be removed from pandas in a future version. Use pandas.concat instead.\n",
      "  forecast_df = forecast_df.append({\n",
      "C:\\Users\\sohan\\anaconda3\\lib\\site-packages\\keras\\src\\layers\\rnn\\rnn.py:205: UserWarning: Do not pass an `input_shape`/`input_dim` argument to a layer. When using Sequential models, prefer using an `Input(shape)` object as the first layer in the model instead.\n",
      "  super().__init__(**kwargs)\n"
     ]
    },
    {
     "name": "stdout",
     "output_type": "stream",
     "text": [
      "\u001b[1m1/1\u001b[0m \u001b[32m━━━━━━━━━━━━━━━━━━━━\u001b[0m\u001b[37m\u001b[0m \u001b[1m0s\u001b[0m 163ms/step\n",
      "MAPE: 108.03735256195068\n",
      "Evaluating LSTM model for Material ID: 6324\n"
     ]
    },
    {
     "name": "stderr",
     "output_type": "stream",
     "text": [
      "C:\\Users\\sohan\\AppData\\Local\\Temp\\ipykernel_22764\\472838995.py:77: FutureWarning: The frame.append method is deprecated and will be removed from pandas in a future version. Use pandas.concat instead.\n",
      "  forecast_df = forecast_df.append({\n",
      "C:\\Users\\sohan\\anaconda3\\lib\\site-packages\\keras\\src\\layers\\rnn\\rnn.py:205: UserWarning: Do not pass an `input_shape`/`input_dim` argument to a layer. When using Sequential models, prefer using an `Input(shape)` object as the first layer in the model instead.\n",
      "  super().__init__(**kwargs)\n"
     ]
    },
    {
     "name": "stdout",
     "output_type": "stream",
     "text": [
      "\u001b[1m1/1\u001b[0m \u001b[32m━━━━━━━━━━━━━━━━━━━━\u001b[0m\u001b[37m\u001b[0m \u001b[1m0s\u001b[0m 144ms/step\n",
      "MAPE: 112.23976612091064\n",
      "Evaluating models for Material ID: 6587\n",
      "Evaluating SimpleRNN model for Material ID: 6587\n"
     ]
    },
    {
     "name": "stderr",
     "output_type": "stream",
     "text": [
      "C:\\Users\\sohan\\AppData\\Local\\Temp\\ipykernel_22764\\472838995.py:77: FutureWarning: The frame.append method is deprecated and will be removed from pandas in a future version. Use pandas.concat instead.\n",
      "  forecast_df = forecast_df.append({\n",
      "C:\\Users\\sohan\\anaconda3\\lib\\site-packages\\keras\\src\\layers\\rnn\\rnn.py:205: UserWarning: Do not pass an `input_shape`/`input_dim` argument to a layer. When using Sequential models, prefer using an `Input(shape)` object as the first layer in the model instead.\n",
      "  super().__init__(**kwargs)\n"
     ]
    },
    {
     "name": "stdout",
     "output_type": "stream",
     "text": [
      "\u001b[1m1/1\u001b[0m \u001b[32m━━━━━━━━━━━━━━━━━━━━\u001b[0m\u001b[37m\u001b[0m \u001b[1m0s\u001b[0m 151ms/step\n",
      "MAPE: 8.885752044109084\n",
      "Evaluating GRU model for Material ID: 6587\n"
     ]
    },
    {
     "name": "stderr",
     "output_type": "stream",
     "text": [
      "C:\\Users\\sohan\\AppData\\Local\\Temp\\ipykernel_22764\\472838995.py:77: FutureWarning: The frame.append method is deprecated and will be removed from pandas in a future version. Use pandas.concat instead.\n",
      "  forecast_df = forecast_df.append({\n",
      "C:\\Users\\sohan\\anaconda3\\lib\\site-packages\\keras\\src\\layers\\rnn\\rnn.py:205: UserWarning: Do not pass an `input_shape`/`input_dim` argument to a layer. When using Sequential models, prefer using an `Input(shape)` object as the first layer in the model instead.\n",
      "  super().__init__(**kwargs)\n"
     ]
    },
    {
     "name": "stdout",
     "output_type": "stream",
     "text": [
      "\u001b[1m1/1\u001b[0m \u001b[32m━━━━━━━━━━━━━━━━━━━━\u001b[0m\u001b[37m\u001b[0m \u001b[1m0s\u001b[0m 162ms/step\n",
      "MAPE: 11.276169297117624\n",
      "Evaluating LSTM model for Material ID: 6587\n"
     ]
    },
    {
     "name": "stderr",
     "output_type": "stream",
     "text": [
      "C:\\Users\\sohan\\AppData\\Local\\Temp\\ipykernel_22764\\472838995.py:77: FutureWarning: The frame.append method is deprecated and will be removed from pandas in a future version. Use pandas.concat instead.\n",
      "  forecast_df = forecast_df.append({\n",
      "C:\\Users\\sohan\\anaconda3\\lib\\site-packages\\keras\\src\\layers\\rnn\\rnn.py:205: UserWarning: Do not pass an `input_shape`/`input_dim` argument to a layer. When using Sequential models, prefer using an `Input(shape)` object as the first layer in the model instead.\n",
      "  super().__init__(**kwargs)\n"
     ]
    },
    {
     "name": "stdout",
     "output_type": "stream",
     "text": [
      "\u001b[1m1/1\u001b[0m \u001b[32m━━━━━━━━━━━━━━━━━━━━\u001b[0m\u001b[37m\u001b[0m \u001b[1m0s\u001b[0m 138ms/step\n",
      "MAPE: 13.499668666294642\n",
      "Evaluating models for Material ID: 7385\n",
      "Evaluating SimpleRNN model for Material ID: 7385\n"
     ]
    },
    {
     "name": "stderr",
     "output_type": "stream",
     "text": [
      "C:\\Users\\sohan\\AppData\\Local\\Temp\\ipykernel_22764\\472838995.py:77: FutureWarning: The frame.append method is deprecated and will be removed from pandas in a future version. Use pandas.concat instead.\n",
      "  forecast_df = forecast_df.append({\n",
      "C:\\Users\\sohan\\anaconda3\\lib\\site-packages\\keras\\src\\layers\\rnn\\rnn.py:205: UserWarning: Do not pass an `input_shape`/`input_dim` argument to a layer. When using Sequential models, prefer using an `Input(shape)` object as the first layer in the model instead.\n",
      "  super().__init__(**kwargs)\n"
     ]
    },
    {
     "name": "stdout",
     "output_type": "stream",
     "text": [
      "\u001b[1m1/1\u001b[0m \u001b[32m━━━━━━━━━━━━━━━━━━━━\u001b[0m\u001b[37m\u001b[0m \u001b[1m0s\u001b[0m 117ms/step\n",
      "MAPE: 53.36631585743802\n",
      "Evaluating GRU model for Material ID: 7385\n"
     ]
    },
    {
     "name": "stderr",
     "output_type": "stream",
     "text": [
      "C:\\Users\\sohan\\AppData\\Local\\Temp\\ipykernel_22764\\472838995.py:77: FutureWarning: The frame.append method is deprecated and will be removed from pandas in a future version. Use pandas.concat instead.\n",
      "  forecast_df = forecast_df.append({\n",
      "C:\\Users\\sohan\\anaconda3\\lib\\site-packages\\keras\\src\\layers\\rnn\\rnn.py:205: UserWarning: Do not pass an `input_shape`/`input_dim` argument to a layer. When using Sequential models, prefer using an `Input(shape)` object as the first layer in the model instead.\n",
      "  super().__init__(**kwargs)\n"
     ]
    },
    {
     "name": "stdout",
     "output_type": "stream",
     "text": [
      "\u001b[1m1/1\u001b[0m \u001b[32m━━━━━━━━━━━━━━━━━━━━\u001b[0m\u001b[37m\u001b[0m \u001b[1m0s\u001b[0m 162ms/step\n",
      "MAPE: 51.68583452208968\n",
      "Evaluating LSTM model for Material ID: 7385\n"
     ]
    },
    {
     "name": "stderr",
     "output_type": "stream",
     "text": [
      "C:\\Users\\sohan\\AppData\\Local\\Temp\\ipykernel_22764\\472838995.py:77: FutureWarning: The frame.append method is deprecated and will be removed from pandas in a future version. Use pandas.concat instead.\n",
      "  forecast_df = forecast_df.append({\n",
      "C:\\Users\\sohan\\anaconda3\\lib\\site-packages\\keras\\src\\layers\\rnn\\rnn.py:205: UserWarning: Do not pass an `input_shape`/`input_dim` argument to a layer. When using Sequential models, prefer using an `Input(shape)` object as the first layer in the model instead.\n",
      "  super().__init__(**kwargs)\n"
     ]
    },
    {
     "name": "stdout",
     "output_type": "stream",
     "text": [
      "\u001b[1m1/1\u001b[0m \u001b[32m━━━━━━━━━━━━━━━━━━━━\u001b[0m\u001b[37m\u001b[0m \u001b[1m0s\u001b[0m 133ms/step\n",
      "MAPE: 51.84869372155055\n",
      "Evaluating models for Material ID: 7413\n",
      "Evaluating SimpleRNN model for Material ID: 7413\n"
     ]
    },
    {
     "name": "stderr",
     "output_type": "stream",
     "text": [
      "C:\\Users\\sohan\\AppData\\Local\\Temp\\ipykernel_22764\\472838995.py:77: FutureWarning: The frame.append method is deprecated and will be removed from pandas in a future version. Use pandas.concat instead.\n",
      "  forecast_df = forecast_df.append({\n",
      "C:\\Users\\sohan\\anaconda3\\lib\\site-packages\\keras\\src\\layers\\rnn\\rnn.py:205: UserWarning: Do not pass an `input_shape`/`input_dim` argument to a layer. When using Sequential models, prefer using an `Input(shape)` object as the first layer in the model instead.\n",
      "  super().__init__(**kwargs)\n"
     ]
    },
    {
     "name": "stdout",
     "output_type": "stream",
     "text": [
      "\u001b[1m1/1\u001b[0m \u001b[32m━━━━━━━━━━━━━━━━━━━━\u001b[0m\u001b[37m\u001b[0m \u001b[1m0s\u001b[0m 116ms/step\n",
      "MAPE: 38.859054777357315\n",
      "Evaluating GRU model for Material ID: 7413\n"
     ]
    },
    {
     "name": "stderr",
     "output_type": "stream",
     "text": [
      "C:\\Users\\sohan\\AppData\\Local\\Temp\\ipykernel_22764\\472838995.py:77: FutureWarning: The frame.append method is deprecated and will be removed from pandas in a future version. Use pandas.concat instead.\n",
      "  forecast_df = forecast_df.append({\n",
      "C:\\Users\\sohan\\anaconda3\\lib\\site-packages\\keras\\src\\layers\\rnn\\rnn.py:205: UserWarning: Do not pass an `input_shape`/`input_dim` argument to a layer. When using Sequential models, prefer using an `Input(shape)` object as the first layer in the model instead.\n",
      "  super().__init__(**kwargs)\n"
     ]
    },
    {
     "name": "stdout",
     "output_type": "stream",
     "text": [
      "\u001b[1m1/1\u001b[0m \u001b[32m━━━━━━━━━━━━━━━━━━━━\u001b[0m\u001b[37m\u001b[0m \u001b[1m0s\u001b[0m 225ms/step\n",
      "MAPE: 41.065316730075416\n",
      "Evaluating LSTM model for Material ID: 7413\n"
     ]
    },
    {
     "name": "stderr",
     "output_type": "stream",
     "text": [
      "C:\\Users\\sohan\\AppData\\Local\\Temp\\ipykernel_22764\\472838995.py:77: FutureWarning: The frame.append method is deprecated and will be removed from pandas in a future version. Use pandas.concat instead.\n",
      "  forecast_df = forecast_df.append({\n",
      "C:\\Users\\sohan\\anaconda3\\lib\\site-packages\\keras\\src\\layers\\rnn\\rnn.py:205: UserWarning: Do not pass an `input_shape`/`input_dim` argument to a layer. When using Sequential models, prefer using an `Input(shape)` object as the first layer in the model instead.\n",
      "  super().__init__(**kwargs)\n"
     ]
    },
    {
     "name": "stdout",
     "output_type": "stream",
     "text": [
      "\u001b[1m1/1\u001b[0m \u001b[32m━━━━━━━━━━━━━━━━━━━━\u001b[0m\u001b[37m\u001b[0m \u001b[1m0s\u001b[0m 143ms/step\n",
      "MAPE: 43.115154902140304\n",
      "Evaluating models for Material ID: 11101\n",
      "Evaluating SimpleRNN model for Material ID: 11101\n"
     ]
    },
    {
     "name": "stderr",
     "output_type": "stream",
     "text": [
      "C:\\Users\\sohan\\AppData\\Local\\Temp\\ipykernel_22764\\472838995.py:77: FutureWarning: The frame.append method is deprecated and will be removed from pandas in a future version. Use pandas.concat instead.\n",
      "  forecast_df = forecast_df.append({\n",
      "C:\\Users\\sohan\\anaconda3\\lib\\site-packages\\keras\\src\\layers\\rnn\\rnn.py:205: UserWarning: Do not pass an `input_shape`/`input_dim` argument to a layer. When using Sequential models, prefer using an `Input(shape)` object as the first layer in the model instead.\n",
      "  super().__init__(**kwargs)\n"
     ]
    },
    {
     "name": "stdout",
     "output_type": "stream",
     "text": [
      "\u001b[1m1/1\u001b[0m \u001b[32m━━━━━━━━━━━━━━━━━━━━\u001b[0m\u001b[37m\u001b[0m \u001b[1m0s\u001b[0m 127ms/step\n",
      "MAPE: 74.9080843395657\n",
      "Evaluating GRU model for Material ID: 11101\n"
     ]
    },
    {
     "name": "stderr",
     "output_type": "stream",
     "text": [
      "C:\\Users\\sohan\\AppData\\Local\\Temp\\ipykernel_22764\\472838995.py:77: FutureWarning: The frame.append method is deprecated and will be removed from pandas in a future version. Use pandas.concat instead.\n",
      "  forecast_df = forecast_df.append({\n",
      "C:\\Users\\sohan\\anaconda3\\lib\\site-packages\\keras\\src\\layers\\rnn\\rnn.py:205: UserWarning: Do not pass an `input_shape`/`input_dim` argument to a layer. When using Sequential models, prefer using an `Input(shape)` object as the first layer in the model instead.\n",
      "  super().__init__(**kwargs)\n"
     ]
    },
    {
     "name": "stdout",
     "output_type": "stream",
     "text": [
      "\u001b[1m1/1\u001b[0m \u001b[32m━━━━━━━━━━━━━━━━━━━━\u001b[0m\u001b[37m\u001b[0m \u001b[1m0s\u001b[0m 187ms/step\n",
      "MAPE: 72.38180107540555\n",
      "Evaluating LSTM model for Material ID: 11101\n"
     ]
    },
    {
     "name": "stderr",
     "output_type": "stream",
     "text": [
      "C:\\Users\\sohan\\AppData\\Local\\Temp\\ipykernel_22764\\472838995.py:77: FutureWarning: The frame.append method is deprecated and will be removed from pandas in a future version. Use pandas.concat instead.\n",
      "  forecast_df = forecast_df.append({\n",
      "C:\\Users\\sohan\\anaconda3\\lib\\site-packages\\keras\\src\\layers\\rnn\\rnn.py:205: UserWarning: Do not pass an `input_shape`/`input_dim` argument to a layer. When using Sequential models, prefer using an `Input(shape)` object as the first layer in the model instead.\n",
      "  super().__init__(**kwargs)\n"
     ]
    },
    {
     "name": "stdout",
     "output_type": "stream",
     "text": [
      "\u001b[1m1/1\u001b[0m \u001b[32m━━━━━━━━━━━━━━━━━━━━\u001b[0m\u001b[37m\u001b[0m \u001b[1m0s\u001b[0m 135ms/step\n",
      "MAPE: 67.20140510135226\n",
      "Evaluating models for Material ID: 14426\n",
      "Evaluating SimpleRNN model for Material ID: 14426\n"
     ]
    },
    {
     "name": "stderr",
     "output_type": "stream",
     "text": [
      "C:\\Users\\sohan\\AppData\\Local\\Temp\\ipykernel_22764\\472838995.py:77: FutureWarning: The frame.append method is deprecated and will be removed from pandas in a future version. Use pandas.concat instead.\n",
      "  forecast_df = forecast_df.append({\n",
      "C:\\Users\\sohan\\anaconda3\\lib\\site-packages\\keras\\src\\layers\\rnn\\rnn.py:205: UserWarning: Do not pass an `input_shape`/`input_dim` argument to a layer. When using Sequential models, prefer using an `Input(shape)` object as the first layer in the model instead.\n",
      "  super().__init__(**kwargs)\n"
     ]
    },
    {
     "name": "stdout",
     "output_type": "stream",
     "text": [
      "\u001b[1m1/1\u001b[0m \u001b[32m━━━━━━━━━━━━━━━━━━━━\u001b[0m\u001b[37m\u001b[0m \u001b[1m0s\u001b[0m 116ms/step\n",
      "MAPE: 13.806947072347006\n",
      "Evaluating GRU model for Material ID: 14426\n"
     ]
    },
    {
     "name": "stderr",
     "output_type": "stream",
     "text": [
      "C:\\Users\\sohan\\AppData\\Local\\Temp\\ipykernel_22764\\472838995.py:77: FutureWarning: The frame.append method is deprecated and will be removed from pandas in a future version. Use pandas.concat instead.\n",
      "  forecast_df = forecast_df.append({\n",
      "C:\\Users\\sohan\\anaconda3\\lib\\site-packages\\keras\\src\\layers\\rnn\\rnn.py:205: UserWarning: Do not pass an `input_shape`/`input_dim` argument to a layer. When using Sequential models, prefer using an `Input(shape)` object as the first layer in the model instead.\n",
      "  super().__init__(**kwargs)\n"
     ]
    },
    {
     "name": "stdout",
     "output_type": "stream",
     "text": [
      "\u001b[1m1/1\u001b[0m \u001b[32m━━━━━━━━━━━━━━━━━━━━\u001b[0m\u001b[37m\u001b[0m \u001b[1m0s\u001b[0m 243ms/step\n",
      "MAPE: 17.445283465915256\n",
      "Evaluating LSTM model for Material ID: 14426\n"
     ]
    },
    {
     "name": "stderr",
     "output_type": "stream",
     "text": [
      "C:\\Users\\sohan\\AppData\\Local\\Temp\\ipykernel_22764\\472838995.py:77: FutureWarning: The frame.append method is deprecated and will be removed from pandas in a future version. Use pandas.concat instead.\n",
      "  forecast_df = forecast_df.append({\n",
      "C:\\Users\\sohan\\anaconda3\\lib\\site-packages\\keras\\src\\layers\\rnn\\rnn.py:205: UserWarning: Do not pass an `input_shape`/`input_dim` argument to a layer. When using Sequential models, prefer using an `Input(shape)` object as the first layer in the model instead.\n",
      "  super().__init__(**kwargs)\n"
     ]
    },
    {
     "name": "stdout",
     "output_type": "stream",
     "text": [
      "\u001b[1m1/1\u001b[0m \u001b[32m━━━━━━━━━━━━━━━━━━━━\u001b[0m\u001b[37m\u001b[0m \u001b[1m0s\u001b[0m 135ms/step\n",
      "MAPE: 25.562291675143772\n",
      "Evaluating models for Material ID: 15905\n",
      "No training or test data available for Material ID: 15905. Skipping evaluation.\n",
      "Evaluating models for Material ID: 18176\n",
      "Evaluating SimpleRNN model for Material ID: 18176\n"
     ]
    },
    {
     "name": "stderr",
     "output_type": "stream",
     "text": [
      "C:\\Users\\sohan\\AppData\\Local\\Temp\\ipykernel_22764\\472838995.py:77: FutureWarning: The frame.append method is deprecated and will be removed from pandas in a future version. Use pandas.concat instead.\n",
      "  forecast_df = forecast_df.append({\n",
      "C:\\Users\\sohan\\anaconda3\\lib\\site-packages\\keras\\src\\layers\\rnn\\rnn.py:205: UserWarning: Do not pass an `input_shape`/`input_dim` argument to a layer. When using Sequential models, prefer using an `Input(shape)` object as the first layer in the model instead.\n",
      "  super().__init__(**kwargs)\n"
     ]
    },
    {
     "name": "stdout",
     "output_type": "stream",
     "text": [
      "\u001b[1m1/1\u001b[0m \u001b[32m━━━━━━━━━━━━━━━━━━━━\u001b[0m\u001b[37m\u001b[0m \u001b[1m0s\u001b[0m 127ms/step\n",
      "MAPE: 93.76983642578125\n",
      "Evaluating GRU model for Material ID: 18176\n"
     ]
    },
    {
     "name": "stderr",
     "output_type": "stream",
     "text": [
      "C:\\Users\\sohan\\AppData\\Local\\Temp\\ipykernel_22764\\472838995.py:77: FutureWarning: The frame.append method is deprecated and will be removed from pandas in a future version. Use pandas.concat instead.\n",
      "  forecast_df = forecast_df.append({\n",
      "C:\\Users\\sohan\\anaconda3\\lib\\site-packages\\keras\\src\\layers\\rnn\\rnn.py:205: UserWarning: Do not pass an `input_shape`/`input_dim` argument to a layer. When using Sequential models, prefer using an `Input(shape)` object as the first layer in the model instead.\n",
      "  super().__init__(**kwargs)\n"
     ]
    },
    {
     "name": "stdout",
     "output_type": "stream",
     "text": [
      "\u001b[1m1/1\u001b[0m \u001b[32m━━━━━━━━━━━━━━━━━━━━\u001b[0m\u001b[37m\u001b[0m \u001b[1m0s\u001b[0m 154ms/step\n",
      "MAPE: 87.82353401184082\n",
      "Evaluating LSTM model for Material ID: 18176\n"
     ]
    },
    {
     "name": "stderr",
     "output_type": "stream",
     "text": [
      "C:\\Users\\sohan\\AppData\\Local\\Temp\\ipykernel_22764\\472838995.py:77: FutureWarning: The frame.append method is deprecated and will be removed from pandas in a future version. Use pandas.concat instead.\n",
      "  forecast_df = forecast_df.append({\n",
      "C:\\Users\\sohan\\anaconda3\\lib\\site-packages\\keras\\src\\layers\\rnn\\rnn.py:205: UserWarning: Do not pass an `input_shape`/`input_dim` argument to a layer. When using Sequential models, prefer using an `Input(shape)` object as the first layer in the model instead.\n",
      "  super().__init__(**kwargs)\n"
     ]
    },
    {
     "name": "stdout",
     "output_type": "stream",
     "text": [
      "\u001b[1m1/1\u001b[0m \u001b[32m━━━━━━━━━━━━━━━━━━━━\u001b[0m\u001b[37m\u001b[0m \u001b[1m0s\u001b[0m 114ms/step\n",
      "MAPE: 78.49690119425455\n",
      "Evaluating models for Material ID: 18997\n",
      "Evaluating SimpleRNN model for Material ID: 18997\n"
     ]
    },
    {
     "name": "stderr",
     "output_type": "stream",
     "text": [
      "C:\\Users\\sohan\\AppData\\Local\\Temp\\ipykernel_22764\\472838995.py:77: FutureWarning: The frame.append method is deprecated and will be removed from pandas in a future version. Use pandas.concat instead.\n",
      "  forecast_df = forecast_df.append({\n",
      "C:\\Users\\sohan\\anaconda3\\lib\\site-packages\\keras\\src\\layers\\rnn\\rnn.py:205: UserWarning: Do not pass an `input_shape`/`input_dim` argument to a layer. When using Sequential models, prefer using an `Input(shape)` object as the first layer in the model instead.\n",
      "  super().__init__(**kwargs)\n"
     ]
    },
    {
     "name": "stdout",
     "output_type": "stream",
     "text": [
      "\u001b[1m1/1\u001b[0m \u001b[32m━━━━━━━━━━━━━━━━━━━━\u001b[0m\u001b[37m\u001b[0m \u001b[1m0s\u001b[0m 114ms/step\n",
      "MAPE: 40.27221386249249\n",
      "Evaluating GRU model for Material ID: 18997\n"
     ]
    },
    {
     "name": "stderr",
     "output_type": "stream",
     "text": [
      "C:\\Users\\sohan\\AppData\\Local\\Temp\\ipykernel_22764\\472838995.py:77: FutureWarning: The frame.append method is deprecated and will be removed from pandas in a future version. Use pandas.concat instead.\n",
      "  forecast_df = forecast_df.append({\n",
      "C:\\Users\\sohan\\anaconda3\\lib\\site-packages\\keras\\src\\layers\\rnn\\rnn.py:205: UserWarning: Do not pass an `input_shape`/`input_dim` argument to a layer. When using Sequential models, prefer using an `Input(shape)` object as the first layer in the model instead.\n",
      "  super().__init__(**kwargs)\n"
     ]
    },
    {
     "name": "stdout",
     "output_type": "stream",
     "text": [
      "\u001b[1m1/1\u001b[0m \u001b[32m━━━━━━━━━━━━━━━━━━━━\u001b[0m\u001b[37m\u001b[0m \u001b[1m0s\u001b[0m 201ms/step\n",
      "MAPE: 37.72555131178636\n",
      "Evaluating LSTM model for Material ID: 18997\n"
     ]
    },
    {
     "name": "stderr",
     "output_type": "stream",
     "text": [
      "C:\\Users\\sohan\\AppData\\Local\\Temp\\ipykernel_22764\\472838995.py:77: FutureWarning: The frame.append method is deprecated and will be removed from pandas in a future version. Use pandas.concat instead.\n",
      "  forecast_df = forecast_df.append({\n",
      "C:\\Users\\sohan\\anaconda3\\lib\\site-packages\\keras\\src\\layers\\rnn\\rnn.py:205: UserWarning: Do not pass an `input_shape`/`input_dim` argument to a layer. When using Sequential models, prefer using an `Input(shape)` object as the first layer in the model instead.\n",
      "  super().__init__(**kwargs)\n"
     ]
    },
    {
     "name": "stdout",
     "output_type": "stream",
     "text": [
      "\u001b[1m1/1\u001b[0m \u001b[32m━━━━━━━━━━━━━━━━━━━━\u001b[0m\u001b[37m\u001b[0m \u001b[1m0s\u001b[0m 243ms/step\n",
      "MAPE: 40.50099299504207\n",
      "Evaluating models for Material ID: 22297\n",
      "No training or test data available for Material ID: 22297. Skipping evaluation.\n",
      "   Material_Id      Model        MAPE\n",
      "0         1708  SimpleRNN   10.581148\n",
      "1         1708        GRU    0.810158\n",
      "2         1708       LSTM    1.330876\n",
      "3         2425  SimpleRNN   49.611716\n",
      "4         2425        GRU   57.336847\n",
      "5         2425       LSTM   59.485692\n",
      "6         6324  SimpleRNN  105.124354\n",
      "7         6324        GRU  108.037353\n",
      "8         6324       LSTM  112.239766\n",
      "9         6587  SimpleRNN    8.885752\n",
      "10        6587        GRU   11.276169\n",
      "11        6587       LSTM   13.499669\n",
      "12        7385  SimpleRNN   53.366316\n",
      "13        7385        GRU   51.685835\n",
      "14        7385       LSTM   51.848694\n",
      "15        7413  SimpleRNN   38.859055\n",
      "16        7413        GRU   41.065317\n",
      "17        7413       LSTM   43.115155\n",
      "18       11101  SimpleRNN   74.908084\n",
      "19       11101        GRU   72.381801\n",
      "20       11101       LSTM   67.201405\n",
      "21       14426  SimpleRNN   13.806947\n",
      "22       14426        GRU   17.445283\n",
      "23       14426       LSTM   25.562292\n",
      "24       18176  SimpleRNN   93.769836\n",
      "25       18176        GRU   87.823534\n",
      "26       18176       LSTM   78.496901\n",
      "27       18997  SimpleRNN   40.272214\n",
      "28       18997        GRU   37.725551\n",
      "29       18997       LSTM   40.500993\n"
     ]
    },
    {
     "name": "stderr",
     "output_type": "stream",
     "text": [
      "C:\\Users\\sohan\\AppData\\Local\\Temp\\ipykernel_22764\\472838995.py:77: FutureWarning: The frame.append method is deprecated and will be removed from pandas in a future version. Use pandas.concat instead.\n",
      "  forecast_df = forecast_df.append({\n"
     ]
    }
   ],
   "source": [
    "from sklearn.preprocessing import MinMaxScaler\n",
    "from keras.models import Sequential\n",
    "from keras.layers import SimpleRNN, GRU, LSTM, Dense\n",
    "import numpy as np\n",
    "import pandas as pd\n",
    "\n",
    "# Define the evaluate_model function with MAPE\n",
    "def evaluate_model(y_pred, y_actual):\n",
    "    mape = np.mean(np.abs((y_actual - y_pred) / y_actual)) * 100\n",
    "    return mape\n",
    "\n",
    "# Define train and test periods\n",
    "train_start_id = 25\n",
    "train_end_id = 36\n",
    "forecast_time_id = 37\n",
    "\n",
    "# Create an empty DataFrame to store forecasted values\n",
    "forecast_df = pd.DataFrame(columns=['Material_Id', 'Model', 'MAPE'])\n",
    "\n",
    "# Define a function to build and train RNN model\n",
    "def build_and_train_model(X_train, y_train, model_type):\n",
    "    model = Sequential()\n",
    "    if model_type == 'SimpleRNN':\n",
    "        model.add(SimpleRNN(units=64, input_shape=(X_train.shape[1], X_train.shape[2])))\n",
    "    elif model_type == 'GRU':\n",
    "        model.add(GRU(units=64, input_shape=(X_train.shape[1], X_train.shape[2])))\n",
    "    elif model_type == 'LSTM':\n",
    "        model.add(LSTM(units=64, input_shape=(X_train.shape[1], X_train.shape[2])))\n",
    "    model.add(Dense(1))\n",
    "    model.compile(optimizer='adam', loss='mse')\n",
    "    model.fit(X_train, y_train, epochs=100, batch_size=32, verbose=0)\n",
    "    return model\n",
    "\n",
    "# Iterate over each material id\n",
    "for material_id in df['Material_Id'].unique():\n",
    "    print(f\"Evaluating models for Material ID: {material_id}\")\n",
    "    \n",
    "    # Filter data for the current material id\n",
    "    material_data = df[df['Material_Id'] == material_id]\n",
    "    \n",
    "    # Filter training data\n",
    "    train_data = material_data[(material_data['Time id'] >= train_start_id) & (material_data['Time id'] <= train_end_id)]\n",
    "    test_data = material_data[material_data['Time id'] == forecast_time_id]\n",
    "\n",
    "    # Skip evaluation if there is no training or test data\n",
    "    if train_data.empty or test_data.empty:\n",
    "        print(f\"No training or test data available for Material ID: {material_id}. Skipping evaluation.\")\n",
    "        continue\n",
    "\n",
    "    # Scale the data\n",
    "    scaler = MinMaxScaler()\n",
    "    train_scaled = scaler.fit_transform(train_data[['Quantity']])\n",
    "\n",
    "    # Reshape input to be [samples, time steps, features]\n",
    "    X_train = np.reshape(train_scaled, (train_scaled.shape[0], 1, 1))\n",
    "    y_train = train_scaled[:, 0]  # Target variable is Quantity\n",
    "\n",
    "    # Evaluate SimpleRNN, GRU, and LSTM models\n",
    "    for model_type in ['SimpleRNN', 'GRU', 'LSTM']:\n",
    "        print(f\"Evaluating {model_type} model for Material ID: {material_id}\")\n",
    "\n",
    "        # Build and train the model\n",
    "        model = build_and_train_model(X_train, y_train, model_type)\n",
    "\n",
    "        # Forecast for the next time id (Time id 37)\n",
    "        forecast_scaled = model.predict(X_train[-1:])  # Use the last time step of the training data for forecasting\n",
    "        forecast = scaler.inverse_transform(forecast_scaled.reshape(-1, 1)).flatten()[0]\n",
    "\n",
    "        # Get actual Quantity value for Time id 37\n",
    "        actual_quantity = test_data['Quantity'].values[0]\n",
    "\n",
    "        # Evaluate the model for the current Material Id\n",
    "        mape = evaluate_model(np.array([forecast]), np.array([actual_quantity]))\n",
    "        print(f\"MAPE: {mape}\")\n",
    "\n",
    "        # Append to forecast DataFrame\n",
    "        forecast_df = forecast_df.append({\n",
    "            'Material_Id': material_id,\n",
    "            'Model': model_type,\n",
    "            'MAPE': mape\n",
    "        }, ignore_index=True)\n",
    "\n",
    "# Display the forecast DataFrame with MAPE values\n",
    "print(forecast_df)\n"
   ]
  },
  {
   "cell_type": "code",
   "execution_count": 7,
   "id": "14d3a007",
   "metadata": {},
   "outputs": [
    {
     "name": "stdout",
     "output_type": "stream",
     "text": [
      "Overall MAPE for each model type:\n",
      "       Model       MAPE\n",
      "0        GRU  48.558785\n",
      "1       LSTM  49.328144\n",
      "2  SimpleRNN  48.918542\n"
     ]
    }
   ],
   "source": [
    "\n",
    "# Calculate the overall MAPE for each model type\n",
    "overall_mape = forecast_df.groupby('Model')['MAPE'].mean().reset_index()\n",
    "\n",
    "# Print the overall MAPE for each model type\n",
    "print(\"Overall MAPE for each model type:\")\n",
    "print(overall_mape)"
   ]
  },
  {
   "cell_type": "code",
   "execution_count": null,
   "id": "ff06d037",
   "metadata": {},
   "outputs": [],
   "source": []
  },
  {
   "cell_type": "code",
   "execution_count": 8,
   "id": "686a9f33",
   "metadata": {},
   "outputs": [
    {
     "name": "stdout",
     "output_type": "stream",
     "text": [
      "Evaluating models for Material ID: 1708\n",
      "Training SimpleRNN model for Material ID: 1708\n"
     ]
    },
    {
     "name": "stderr",
     "output_type": "stream",
     "text": [
      "C:\\Users\\sohan\\anaconda3\\lib\\site-packages\\keras\\src\\layers\\rnn\\rnn.py:205: UserWarning: Do not pass an `input_shape`/`input_dim` argument to a layer. When using Sequential models, prefer using an `Input(shape)` object as the first layer in the model instead.\n",
      "  super().__init__(**kwargs)\n"
     ]
    },
    {
     "name": "stdout",
     "output_type": "stream",
     "text": [
      "\u001b[1m1/1\u001b[0m \u001b[32m━━━━━━━━━━━━━━━━━━━━\u001b[0m\u001b[37m\u001b[0m \u001b[1m0s\u001b[0m 126ms/step\n",
      "\u001b[1m1/1\u001b[0m \u001b[32m━━━━━━━━━━━━━━━━━━━━\u001b[0m\u001b[37m\u001b[0m \u001b[1m0s\u001b[0m 140ms/step\n",
      "MAE: 0.0023835855177961694, MAPE: inf, R-squared: 0.9999339306561366\n",
      "Training GRU model for Material ID: 1708\n"
     ]
    },
    {
     "name": "stderr",
     "output_type": "stream",
     "text": [
      "C:\\Users\\sohan\\AppData\\Local\\Temp\\ipykernel_22764\\3232560010.py:12: RuntimeWarning: divide by zero encountered in divide\n",
      "  mape = np.mean(np.abs((y_test - y_pred) / y_test)) * 100\n",
      "C:\\Users\\sohan\\AppData\\Local\\Temp\\ipykernel_22764\\3232560010.py:80: FutureWarning: The frame.append method is deprecated and will be removed from pandas in a future version. Use pandas.concat instead.\n",
      "  forecast_df = forecast_df.append({\n",
      "C:\\Users\\sohan\\anaconda3\\lib\\site-packages\\keras\\src\\layers\\rnn\\rnn.py:205: UserWarning: Do not pass an `input_shape`/`input_dim` argument to a layer. When using Sequential models, prefer using an `Input(shape)` object as the first layer in the model instead.\n",
      "  super().__init__(**kwargs)\n"
     ]
    },
    {
     "name": "stdout",
     "output_type": "stream",
     "text": [
      "\u001b[1m1/1\u001b[0m \u001b[32m━━━━━━━━━━━━━━━━━━━━\u001b[0m\u001b[37m\u001b[0m \u001b[1m0s\u001b[0m 149ms/step\n",
      "\u001b[1m1/1\u001b[0m \u001b[32m━━━━━━━━━━━━━━━━━━━━\u001b[0m\u001b[37m\u001b[0m \u001b[1m0s\u001b[0m 181ms/step\n",
      "MAE: 0.1178944541857793, MAPE: inf, R-squared: 0.8364628495762942\n",
      "Training LSTM model for Material ID: 1708\n"
     ]
    },
    {
     "name": "stderr",
     "output_type": "stream",
     "text": [
      "C:\\Users\\sohan\\AppData\\Local\\Temp\\ipykernel_22764\\3232560010.py:12: RuntimeWarning: divide by zero encountered in divide\n",
      "  mape = np.mean(np.abs((y_test - y_pred) / y_test)) * 100\n",
      "C:\\Users\\sohan\\AppData\\Local\\Temp\\ipykernel_22764\\3232560010.py:80: FutureWarning: The frame.append method is deprecated and will be removed from pandas in a future version. Use pandas.concat instead.\n",
      "  forecast_df = forecast_df.append({\n",
      "C:\\Users\\sohan\\anaconda3\\lib\\site-packages\\keras\\src\\layers\\rnn\\rnn.py:205: UserWarning: Do not pass an `input_shape`/`input_dim` argument to a layer. When using Sequential models, prefer using an `Input(shape)` object as the first layer in the model instead.\n",
      "  super().__init__(**kwargs)\n"
     ]
    },
    {
     "name": "stdout",
     "output_type": "stream",
     "text": [
      "\u001b[1m1/1\u001b[0m \u001b[32m━━━━━━━━━━━━━━━━━━━━\u001b[0m\u001b[37m\u001b[0m \u001b[1m0s\u001b[0m 131ms/step\n",
      "\u001b[1m1/1\u001b[0m \u001b[32m━━━━━━━━━━━━━━━━━━━━\u001b[0m\u001b[37m\u001b[0m \u001b[1m0s\u001b[0m 124ms/step\n",
      "MAE: 0.1757876685032478, MAPE: inf, R-squared: 0.6389589053547082\n",
      "Evaluating models for Material ID: 2425\n",
      "Training SimpleRNN model for Material ID: 2425\n"
     ]
    },
    {
     "name": "stderr",
     "output_type": "stream",
     "text": [
      "C:\\Users\\sohan\\AppData\\Local\\Temp\\ipykernel_22764\\3232560010.py:12: RuntimeWarning: divide by zero encountered in divide\n",
      "  mape = np.mean(np.abs((y_test - y_pred) / y_test)) * 100\n",
      "C:\\Users\\sohan\\AppData\\Local\\Temp\\ipykernel_22764\\3232560010.py:80: FutureWarning: The frame.append method is deprecated and will be removed from pandas in a future version. Use pandas.concat instead.\n",
      "  forecast_df = forecast_df.append({\n",
      "C:\\Users\\sohan\\anaconda3\\lib\\site-packages\\keras\\src\\layers\\rnn\\rnn.py:205: UserWarning: Do not pass an `input_shape`/`input_dim` argument to a layer. When using Sequential models, prefer using an `Input(shape)` object as the first layer in the model instead.\n",
      "  super().__init__(**kwargs)\n"
     ]
    },
    {
     "name": "stdout",
     "output_type": "stream",
     "text": [
      "\u001b[1m1/1\u001b[0m \u001b[32m━━━━━━━━━━━━━━━━━━━━\u001b[0m\u001b[37m\u001b[0m \u001b[1m0s\u001b[0m 130ms/step\n",
      "\u001b[1m1/1\u001b[0m \u001b[32m━━━━━━━━━━━━━━━━━━━━\u001b[0m\u001b[37m\u001b[0m \u001b[1m0s\u001b[0m 127ms/step\n",
      "MAE: 0.07779892727639717, MAPE: inf, R-squared: 0.9027919546161032\n",
      "Training GRU model for Material ID: 2425\n"
     ]
    },
    {
     "name": "stderr",
     "output_type": "stream",
     "text": [
      "C:\\Users\\sohan\\AppData\\Local\\Temp\\ipykernel_22764\\3232560010.py:12: RuntimeWarning: divide by zero encountered in divide\n",
      "  mape = np.mean(np.abs((y_test - y_pred) / y_test)) * 100\n",
      "C:\\Users\\sohan\\AppData\\Local\\Temp\\ipykernel_22764\\3232560010.py:80: FutureWarning: The frame.append method is deprecated and will be removed from pandas in a future version. Use pandas.concat instead.\n",
      "  forecast_df = forecast_df.append({\n",
      "C:\\Users\\sohan\\anaconda3\\lib\\site-packages\\keras\\src\\layers\\rnn\\rnn.py:205: UserWarning: Do not pass an `input_shape`/`input_dim` argument to a layer. When using Sequential models, prefer using an `Input(shape)` object as the first layer in the model instead.\n",
      "  super().__init__(**kwargs)\n"
     ]
    },
    {
     "name": "stdout",
     "output_type": "stream",
     "text": [
      "\u001b[1m1/1\u001b[0m \u001b[32m━━━━━━━━━━━━━━━━━━━━\u001b[0m\u001b[37m\u001b[0m \u001b[1m0s\u001b[0m 245ms/step\n",
      "\u001b[1m1/1\u001b[0m \u001b[32m━━━━━━━━━━━━━━━━━━━━\u001b[0m\u001b[37m\u001b[0m \u001b[1m0s\u001b[0m 272ms/step\n",
      "MAE: 0.13530752199107543, MAPE: inf, R-squared: 0.6988875939351132\n",
      "Training LSTM model for Material ID: 2425\n"
     ]
    },
    {
     "name": "stderr",
     "output_type": "stream",
     "text": [
      "C:\\Users\\sohan\\AppData\\Local\\Temp\\ipykernel_22764\\3232560010.py:12: RuntimeWarning: divide by zero encountered in divide\n",
      "  mape = np.mean(np.abs((y_test - y_pred) / y_test)) * 100\n",
      "C:\\Users\\sohan\\AppData\\Local\\Temp\\ipykernel_22764\\3232560010.py:80: FutureWarning: The frame.append method is deprecated and will be removed from pandas in a future version. Use pandas.concat instead.\n",
      "  forecast_df = forecast_df.append({\n",
      "C:\\Users\\sohan\\anaconda3\\lib\\site-packages\\keras\\src\\layers\\rnn\\rnn.py:205: UserWarning: Do not pass an `input_shape`/`input_dim` argument to a layer. When using Sequential models, prefer using an `Input(shape)` object as the first layer in the model instead.\n",
      "  super().__init__(**kwargs)\n"
     ]
    },
    {
     "name": "stdout",
     "output_type": "stream",
     "text": [
      "\u001b[1m1/1\u001b[0m \u001b[32m━━━━━━━━━━━━━━━━━━━━\u001b[0m\u001b[37m\u001b[0m \u001b[1m0s\u001b[0m 226ms/step\n",
      "\u001b[1m1/1\u001b[0m \u001b[32m━━━━━━━━━━━━━━━━━━━━\u001b[0m\u001b[37m\u001b[0m \u001b[1m0s\u001b[0m 271ms/step\n",
      "MAE: 0.13449725644999877, MAPE: inf, R-squared: 0.7069022129832938\n",
      "Evaluating models for Material ID: 6324\n",
      "Training SimpleRNN model for Material ID: 6324\n"
     ]
    },
    {
     "name": "stderr",
     "output_type": "stream",
     "text": [
      "C:\\Users\\sohan\\AppData\\Local\\Temp\\ipykernel_22764\\3232560010.py:12: RuntimeWarning: divide by zero encountered in divide\n",
      "  mape = np.mean(np.abs((y_test - y_pred) / y_test)) * 100\n",
      "C:\\Users\\sohan\\AppData\\Local\\Temp\\ipykernel_22764\\3232560010.py:80: FutureWarning: The frame.append method is deprecated and will be removed from pandas in a future version. Use pandas.concat instead.\n",
      "  forecast_df = forecast_df.append({\n",
      "C:\\Users\\sohan\\anaconda3\\lib\\site-packages\\keras\\src\\layers\\rnn\\rnn.py:205: UserWarning: Do not pass an `input_shape`/`input_dim` argument to a layer. When using Sequential models, prefer using an `Input(shape)` object as the first layer in the model instead.\n",
      "  super().__init__(**kwargs)\n"
     ]
    },
    {
     "name": "stdout",
     "output_type": "stream",
     "text": [
      "\u001b[1m1/1\u001b[0m \u001b[32m━━━━━━━━━━━━━━━━━━━━\u001b[0m\u001b[37m\u001b[0m \u001b[1m0s\u001b[0m 116ms/step\n",
      "\u001b[1m1/1\u001b[0m \u001b[32m━━━━━━━━━━━━━━━━━━━━\u001b[0m\u001b[37m\u001b[0m \u001b[1m0s\u001b[0m 122ms/step\n",
      "MAE: 0.09724827913137582, MAPE: inf, R-squared: 0.8536251706988421\n",
      "Training GRU model for Material ID: 6324\n"
     ]
    },
    {
     "name": "stderr",
     "output_type": "stream",
     "text": [
      "C:\\Users\\sohan\\AppData\\Local\\Temp\\ipykernel_22764\\3232560010.py:12: RuntimeWarning: divide by zero encountered in divide\n",
      "  mape = np.mean(np.abs((y_test - y_pred) / y_test)) * 100\n",
      "C:\\Users\\sohan\\AppData\\Local\\Temp\\ipykernel_22764\\3232560010.py:80: FutureWarning: The frame.append method is deprecated and will be removed from pandas in a future version. Use pandas.concat instead.\n",
      "  forecast_df = forecast_df.append({\n",
      "C:\\Users\\sohan\\anaconda3\\lib\\site-packages\\keras\\src\\layers\\rnn\\rnn.py:205: UserWarning: Do not pass an `input_shape`/`input_dim` argument to a layer. When using Sequential models, prefer using an `Input(shape)` object as the first layer in the model instead.\n",
      "  super().__init__(**kwargs)\n"
     ]
    },
    {
     "name": "stdout",
     "output_type": "stream",
     "text": [
      "\u001b[1m1/1\u001b[0m \u001b[32m━━━━━━━━━━━━━━━━━━━━\u001b[0m\u001b[37m\u001b[0m \u001b[1m0s\u001b[0m 232ms/step\n",
      "\u001b[1m1/1\u001b[0m \u001b[32m━━━━━━━━━━━━━━━━━━━━\u001b[0m\u001b[37m\u001b[0m \u001b[1m0s\u001b[0m 460ms/step\n",
      "MAE: 0.1346654983667227, MAPE: inf, R-squared: 0.7160525688690025\n",
      "Training LSTM model for Material ID: 6324\n"
     ]
    },
    {
     "name": "stderr",
     "output_type": "stream",
     "text": [
      "C:\\Users\\sohan\\AppData\\Local\\Temp\\ipykernel_22764\\3232560010.py:12: RuntimeWarning: divide by zero encountered in divide\n",
      "  mape = np.mean(np.abs((y_test - y_pred) / y_test)) * 100\n",
      "C:\\Users\\sohan\\AppData\\Local\\Temp\\ipykernel_22764\\3232560010.py:80: FutureWarning: The frame.append method is deprecated and will be removed from pandas in a future version. Use pandas.concat instead.\n",
      "  forecast_df = forecast_df.append({\n",
      "C:\\Users\\sohan\\anaconda3\\lib\\site-packages\\keras\\src\\layers\\rnn\\rnn.py:205: UserWarning: Do not pass an `input_shape`/`input_dim` argument to a layer. When using Sequential models, prefer using an `Input(shape)` object as the first layer in the model instead.\n",
      "  super().__init__(**kwargs)\n"
     ]
    },
    {
     "name": "stdout",
     "output_type": "stream",
     "text": [
      "\u001b[1m1/1\u001b[0m \u001b[32m━━━━━━━━━━━━━━━━━━━━\u001b[0m\u001b[37m\u001b[0m \u001b[1m0s\u001b[0m 199ms/step\n",
      "\u001b[1m1/1\u001b[0m \u001b[32m━━━━━━━━━━━━━━━━━━━━\u001b[0m\u001b[37m\u001b[0m \u001b[1m0s\u001b[0m 223ms/step\n",
      "MAE: 0.1361785393494826, MAPE: inf, R-squared: 0.7150426343344451\n",
      "Evaluating models for Material ID: 6587\n",
      "Training SimpleRNN model for Material ID: 6587\n"
     ]
    },
    {
     "name": "stderr",
     "output_type": "stream",
     "text": [
      "C:\\Users\\sohan\\AppData\\Local\\Temp\\ipykernel_22764\\3232560010.py:12: RuntimeWarning: divide by zero encountered in divide\n",
      "  mape = np.mean(np.abs((y_test - y_pred) / y_test)) * 100\n",
      "C:\\Users\\sohan\\AppData\\Local\\Temp\\ipykernel_22764\\3232560010.py:80: FutureWarning: The frame.append method is deprecated and will be removed from pandas in a future version. Use pandas.concat instead.\n",
      "  forecast_df = forecast_df.append({\n",
      "C:\\Users\\sohan\\anaconda3\\lib\\site-packages\\keras\\src\\layers\\rnn\\rnn.py:205: UserWarning: Do not pass an `input_shape`/`input_dim` argument to a layer. When using Sequential models, prefer using an `Input(shape)` object as the first layer in the model instead.\n",
      "  super().__init__(**kwargs)\n"
     ]
    },
    {
     "name": "stdout",
     "output_type": "stream",
     "text": [
      "\u001b[1m1/1\u001b[0m \u001b[32m━━━━━━━━━━━━━━━━━━━━\u001b[0m\u001b[37m\u001b[0m \u001b[1m0s\u001b[0m 127ms/step\n",
      "\u001b[1m1/1\u001b[0m \u001b[32m━━━━━━━━━━━━━━━━━━━━\u001b[0m\u001b[37m\u001b[0m \u001b[1m0s\u001b[0m 129ms/step\n",
      "MAE: 0.006747036020418518, MAPE: inf, R-squared: 0.9995449480810432\n",
      "Training GRU model for Material ID: 6587\n"
     ]
    },
    {
     "name": "stderr",
     "output_type": "stream",
     "text": [
      "C:\\Users\\sohan\\AppData\\Local\\Temp\\ipykernel_22764\\3232560010.py:12: RuntimeWarning: divide by zero encountered in divide\n",
      "  mape = np.mean(np.abs((y_test - y_pred) / y_test)) * 100\n",
      "C:\\Users\\sohan\\AppData\\Local\\Temp\\ipykernel_22764\\3232560010.py:80: FutureWarning: The frame.append method is deprecated and will be removed from pandas in a future version. Use pandas.concat instead.\n",
      "  forecast_df = forecast_df.append({\n",
      "C:\\Users\\sohan\\anaconda3\\lib\\site-packages\\keras\\src\\layers\\rnn\\rnn.py:205: UserWarning: Do not pass an `input_shape`/`input_dim` argument to a layer. When using Sequential models, prefer using an `Input(shape)` object as the first layer in the model instead.\n",
      "  super().__init__(**kwargs)\n"
     ]
    },
    {
     "name": "stdout",
     "output_type": "stream",
     "text": [
      "\u001b[1m1/1\u001b[0m \u001b[32m━━━━━━━━━━━━━━━━━━━━\u001b[0m\u001b[37m\u001b[0m \u001b[1m0s\u001b[0m 173ms/step\n",
      "\u001b[1m1/1\u001b[0m \u001b[32m━━━━━━━━━━━━━━━━━━━━\u001b[0m\u001b[37m\u001b[0m \u001b[1m0s\u001b[0m 169ms/step\n",
      "MAE: 0.1969903010507987, MAPE: inf, R-squared: 0.6104035315306482\n",
      "Training LSTM model for Material ID: 6587\n"
     ]
    },
    {
     "name": "stderr",
     "output_type": "stream",
     "text": [
      "C:\\Users\\sohan\\AppData\\Local\\Temp\\ipykernel_22764\\3232560010.py:12: RuntimeWarning: divide by zero encountered in divide\n",
      "  mape = np.mean(np.abs((y_test - y_pred) / y_test)) * 100\n",
      "C:\\Users\\sohan\\AppData\\Local\\Temp\\ipykernel_22764\\3232560010.py:80: FutureWarning: The frame.append method is deprecated and will be removed from pandas in a future version. Use pandas.concat instead.\n",
      "  forecast_df = forecast_df.append({\n",
      "C:\\Users\\sohan\\anaconda3\\lib\\site-packages\\keras\\src\\layers\\rnn\\rnn.py:205: UserWarning: Do not pass an `input_shape`/`input_dim` argument to a layer. When using Sequential models, prefer using an `Input(shape)` object as the first layer in the model instead.\n",
      "  super().__init__(**kwargs)\n"
     ]
    },
    {
     "name": "stdout",
     "output_type": "stream",
     "text": [
      "\u001b[1m1/1\u001b[0m \u001b[32m━━━━━━━━━━━━━━━━━━━━\u001b[0m\u001b[37m\u001b[0m \u001b[1m0s\u001b[0m 121ms/step\n",
      "\u001b[1m1/1\u001b[0m \u001b[32m━━━━━━━━━━━━━━━━━━━━\u001b[0m\u001b[37m\u001b[0m \u001b[1m0s\u001b[0m 248ms/step\n",
      "MAE: 0.16896462577235516, MAPE: inf, R-squared: 0.7098398654030242\n",
      "Evaluating models for Material ID: 7385\n",
      "Training SimpleRNN model for Material ID: 7385\n"
     ]
    },
    {
     "name": "stderr",
     "output_type": "stream",
     "text": [
      "C:\\Users\\sohan\\AppData\\Local\\Temp\\ipykernel_22764\\3232560010.py:12: RuntimeWarning: divide by zero encountered in divide\n",
      "  mape = np.mean(np.abs((y_test - y_pred) / y_test)) * 100\n",
      "C:\\Users\\sohan\\AppData\\Local\\Temp\\ipykernel_22764\\3232560010.py:80: FutureWarning: The frame.append method is deprecated and will be removed from pandas in a future version. Use pandas.concat instead.\n",
      "  forecast_df = forecast_df.append({\n",
      "C:\\Users\\sohan\\anaconda3\\lib\\site-packages\\keras\\src\\layers\\rnn\\rnn.py:205: UserWarning: Do not pass an `input_shape`/`input_dim` argument to a layer. When using Sequential models, prefer using an `Input(shape)` object as the first layer in the model instead.\n",
      "  super().__init__(**kwargs)\n"
     ]
    },
    {
     "name": "stdout",
     "output_type": "stream",
     "text": [
      "\u001b[1m1/1\u001b[0m \u001b[32m━━━━━━━━━━━━━━━━━━━━\u001b[0m\u001b[37m\u001b[0m \u001b[1m0s\u001b[0m 126ms/step\n",
      "\u001b[1m1/1\u001b[0m \u001b[32m━━━━━━━━━━━━━━━━━━━━\u001b[0m\u001b[37m\u001b[0m \u001b[1m0s\u001b[0m 134ms/step\n",
      "MAE: 0.09356416668091622, MAPE: inf, R-squared: 0.792235345753682\n",
      "Training GRU model for Material ID: 7385\n"
     ]
    },
    {
     "name": "stderr",
     "output_type": "stream",
     "text": [
      "C:\\Users\\sohan\\AppData\\Local\\Temp\\ipykernel_22764\\3232560010.py:12: RuntimeWarning: divide by zero encountered in divide\n",
      "  mape = np.mean(np.abs((y_test - y_pred) / y_test)) * 100\n",
      "C:\\Users\\sohan\\AppData\\Local\\Temp\\ipykernel_22764\\3232560010.py:80: FutureWarning: The frame.append method is deprecated and will be removed from pandas in a future version. Use pandas.concat instead.\n",
      "  forecast_df = forecast_df.append({\n",
      "C:\\Users\\sohan\\anaconda3\\lib\\site-packages\\keras\\src\\layers\\rnn\\rnn.py:205: UserWarning: Do not pass an `input_shape`/`input_dim` argument to a layer. When using Sequential models, prefer using an `Input(shape)` object as the first layer in the model instead.\n",
      "  super().__init__(**kwargs)\n"
     ]
    },
    {
     "name": "stdout",
     "output_type": "stream",
     "text": [
      "\u001b[1m1/1\u001b[0m \u001b[32m━━━━━━━━━━━━━━━━━━━━\u001b[0m\u001b[37m\u001b[0m \u001b[1m0s\u001b[0m 162ms/step\n",
      "\u001b[1m1/1\u001b[0m \u001b[32m━━━━━━━━━━━━━━━━━━━━\u001b[0m\u001b[37m\u001b[0m \u001b[1m0s\u001b[0m 176ms/step\n",
      "MAE: 0.1088318643453238, MAPE: inf, R-squared: 0.7186971006459032\n",
      "Training LSTM model for Material ID: 7385\n"
     ]
    },
    {
     "name": "stderr",
     "output_type": "stream",
     "text": [
      "C:\\Users\\sohan\\AppData\\Local\\Temp\\ipykernel_22764\\3232560010.py:12: RuntimeWarning: divide by zero encountered in divide\n",
      "  mape = np.mean(np.abs((y_test - y_pred) / y_test)) * 100\n",
      "C:\\Users\\sohan\\AppData\\Local\\Temp\\ipykernel_22764\\3232560010.py:80: FutureWarning: The frame.append method is deprecated and will be removed from pandas in a future version. Use pandas.concat instead.\n",
      "  forecast_df = forecast_df.append({\n",
      "C:\\Users\\sohan\\anaconda3\\lib\\site-packages\\keras\\src\\layers\\rnn\\rnn.py:205: UserWarning: Do not pass an `input_shape`/`input_dim` argument to a layer. When using Sequential models, prefer using an `Input(shape)` object as the first layer in the model instead.\n",
      "  super().__init__(**kwargs)\n"
     ]
    },
    {
     "name": "stdout",
     "output_type": "stream",
     "text": [
      "\u001b[1m1/1\u001b[0m \u001b[32m━━━━━━━━━━━━━━━━━━━━\u001b[0m\u001b[37m\u001b[0m \u001b[1m0s\u001b[0m 135ms/step\n",
      "\u001b[1m1/1\u001b[0m \u001b[32m━━━━━━━━━━━━━━━━━━━━\u001b[0m\u001b[37m\u001b[0m \u001b[1m0s\u001b[0m 154ms/step\n",
      "MAE: 0.128782251914898, MAPE: inf, R-squared: 0.6157279760217425\n",
      "Evaluating models for Material ID: 7413\n",
      "Training SimpleRNN model for Material ID: 7413\n"
     ]
    },
    {
     "name": "stderr",
     "output_type": "stream",
     "text": [
      "C:\\Users\\sohan\\AppData\\Local\\Temp\\ipykernel_22764\\3232560010.py:12: RuntimeWarning: divide by zero encountered in divide\n",
      "  mape = np.mean(np.abs((y_test - y_pred) / y_test)) * 100\n",
      "C:\\Users\\sohan\\AppData\\Local\\Temp\\ipykernel_22764\\3232560010.py:80: FutureWarning: The frame.append method is deprecated and will be removed from pandas in a future version. Use pandas.concat instead.\n",
      "  forecast_df = forecast_df.append({\n",
      "C:\\Users\\sohan\\anaconda3\\lib\\site-packages\\keras\\src\\layers\\rnn\\rnn.py:205: UserWarning: Do not pass an `input_shape`/`input_dim` argument to a layer. When using Sequential models, prefer using an `Input(shape)` object as the first layer in the model instead.\n",
      "  super().__init__(**kwargs)\n"
     ]
    },
    {
     "name": "stdout",
     "output_type": "stream",
     "text": [
      "\u001b[1m1/1\u001b[0m \u001b[32m━━━━━━━━━━━━━━━━━━━━\u001b[0m\u001b[37m\u001b[0m \u001b[1m0s\u001b[0m 176ms/step\n",
      "\u001b[1m1/1\u001b[0m \u001b[32m━━━━━━━━━━━━━━━━━━━━\u001b[0m\u001b[37m\u001b[0m \u001b[1m0s\u001b[0m 197ms/step\n",
      "MAE: 0.063918852691467, MAPE: inf, R-squared: 0.93764501205501\n",
      "Training GRU model for Material ID: 7413\n"
     ]
    },
    {
     "name": "stderr",
     "output_type": "stream",
     "text": [
      "C:\\Users\\sohan\\AppData\\Local\\Temp\\ipykernel_22764\\3232560010.py:12: RuntimeWarning: divide by zero encountered in divide\n",
      "  mape = np.mean(np.abs((y_test - y_pred) / y_test)) * 100\n",
      "C:\\Users\\sohan\\AppData\\Local\\Temp\\ipykernel_22764\\3232560010.py:80: FutureWarning: The frame.append method is deprecated and will be removed from pandas in a future version. Use pandas.concat instead.\n",
      "  forecast_df = forecast_df.append({\n",
      "C:\\Users\\sohan\\anaconda3\\lib\\site-packages\\keras\\src\\layers\\rnn\\rnn.py:205: UserWarning: Do not pass an `input_shape`/`input_dim` argument to a layer. When using Sequential models, prefer using an `Input(shape)` object as the first layer in the model instead.\n",
      "  super().__init__(**kwargs)\n"
     ]
    },
    {
     "name": "stdout",
     "output_type": "stream",
     "text": [
      "\u001b[1m1/1\u001b[0m \u001b[32m━━━━━━━━━━━━━━━━━━━━\u001b[0m\u001b[37m\u001b[0m \u001b[1m0s\u001b[0m 168ms/step\n",
      "\u001b[1m1/1\u001b[0m \u001b[32m━━━━━━━━━━━━━━━━━━━━\u001b[0m\u001b[37m\u001b[0m \u001b[1m0s\u001b[0m 159ms/step\n",
      "MAE: 0.1270882000456323, MAPE: inf, R-squared: 0.7480624187197389\n",
      "Training LSTM model for Material ID: 7413\n"
     ]
    },
    {
     "name": "stderr",
     "output_type": "stream",
     "text": [
      "C:\\Users\\sohan\\AppData\\Local\\Temp\\ipykernel_22764\\3232560010.py:12: RuntimeWarning: divide by zero encountered in divide\n",
      "  mape = np.mean(np.abs((y_test - y_pred) / y_test)) * 100\n",
      "C:\\Users\\sohan\\AppData\\Local\\Temp\\ipykernel_22764\\3232560010.py:80: FutureWarning: The frame.append method is deprecated and will be removed from pandas in a future version. Use pandas.concat instead.\n",
      "  forecast_df = forecast_df.append({\n",
      "C:\\Users\\sohan\\anaconda3\\lib\\site-packages\\keras\\src\\layers\\rnn\\rnn.py:205: UserWarning: Do not pass an `input_shape`/`input_dim` argument to a layer. When using Sequential models, prefer using an `Input(shape)` object as the first layer in the model instead.\n",
      "  super().__init__(**kwargs)\n"
     ]
    },
    {
     "name": "stdout",
     "output_type": "stream",
     "text": [
      "\u001b[1m1/1\u001b[0m \u001b[32m━━━━━━━━━━━━━━━━━━━━\u001b[0m\u001b[37m\u001b[0m \u001b[1m0s\u001b[0m 133ms/step\n",
      "\u001b[1m1/1\u001b[0m \u001b[32m━━━━━━━━━━━━━━━━━━━━\u001b[0m\u001b[37m\u001b[0m \u001b[1m0s\u001b[0m 160ms/step\n",
      "MAE: 0.141813822309454, MAPE: inf, R-squared: 0.6870952110676252\n",
      "Evaluating models for Material ID: 11101\n",
      "Training SimpleRNN model for Material ID: 11101\n"
     ]
    },
    {
     "name": "stderr",
     "output_type": "stream",
     "text": [
      "C:\\Users\\sohan\\AppData\\Local\\Temp\\ipykernel_22764\\3232560010.py:12: RuntimeWarning: divide by zero encountered in divide\n",
      "  mape = np.mean(np.abs((y_test - y_pred) / y_test)) * 100\n",
      "C:\\Users\\sohan\\AppData\\Local\\Temp\\ipykernel_22764\\3232560010.py:80: FutureWarning: The frame.append method is deprecated and will be removed from pandas in a future version. Use pandas.concat instead.\n",
      "  forecast_df = forecast_df.append({\n",
      "C:\\Users\\sohan\\anaconda3\\lib\\site-packages\\keras\\src\\layers\\rnn\\rnn.py:205: UserWarning: Do not pass an `input_shape`/`input_dim` argument to a layer. When using Sequential models, prefer using an `Input(shape)` object as the first layer in the model instead.\n",
      "  super().__init__(**kwargs)\n"
     ]
    },
    {
     "name": "stdout",
     "output_type": "stream",
     "text": [
      "\u001b[1m1/1\u001b[0m \u001b[32m━━━━━━━━━━━━━━━━━━━━\u001b[0m\u001b[37m\u001b[0m \u001b[1m0s\u001b[0m 150ms/step\n",
      "\u001b[1m1/1\u001b[0m \u001b[32m━━━━━━━━━━━━━━━━━━━━\u001b[0m\u001b[37m\u001b[0m \u001b[1m0s\u001b[0m 193ms/step\n",
      "MAE: 0.021439058085282642, MAPE: inf, R-squared: 0.9944426801675358\n",
      "Training GRU model for Material ID: 11101\n"
     ]
    },
    {
     "name": "stderr",
     "output_type": "stream",
     "text": [
      "C:\\Users\\sohan\\AppData\\Local\\Temp\\ipykernel_22764\\3232560010.py:12: RuntimeWarning: divide by zero encountered in divide\n",
      "  mape = np.mean(np.abs((y_test - y_pred) / y_test)) * 100\n",
      "C:\\Users\\sohan\\AppData\\Local\\Temp\\ipykernel_22764\\3232560010.py:80: FutureWarning: The frame.append method is deprecated and will be removed from pandas in a future version. Use pandas.concat instead.\n",
      "  forecast_df = forecast_df.append({\n",
      "C:\\Users\\sohan\\anaconda3\\lib\\site-packages\\keras\\src\\layers\\rnn\\rnn.py:205: UserWarning: Do not pass an `input_shape`/`input_dim` argument to a layer. When using Sequential models, prefer using an `Input(shape)` object as the first layer in the model instead.\n",
      "  super().__init__(**kwargs)\n"
     ]
    },
    {
     "name": "stdout",
     "output_type": "stream",
     "text": [
      "\u001b[1m1/1\u001b[0m \u001b[32m━━━━━━━━━━━━━━━━━━━━\u001b[0m\u001b[37m\u001b[0m \u001b[1m0s\u001b[0m 188ms/step\n",
      "\u001b[1m1/1\u001b[0m \u001b[32m━━━━━━━━━━━━━━━━━━━━\u001b[0m\u001b[37m\u001b[0m \u001b[1m0s\u001b[0m 173ms/step\n",
      "MAE: 0.07436867927511533, MAPE: inf, R-squared: 0.9349135061952294\n",
      "Training LSTM model for Material ID: 11101\n"
     ]
    },
    {
     "name": "stderr",
     "output_type": "stream",
     "text": [
      "C:\\Users\\sohan\\AppData\\Local\\Temp\\ipykernel_22764\\3232560010.py:12: RuntimeWarning: divide by zero encountered in divide\n",
      "  mape = np.mean(np.abs((y_test - y_pred) / y_test)) * 100\n",
      "C:\\Users\\sohan\\AppData\\Local\\Temp\\ipykernel_22764\\3232560010.py:80: FutureWarning: The frame.append method is deprecated and will be removed from pandas in a future version. Use pandas.concat instead.\n",
      "  forecast_df = forecast_df.append({\n",
      "C:\\Users\\sohan\\anaconda3\\lib\\site-packages\\keras\\src\\layers\\rnn\\rnn.py:205: UserWarning: Do not pass an `input_shape`/`input_dim` argument to a layer. When using Sequential models, prefer using an `Input(shape)` object as the first layer in the model instead.\n",
      "  super().__init__(**kwargs)\n"
     ]
    },
    {
     "name": "stdout",
     "output_type": "stream",
     "text": [
      "\u001b[1m1/1\u001b[0m \u001b[32m━━━━━━━━━━━━━━━━━━━━\u001b[0m\u001b[37m\u001b[0m \u001b[1m0s\u001b[0m 149ms/step\n",
      "\u001b[1m1/1\u001b[0m \u001b[32m━━━━━━━━━━━━━━━━━━━━\u001b[0m\u001b[37m\u001b[0m \u001b[1m0s\u001b[0m 148ms/step\n",
      "MAE: 0.1814628392457962, MAPE: inf, R-squared: 0.6173448089139428\n",
      "Evaluating models for Material ID: 14426\n",
      "Training SimpleRNN model for Material ID: 14426\n"
     ]
    },
    {
     "name": "stderr",
     "output_type": "stream",
     "text": [
      "C:\\Users\\sohan\\AppData\\Local\\Temp\\ipykernel_22764\\3232560010.py:12: RuntimeWarning: divide by zero encountered in divide\n",
      "  mape = np.mean(np.abs((y_test - y_pred) / y_test)) * 100\n",
      "C:\\Users\\sohan\\AppData\\Local\\Temp\\ipykernel_22764\\3232560010.py:80: FutureWarning: The frame.append method is deprecated and will be removed from pandas in a future version. Use pandas.concat instead.\n",
      "  forecast_df = forecast_df.append({\n",
      "C:\\Users\\sohan\\anaconda3\\lib\\site-packages\\keras\\src\\layers\\rnn\\rnn.py:205: UserWarning: Do not pass an `input_shape`/`input_dim` argument to a layer. When using Sequential models, prefer using an `Input(shape)` object as the first layer in the model instead.\n",
      "  super().__init__(**kwargs)\n"
     ]
    },
    {
     "name": "stdout",
     "output_type": "stream",
     "text": [
      "\u001b[1m1/1\u001b[0m \u001b[32m━━━━━━━━━━━━━━━━━━━━\u001b[0m\u001b[37m\u001b[0m \u001b[1m0s\u001b[0m 120ms/step\n",
      "\u001b[1m1/1\u001b[0m \u001b[32m━━━━━━━━━━━━━━━━━━━━\u001b[0m\u001b[37m\u001b[0m \u001b[1m0s\u001b[0m 137ms/step\n",
      "MAE: 0.09451280214708725, MAPE: inf, R-squared: 0.8848007097050901\n",
      "Training GRU model for Material ID: 14426\n"
     ]
    },
    {
     "name": "stderr",
     "output_type": "stream",
     "text": [
      "C:\\Users\\sohan\\AppData\\Local\\Temp\\ipykernel_22764\\3232560010.py:12: RuntimeWarning: divide by zero encountered in divide\n",
      "  mape = np.mean(np.abs((y_test - y_pred) / y_test)) * 100\n",
      "C:\\Users\\sohan\\AppData\\Local\\Temp\\ipykernel_22764\\3232560010.py:80: FutureWarning: The frame.append method is deprecated and will be removed from pandas in a future version. Use pandas.concat instead.\n",
      "  forecast_df = forecast_df.append({\n",
      "C:\\Users\\sohan\\anaconda3\\lib\\site-packages\\keras\\src\\layers\\rnn\\rnn.py:205: UserWarning: Do not pass an `input_shape`/`input_dim` argument to a layer. When using Sequential models, prefer using an `Input(shape)` object as the first layer in the model instead.\n",
      "  super().__init__(**kwargs)\n"
     ]
    },
    {
     "name": "stdout",
     "output_type": "stream",
     "text": [
      "\u001b[1m1/1\u001b[0m \u001b[32m━━━━━━━━━━━━━━━━━━━━\u001b[0m\u001b[37m\u001b[0m \u001b[1m0s\u001b[0m 237ms/step\n",
      "\u001b[1m1/1\u001b[0m \u001b[32m━━━━━━━━━━━━━━━━━━━━\u001b[0m\u001b[37m\u001b[0m \u001b[1m0s\u001b[0m 254ms/step\n",
      "MAE: 0.14438333100094386, MAPE: inf, R-squared: 0.7285066016521387\n",
      "Training LSTM model for Material ID: 14426\n"
     ]
    },
    {
     "name": "stderr",
     "output_type": "stream",
     "text": [
      "C:\\Users\\sohan\\AppData\\Local\\Temp\\ipykernel_22764\\3232560010.py:12: RuntimeWarning: divide by zero encountered in divide\n",
      "  mape = np.mean(np.abs((y_test - y_pred) / y_test)) * 100\n",
      "C:\\Users\\sohan\\AppData\\Local\\Temp\\ipykernel_22764\\3232560010.py:80: FutureWarning: The frame.append method is deprecated and will be removed from pandas in a future version. Use pandas.concat instead.\n",
      "  forecast_df = forecast_df.append({\n",
      "C:\\Users\\sohan\\anaconda3\\lib\\site-packages\\keras\\src\\layers\\rnn\\rnn.py:205: UserWarning: Do not pass an `input_shape`/`input_dim` argument to a layer. When using Sequential models, prefer using an `Input(shape)` object as the first layer in the model instead.\n",
      "  super().__init__(**kwargs)\n"
     ]
    },
    {
     "name": "stdout",
     "output_type": "stream",
     "text": [
      "\u001b[1m1/1\u001b[0m \u001b[32m━━━━━━━━━━━━━━━━━━━━\u001b[0m\u001b[37m\u001b[0m \u001b[1m0s\u001b[0m 141ms/step\n",
      "\u001b[1m1/1\u001b[0m \u001b[32m━━━━━━━━━━━━━━━━━━━━\u001b[0m\u001b[37m\u001b[0m \u001b[1m0s\u001b[0m 184ms/step\n",
      "MAE: 0.13045677452376395, MAPE: inf, R-squared: 0.7834092078774146\n",
      "Evaluating models for Material ID: 15905\n",
      "Training SimpleRNN model for Material ID: 15905\n"
     ]
    },
    {
     "name": "stderr",
     "output_type": "stream",
     "text": [
      "C:\\Users\\sohan\\AppData\\Local\\Temp\\ipykernel_22764\\3232560010.py:12: RuntimeWarning: divide by zero encountered in divide\n",
      "  mape = np.mean(np.abs((y_test - y_pred) / y_test)) * 100\n",
      "C:\\Users\\sohan\\AppData\\Local\\Temp\\ipykernel_22764\\3232560010.py:80: FutureWarning: The frame.append method is deprecated and will be removed from pandas in a future version. Use pandas.concat instead.\n",
      "  forecast_df = forecast_df.append({\n",
      "C:\\Users\\sohan\\anaconda3\\lib\\site-packages\\keras\\src\\layers\\rnn\\rnn.py:205: UserWarning: Do not pass an `input_shape`/`input_dim` argument to a layer. When using Sequential models, prefer using an `Input(shape)` object as the first layer in the model instead.\n",
      "  super().__init__(**kwargs)\n"
     ]
    },
    {
     "name": "stdout",
     "output_type": "stream",
     "text": [
      "\u001b[1m1/1\u001b[0m \u001b[32m━━━━━━━━━━━━━━━━━━━━\u001b[0m\u001b[37m\u001b[0m \u001b[1m0s\u001b[0m 122ms/step\n",
      "\u001b[1m1/1\u001b[0m \u001b[32m━━━━━━━━━━━━━━━━━━━━\u001b[0m\u001b[37m\u001b[0m \u001b[1m0s\u001b[0m 135ms/step\n",
      "MAE: 0.08055217202865715, MAPE: inf, R-squared: 0.8743250868372167\n",
      "Training GRU model for Material ID: 15905\n"
     ]
    },
    {
     "name": "stderr",
     "output_type": "stream",
     "text": [
      "C:\\Users\\sohan\\AppData\\Local\\Temp\\ipykernel_22764\\3232560010.py:12: RuntimeWarning: divide by zero encountered in divide\n",
      "  mape = np.mean(np.abs((y_test - y_pred) / y_test)) * 100\n",
      "C:\\Users\\sohan\\AppData\\Local\\Temp\\ipykernel_22764\\3232560010.py:80: FutureWarning: The frame.append method is deprecated and will be removed from pandas in a future version. Use pandas.concat instead.\n",
      "  forecast_df = forecast_df.append({\n",
      "C:\\Users\\sohan\\anaconda3\\lib\\site-packages\\keras\\src\\layers\\rnn\\rnn.py:205: UserWarning: Do not pass an `input_shape`/`input_dim` argument to a layer. When using Sequential models, prefer using an `Input(shape)` object as the first layer in the model instead.\n",
      "  super().__init__(**kwargs)\n"
     ]
    },
    {
     "name": "stdout",
     "output_type": "stream",
     "text": [
      "\u001b[1m1/1\u001b[0m \u001b[32m━━━━━━━━━━━━━━━━━━━━\u001b[0m\u001b[37m\u001b[0m \u001b[1m0s\u001b[0m 159ms/step\n",
      "\u001b[1m1/1\u001b[0m \u001b[32m━━━━━━━━━━━━━━━━━━━━\u001b[0m\u001b[37m\u001b[0m \u001b[1m0s\u001b[0m 163ms/step\n",
      "MAE: 0.15095350597843982, MAPE: inf, R-squared: 0.5464814687647546\n",
      "Training LSTM model for Material ID: 15905\n"
     ]
    },
    {
     "name": "stderr",
     "output_type": "stream",
     "text": [
      "C:\\Users\\sohan\\AppData\\Local\\Temp\\ipykernel_22764\\3232560010.py:12: RuntimeWarning: divide by zero encountered in divide\n",
      "  mape = np.mean(np.abs((y_test - y_pred) / y_test)) * 100\n",
      "C:\\Users\\sohan\\AppData\\Local\\Temp\\ipykernel_22764\\3232560010.py:80: FutureWarning: The frame.append method is deprecated and will be removed from pandas in a future version. Use pandas.concat instead.\n",
      "  forecast_df = forecast_df.append({\n",
      "C:\\Users\\sohan\\anaconda3\\lib\\site-packages\\keras\\src\\layers\\rnn\\rnn.py:205: UserWarning: Do not pass an `input_shape`/`input_dim` argument to a layer. When using Sequential models, prefer using an `Input(shape)` object as the first layer in the model instead.\n",
      "  super().__init__(**kwargs)\n"
     ]
    },
    {
     "name": "stdout",
     "output_type": "stream",
     "text": [
      "\u001b[1m1/1\u001b[0m \u001b[32m━━━━━━━━━━━━━━━━━━━━\u001b[0m\u001b[37m\u001b[0m \u001b[1m0s\u001b[0m 188ms/step\n",
      "\u001b[1m1/1\u001b[0m \u001b[32m━━━━━━━━━━━━━━━━━━━━\u001b[0m\u001b[37m\u001b[0m \u001b[1m0s\u001b[0m 222ms/step\n",
      "MAE: 0.14022631988380893, MAPE: inf, R-squared: 0.6365318781575778\n",
      "Evaluating models for Material ID: 18176\n",
      "Training SimpleRNN model for Material ID: 18176\n"
     ]
    },
    {
     "name": "stderr",
     "output_type": "stream",
     "text": [
      "C:\\Users\\sohan\\AppData\\Local\\Temp\\ipykernel_22764\\3232560010.py:12: RuntimeWarning: divide by zero encountered in divide\n",
      "  mape = np.mean(np.abs((y_test - y_pred) / y_test)) * 100\n",
      "C:\\Users\\sohan\\AppData\\Local\\Temp\\ipykernel_22764\\3232560010.py:80: FutureWarning: The frame.append method is deprecated and will be removed from pandas in a future version. Use pandas.concat instead.\n",
      "  forecast_df = forecast_df.append({\n",
      "C:\\Users\\sohan\\anaconda3\\lib\\site-packages\\keras\\src\\layers\\rnn\\rnn.py:205: UserWarning: Do not pass an `input_shape`/`input_dim` argument to a layer. When using Sequential models, prefer using an `Input(shape)` object as the first layer in the model instead.\n",
      "  super().__init__(**kwargs)\n"
     ]
    },
    {
     "name": "stdout",
     "output_type": "stream",
     "text": [
      "\u001b[1m1/1\u001b[0m \u001b[32m━━━━━━━━━━━━━━━━━━━━\u001b[0m\u001b[37m\u001b[0m \u001b[1m0s\u001b[0m 122ms/step\n",
      "\u001b[1m1/1\u001b[0m \u001b[32m━━━━━━━━━━━━━━━━━━━━\u001b[0m\u001b[37m\u001b[0m \u001b[1m0s\u001b[0m 131ms/step\n",
      "MAE: 0.07438745349645613, MAPE: inf, R-squared: 0.9222121331292932\n",
      "Training GRU model for Material ID: 18176\n"
     ]
    },
    {
     "name": "stderr",
     "output_type": "stream",
     "text": [
      "C:\\Users\\sohan\\AppData\\Local\\Temp\\ipykernel_22764\\3232560010.py:12: RuntimeWarning: divide by zero encountered in divide\n",
      "  mape = np.mean(np.abs((y_test - y_pred) / y_test)) * 100\n",
      "C:\\Users\\sohan\\AppData\\Local\\Temp\\ipykernel_22764\\3232560010.py:80: FutureWarning: The frame.append method is deprecated and will be removed from pandas in a future version. Use pandas.concat instead.\n",
      "  forecast_df = forecast_df.append({\n",
      "C:\\Users\\sohan\\anaconda3\\lib\\site-packages\\keras\\src\\layers\\rnn\\rnn.py:205: UserWarning: Do not pass an `input_shape`/`input_dim` argument to a layer. When using Sequential models, prefer using an `Input(shape)` object as the first layer in the model instead.\n",
      "  super().__init__(**kwargs)\n"
     ]
    },
    {
     "name": "stdout",
     "output_type": "stream",
     "text": [
      "\u001b[1m1/1\u001b[0m \u001b[32m━━━━━━━━━━━━━━━━━━━━\u001b[0m\u001b[37m\u001b[0m \u001b[1m0s\u001b[0m 163ms/step\n",
      "\u001b[1m1/1\u001b[0m \u001b[32m━━━━━━━━━━━━━━━━━━━━\u001b[0m\u001b[37m\u001b[0m \u001b[1m0s\u001b[0m 174ms/step\n",
      "MAE: 0.13857913407541456, MAPE: inf, R-squared: 0.737933835472948\n",
      "Training LSTM model for Material ID: 18176\n"
     ]
    },
    {
     "name": "stderr",
     "output_type": "stream",
     "text": [
      "C:\\Users\\sohan\\AppData\\Local\\Temp\\ipykernel_22764\\3232560010.py:12: RuntimeWarning: divide by zero encountered in divide\n",
      "  mape = np.mean(np.abs((y_test - y_pred) / y_test)) * 100\n",
      "C:\\Users\\sohan\\AppData\\Local\\Temp\\ipykernel_22764\\3232560010.py:80: FutureWarning: The frame.append method is deprecated and will be removed from pandas in a future version. Use pandas.concat instead.\n",
      "  forecast_df = forecast_df.append({\n",
      "C:\\Users\\sohan\\anaconda3\\lib\\site-packages\\keras\\src\\layers\\rnn\\rnn.py:205: UserWarning: Do not pass an `input_shape`/`input_dim` argument to a layer. When using Sequential models, prefer using an `Input(shape)` object as the first layer in the model instead.\n",
      "  super().__init__(**kwargs)\n"
     ]
    },
    {
     "name": "stdout",
     "output_type": "stream",
     "text": [
      "\u001b[1m1/1\u001b[0m \u001b[32m━━━━━━━━━━━━━━━━━━━━\u001b[0m\u001b[37m\u001b[0m \u001b[1m0s\u001b[0m 135ms/step\n",
      "\u001b[1m1/1\u001b[0m \u001b[32m━━━━━━━━━━━━━━━━━━━━\u001b[0m\u001b[37m\u001b[0m \u001b[1m0s\u001b[0m 157ms/step\n",
      "MAE: 0.1599240292395864, MAPE: inf, R-squared: 0.6522926218989473\n",
      "Evaluating models for Material ID: 18997\n",
      "Training SimpleRNN model for Material ID: 18997\n"
     ]
    },
    {
     "name": "stderr",
     "output_type": "stream",
     "text": [
      "C:\\Users\\sohan\\AppData\\Local\\Temp\\ipykernel_22764\\3232560010.py:12: RuntimeWarning: divide by zero encountered in divide\n",
      "  mape = np.mean(np.abs((y_test - y_pred) / y_test)) * 100\n",
      "C:\\Users\\sohan\\AppData\\Local\\Temp\\ipykernel_22764\\3232560010.py:80: FutureWarning: The frame.append method is deprecated and will be removed from pandas in a future version. Use pandas.concat instead.\n",
      "  forecast_df = forecast_df.append({\n",
      "C:\\Users\\sohan\\anaconda3\\lib\\site-packages\\keras\\src\\layers\\rnn\\rnn.py:205: UserWarning: Do not pass an `input_shape`/`input_dim` argument to a layer. When using Sequential models, prefer using an `Input(shape)` object as the first layer in the model instead.\n",
      "  super().__init__(**kwargs)\n"
     ]
    },
    {
     "name": "stdout",
     "output_type": "stream",
     "text": [
      "\u001b[1m1/1\u001b[0m \u001b[32m━━━━━━━━━━━━━━━━━━━━\u001b[0m\u001b[37m\u001b[0m \u001b[1m0s\u001b[0m 126ms/step\n",
      "\u001b[1m1/1\u001b[0m \u001b[32m━━━━━━━━━━━━━━━━━━━━\u001b[0m\u001b[37m\u001b[0m \u001b[1m0s\u001b[0m 131ms/step\n",
      "MAE: 0.02809613903815098, MAPE: inf, R-squared: 0.9882694031973096\n",
      "Training GRU model for Material ID: 18997\n"
     ]
    },
    {
     "name": "stderr",
     "output_type": "stream",
     "text": [
      "C:\\Users\\sohan\\AppData\\Local\\Temp\\ipykernel_22764\\3232560010.py:12: RuntimeWarning: divide by zero encountered in divide\n",
      "  mape = np.mean(np.abs((y_test - y_pred) / y_test)) * 100\n",
      "C:\\Users\\sohan\\AppData\\Local\\Temp\\ipykernel_22764\\3232560010.py:80: FutureWarning: The frame.append method is deprecated and will be removed from pandas in a future version. Use pandas.concat instead.\n",
      "  forecast_df = forecast_df.append({\n",
      "C:\\Users\\sohan\\anaconda3\\lib\\site-packages\\keras\\src\\layers\\rnn\\rnn.py:205: UserWarning: Do not pass an `input_shape`/`input_dim` argument to a layer. When using Sequential models, prefer using an `Input(shape)` object as the first layer in the model instead.\n",
      "  super().__init__(**kwargs)\n"
     ]
    },
    {
     "name": "stdout",
     "output_type": "stream",
     "text": [
      "\u001b[1m1/1\u001b[0m \u001b[32m━━━━━━━━━━━━━━━━━━━━\u001b[0m\u001b[37m\u001b[0m \u001b[1m0s\u001b[0m 162ms/step\n",
      "\u001b[1m1/1\u001b[0m \u001b[32m━━━━━━━━━━━━━━━━━━━━\u001b[0m\u001b[37m\u001b[0m \u001b[1m0s\u001b[0m 177ms/step\n",
      "MAE: 0.13748023087328132, MAPE: inf, R-squared: 0.6962652557935317\n",
      "Training LSTM model for Material ID: 18997\n"
     ]
    },
    {
     "name": "stderr",
     "output_type": "stream",
     "text": [
      "C:\\Users\\sohan\\AppData\\Local\\Temp\\ipykernel_22764\\3232560010.py:12: RuntimeWarning: divide by zero encountered in divide\n",
      "  mape = np.mean(np.abs((y_test - y_pred) / y_test)) * 100\n",
      "C:\\Users\\sohan\\AppData\\Local\\Temp\\ipykernel_22764\\3232560010.py:80: FutureWarning: The frame.append method is deprecated and will be removed from pandas in a future version. Use pandas.concat instead.\n",
      "  forecast_df = forecast_df.append({\n",
      "C:\\Users\\sohan\\anaconda3\\lib\\site-packages\\keras\\src\\layers\\rnn\\rnn.py:205: UserWarning: Do not pass an `input_shape`/`input_dim` argument to a layer. When using Sequential models, prefer using an `Input(shape)` object as the first layer in the model instead.\n",
      "  super().__init__(**kwargs)\n"
     ]
    },
    {
     "name": "stdout",
     "output_type": "stream",
     "text": [
      "\u001b[1m1/1\u001b[0m \u001b[32m━━━━━━━━━━━━━━━━━━━━\u001b[0m\u001b[37m\u001b[0m \u001b[1m0s\u001b[0m 224ms/step\n",
      "\u001b[1m1/1\u001b[0m \u001b[32m━━━━━━━━━━━━━━━━━━━━\u001b[0m\u001b[37m\u001b[0m \u001b[1m0s\u001b[0m 260ms/step\n",
      "MAE: 0.15276125517758457, MAPE: inf, R-squared: 0.6348539540568193\n",
      "Evaluating models for Material ID: 22297\n",
      "Training SimpleRNN model for Material ID: 22297\n"
     ]
    },
    {
     "name": "stderr",
     "output_type": "stream",
     "text": [
      "C:\\Users\\sohan\\AppData\\Local\\Temp\\ipykernel_22764\\3232560010.py:12: RuntimeWarning: divide by zero encountered in divide\n",
      "  mape = np.mean(np.abs((y_test - y_pred) / y_test)) * 100\n",
      "C:\\Users\\sohan\\AppData\\Local\\Temp\\ipykernel_22764\\3232560010.py:80: FutureWarning: The frame.append method is deprecated and will be removed from pandas in a future version. Use pandas.concat instead.\n",
      "  forecast_df = forecast_df.append({\n",
      "C:\\Users\\sohan\\anaconda3\\lib\\site-packages\\keras\\src\\layers\\rnn\\rnn.py:205: UserWarning: Do not pass an `input_shape`/`input_dim` argument to a layer. When using Sequential models, prefer using an `Input(shape)` object as the first layer in the model instead.\n",
      "  super().__init__(**kwargs)\n"
     ]
    },
    {
     "name": "stdout",
     "output_type": "stream",
     "text": [
      "\u001b[1m1/1\u001b[0m \u001b[32m━━━━━━━━━━━━━━━━━━━━\u001b[0m\u001b[37m\u001b[0m \u001b[1m0s\u001b[0m 116ms/step\n",
      "\u001b[1m1/1\u001b[0m \u001b[32m━━━━━━━━━━━━━━━━━━━━\u001b[0m\u001b[37m\u001b[0m \u001b[1m0s\u001b[0m 122ms/step\n",
      "MAE: 0.02914536766707899, MAPE: inf, R-squared: 0.9872176869864933\n",
      "Training GRU model for Material ID: 22297\n"
     ]
    },
    {
     "name": "stderr",
     "output_type": "stream",
     "text": [
      "C:\\Users\\sohan\\AppData\\Local\\Temp\\ipykernel_22764\\3232560010.py:12: RuntimeWarning: divide by zero encountered in divide\n",
      "  mape = np.mean(np.abs((y_test - y_pred) / y_test)) * 100\n",
      "C:\\Users\\sohan\\AppData\\Local\\Temp\\ipykernel_22764\\3232560010.py:80: FutureWarning: The frame.append method is deprecated and will be removed from pandas in a future version. Use pandas.concat instead.\n",
      "  forecast_df = forecast_df.append({\n",
      "C:\\Users\\sohan\\anaconda3\\lib\\site-packages\\keras\\src\\layers\\rnn\\rnn.py:205: UserWarning: Do not pass an `input_shape`/`input_dim` argument to a layer. When using Sequential models, prefer using an `Input(shape)` object as the first layer in the model instead.\n",
      "  super().__init__(**kwargs)\n"
     ]
    },
    {
     "name": "stdout",
     "output_type": "stream",
     "text": [
      "\u001b[1m1/1\u001b[0m \u001b[32m━━━━━━━━━━━━━━━━━━━━\u001b[0m\u001b[37m\u001b[0m \u001b[1m0s\u001b[0m 160ms/step\n",
      "\u001b[1m1/1\u001b[0m \u001b[32m━━━━━━━━━━━━━━━━━━━━\u001b[0m\u001b[37m\u001b[0m \u001b[1m0s\u001b[0m 163ms/step\n",
      "MAE: 0.11555283129215244, MAPE: inf, R-squared: 0.7811437908621355\n",
      "Training LSTM model for Material ID: 22297\n"
     ]
    },
    {
     "name": "stderr",
     "output_type": "stream",
     "text": [
      "C:\\Users\\sohan\\AppData\\Local\\Temp\\ipykernel_22764\\3232560010.py:12: RuntimeWarning: divide by zero encountered in divide\n",
      "  mape = np.mean(np.abs((y_test - y_pred) / y_test)) * 100\n",
      "C:\\Users\\sohan\\AppData\\Local\\Temp\\ipykernel_22764\\3232560010.py:80: FutureWarning: The frame.append method is deprecated and will be removed from pandas in a future version. Use pandas.concat instead.\n",
      "  forecast_df = forecast_df.append({\n",
      "C:\\Users\\sohan\\anaconda3\\lib\\site-packages\\keras\\src\\layers\\rnn\\rnn.py:205: UserWarning: Do not pass an `input_shape`/`input_dim` argument to a layer. When using Sequential models, prefer using an `Input(shape)` object as the first layer in the model instead.\n",
      "  super().__init__(**kwargs)\n"
     ]
    },
    {
     "name": "stdout",
     "output_type": "stream",
     "text": [
      "\u001b[1m1/1\u001b[0m \u001b[32m━━━━━━━━━━━━━━━━━━━━\u001b[0m\u001b[37m\u001b[0m \u001b[1m0s\u001b[0m 216ms/step\n",
      "\u001b[1m1/1\u001b[0m \u001b[32m━━━━━━━━━━━━━━━━━━━━\u001b[0m\u001b[37m\u001b[0m \u001b[1m0s\u001b[0m 291ms/step\n",
      "MAE: 0.15662992656230929, MAPE: inf, R-squared: 0.565775600813877\n",
      "   Time id          Material Quantity  Total_Value Material_Id      Model  \\\n",
      "0       38        C37-200258       11    156982.44        1708  SimpleRNN   \n",
      "1       38        C37-200258       11    156982.44        1708        GRU   \n",
      "2       38        C37-200258       11    156982.44        1708       LSTM   \n",
      "3       38        C65-200280       48    157149.14        2425  SimpleRNN   \n",
      "4       38        C65-200280       48    157149.14        2425        GRU   \n",
      "5       38        C65-200280       48    157149.14        2425       LSTM   \n",
      "6       38        S02-060397        2     30268.02        6324  SimpleRNN   \n",
      "7       38        S02-060397        2     30268.02        6324        GRU   \n",
      "8       38        S02-060397        2     30268.02        6324       LSTM   \n",
      "9       38        S06-310007      198    175678.84        6587  SimpleRNN   \n",
      "10      38        S06-310007      198    175678.84        6587        GRU   \n",
      "11      38        S06-310007      198    175678.84        6587       LSTM   \n",
      "12      38        S10-130653       97    740962.30        7385  SimpleRNN   \n",
      "13      38        S10-130653       97    740962.30        7385        GRU   \n",
      "14      38        S10-130653       97    740962.30        7385       LSTM   \n",
      "15      38        S10-130781      132    546171.00        7413  SimpleRNN   \n",
      "16      38        S10-130781      132    546171.00        7413        GRU   \n",
      "17      38        S10-130781      132    546171.00        7413       LSTM   \n",
      "18      38        S02-060529       12    246187.86       11101  SimpleRNN   \n",
      "19      38        S02-060529       12    246187.86       11101        GRU   \n",
      "20      38        S02-060529       12    246187.86       11101       LSTM   \n",
      "21      38        S12-060214       25    416336.42       14426  SimpleRNN   \n",
      "22      38        S12-060214       25    416336.42       14426        GRU   \n",
      "23      38        S12-060214       25    416336.42       14426       LSTM   \n",
      "24      38        S12-160332       10    262214.42       15905  SimpleRNN   \n",
      "25      38        S12-160332       10    262214.42       15905        GRU   \n",
      "26      38        S12-160332       10    262214.42       15905       LSTM   \n",
      "27      38  A11-14S-0113-SET        8    490059.19       18176  SimpleRNN   \n",
      "28      38  A11-14S-0113-SET        8    490059.19       18176        GRU   \n",
      "29      38  A11-14S-0113-SET        8    490059.19       18176       LSTM   \n",
      "30      38  A30-14S-0131-SET       26   1870716.06       18997  SimpleRNN   \n",
      "31      38  A30-14S-0131-SET       26   1870716.06       18997        GRU   \n",
      "32      38  A30-14S-0131-SET       26   1870716.06       18997       LSTM   \n",
      "33      38        S10-131029        9    198103.70       22297  SimpleRNN   \n",
      "34      38        S10-131029        9    198103.70       22297        GRU   \n",
      "35      38        S10-131029        9    198103.70       22297       LSTM   \n",
      "\n",
      "    Forecasted       MAE  MAPE        R2  \n",
      "0    16.017342  0.002384   inf  0.999934  \n",
      "1    15.121687  0.117894   inf  0.836463  \n",
      "2    14.764181  0.175788   inf  0.638959  \n",
      "3    34.812176  0.077799   inf  0.902792  \n",
      "4    39.208710  0.135308   inf  0.698888  \n",
      "5    39.548313  0.134497   inf  0.706902  \n",
      "6     5.686705  0.097248   inf  0.853625  \n",
      "7     6.332805  0.134665   inf  0.716053  \n",
      "8     6.498690  0.136179   inf  0.715043  \n",
      "9   160.171692  0.006747   inf  0.999545  \n",
      "10  145.260651  0.196990   inf  0.610404  \n",
      "11  148.183472  0.168965   inf  0.709840  \n",
      "12   96.706856  0.093564   inf  0.792235  \n",
      "13   92.637779  0.108832   inf  0.718697  \n",
      "14   89.717850  0.128782   inf  0.615728  \n",
      "15  130.624039  0.063919   inf  0.937645  \n",
      "16  116.050873  0.127088   inf  0.748062  \n",
      "17  115.447189  0.141814   inf  0.687095  \n",
      "18   17.258940  0.021439   inf  0.994443  \n",
      "19   15.538673  0.074369   inf  0.934914  \n",
      "20   12.168261  0.181463   inf  0.617345  \n",
      "21   33.070950  0.094513   inf  0.884801  \n",
      "22   31.470222  0.144383   inf  0.728507  \n",
      "23   31.570456  0.130457   inf  0.783409  \n",
      "24    4.756482  0.080552   inf  0.874325  \n",
      "25    7.344962  0.150954   inf  0.546481  \n",
      "26    6.222784  0.140226   inf  0.636532  \n",
      "27    3.537009  0.074387   inf  0.922212  \n",
      "28    3.884384  0.138579   inf  0.737934  \n",
      "29    4.000631  0.159924   inf  0.652293  \n",
      "30   13.593809  0.028096   inf  0.988269  \n",
      "31   15.369509  0.137480   inf  0.696265  \n",
      "32   15.920830  0.152761   inf  0.634854  \n",
      "33    9.410004  0.029145   inf  0.987218  \n",
      "34   10.439182  0.115553   inf  0.781144  \n",
      "35   10.762391  0.156630   inf  0.565776  \n"
     ]
    },
    {
     "name": "stderr",
     "output_type": "stream",
     "text": [
      "C:\\Users\\sohan\\AppData\\Local\\Temp\\ipykernel_22764\\3232560010.py:12: RuntimeWarning: divide by zero encountered in divide\n",
      "  mape = np.mean(np.abs((y_test - y_pred) / y_test)) * 100\n",
      "C:\\Users\\sohan\\AppData\\Local\\Temp\\ipykernel_22764\\3232560010.py:80: FutureWarning: The frame.append method is deprecated and will be removed from pandas in a future version. Use pandas.concat instead.\n",
      "  forecast_df = forecast_df.append({\n"
     ]
    }
   ],
   "source": [
    "from sklearn.metrics import mean_absolute_error, r2_score\n",
    "from sklearn.preprocessing import MinMaxScaler\n",
    "from keras.models import Sequential\n",
    "from keras.layers import SimpleRNN, GRU, LSTM, Dense\n",
    "import numpy as np\n",
    "import pandas as pd\n",
    "\n",
    "# Define the evaluate_model function with MAPE\n",
    "def evaluate_model(model, X_test, y_test):\n",
    "    y_pred = model.predict(X_test)\n",
    "    mae = mean_absolute_error(y_test, y_pred)\n",
    "    mape = np.mean(np.abs((y_test - y_pred) / y_test)) * 100\n",
    "    r2 = r2_score(y_test, y_pred)\n",
    "    return mae, mape, r2\n",
    "\n",
    "# Define train and test periods\n",
    "train_start_id = 25\n",
    "train_end_id = 37\n",
    "forecast_time_id = 38\n",
    "\n",
    "# Create an empty DataFrame to store forecasted values\n",
    "forecast_df = pd.DataFrame(columns=['Time id', 'Material', 'Quantity', 'Total_Value', 'Material_Id', 'Model', 'Forecasted', 'MAE', 'MAPE', 'R2'])\n",
    "\n",
    "# Define a function to build and train RNN model\n",
    "def build_and_train_model(X_train, y_train, model_type):\n",
    "    model = Sequential()\n",
    "    if model_type == 'SimpleRNN':\n",
    "        model.add(SimpleRNN(units=64, input_shape=(X_train.shape[1], X_train.shape[2])))\n",
    "    elif model_type == 'GRU':\n",
    "        model.add(GRU(units=64, input_shape=(X_train.shape[1], X_train.shape[2])))\n",
    "    elif model_type == 'LSTM':\n",
    "        model.add(LSTM(units=64, input_shape=(X_train.shape[1], X_train.shape[2])))\n",
    "    model.add(Dense(1))\n",
    "    model.compile(optimizer='adam', loss='mse')\n",
    "    model.fit(X_train, y_train, epochs=100, batch_size=32, verbose=0)\n",
    "    return model\n",
    "\n",
    "# Iterate over each material id\n",
    "for material_id in df['Material_Id'].unique():\n",
    "    print(f\"Evaluating models for Material ID: {material_id}\")\n",
    "    \n",
    "    # Filter data for the current material id\n",
    "    material_data = df[df['Material_Id'] == material_id]\n",
    "    \n",
    "    # Filter training data\n",
    "    # Filter training data\n",
    "    train_data = material_data[(material_data['Time id'] >= train_start_id) & (material_data['Time id'] <= train_end_id)]\n",
    "\n",
    "\n",
    "    # Skip evaluation if there is no training data\n",
    "    if train_data.empty:\n",
    "        print(f\"No training data available for Material ID: {material_id}. Skipping evaluation.\")\n",
    "        continue\n",
    "\n",
    "    # Scale the data\n",
    "    scaler = MinMaxScaler()\n",
    "    train_scaled = scaler.fit_transform(train_data[['Quantity']])\n",
    "\n",
    "    # Reshape input to be [samples, time steps, features]\n",
    "    X_train = np.reshape(train_scaled, (train_scaled.shape[0], 1, 1))\n",
    "    y_train = train_scaled[:, 0]  # Target variable is Quantity\n",
    "\n",
    "    # Evaluate SimpleRNN, GRU, and LSTM models\n",
    "    for model_type in ['SimpleRNN', 'GRU', 'LSTM']:\n",
    "        print(f\"Training {model_type} model for Material ID: {material_id}\")\n",
    "        \n",
    "        # Build and train the model\n",
    "        model = build_and_train_model(X_train, y_train, model_type)\n",
    "        \n",
    "        # Forecast for the next time id (Time id 37)\n",
    "        forecasted_values = model.predict(X_train[-1:])  # Use the last time step of the training data for forecasting\n",
    "        forecasted_values = scaler.inverse_transform(forecasted_values.reshape(-1, 1)).flatten()\n",
    "        forecast = forecasted_values[0]\n",
    "\n",
    "        # Evaluate the model for the current Material Id\n",
    "        mae, mape, r2 = evaluate_model(model, X_train, y_train)\n",
    "        print(f\"MAE: {mae}, MAPE: {mape}, R-squared: {r2}\")\n",
    "\n",
    "        # Append to forecast DataFrame\n",
    "        forecast_df = forecast_df.append({\n",
    "            'Time id': forecast_time_id,\n",
    "            'Material': material_data['Material'].iloc[-1],\n",
    "            'Quantity': material_data['Quantity'].iloc[-1],\n",
    "            'Total_Value': material_data['Total_Value'].iloc[-1],\n",
    "            'Material_Id': material_id,\n",
    "            'Model': model_type,\n",
    "            'Forecasted': forecast,\n",
    "            'MAE': mae,\n",
    "            'MAPE': mape,\n",
    "            'R2': r2\n",
    "        }, ignore_index=True)\n",
    "\n",
    "# Display the forecast DataFrame\n",
    "print(forecast_df)\n"
   ]
  },
  {
   "cell_type": "code",
   "execution_count": 9,
   "id": "621c40ac",
   "metadata": {},
   "outputs": [
    {
     "name": "stdout",
     "output_type": "stream",
     "text": [
      "Overall MAE and R2 for each model:\n",
      "       Model       MAE        R2\n",
      "0        GRU  0.131841  0.729484\n",
      "1       LSTM  0.150624  0.663648\n",
      "2  SimpleRNN  0.055816  0.928087\n"
     ]
    }
   ],
   "source": [
    "\n",
    "\n",
    "\n",
    "# Group the forecast DataFrame by the 'Model' column and calculate the mean MAE and R2 for each group\n",
    "model_metrics = forecast_df.groupby('Model').agg({'MAE': 'mean', 'R2': 'mean'}).reset_index()\n",
    "\n",
    "# Print the overall MAE and R2 for each model\n",
    "print(\"Overall MAE and R2 for each model:\")\n",
    "print(model_metrics)\n"
   ]
  },
  {
   "cell_type": "code",
   "execution_count": 10,
   "id": "d149a022",
   "metadata": {},
   "outputs": [
    {
     "name": "stdout",
     "output_type": "stream",
     "text": [
      "Evaluating models for Material ID: 1708\n",
      "Evaluating SimpleRNN model for Material ID: 1708\n"
     ]
    },
    {
     "name": "stderr",
     "output_type": "stream",
     "text": [
      "C:\\Users\\sohan\\anaconda3\\lib\\site-packages\\keras\\src\\layers\\rnn\\rnn.py:205: UserWarning: Do not pass an `input_shape`/`input_dim` argument to a layer. When using Sequential models, prefer using an `Input(shape)` object as the first layer in the model instead.\n",
      "  super().__init__(**kwargs)\n"
     ]
    },
    {
     "name": "stdout",
     "output_type": "stream",
     "text": [
      "\u001b[1m1/1\u001b[0m \u001b[32m━━━━━━━━━━━━━━━━━━━━\u001b[0m\u001b[37m\u001b[0m \u001b[1m0s\u001b[0m 126ms/step\n",
      "MAPE: 42.30100458318537\n",
      "Evaluating GRU model for Material ID: 1708\n"
     ]
    },
    {
     "name": "stderr",
     "output_type": "stream",
     "text": [
      "C:\\Users\\sohan\\AppData\\Local\\Temp\\ipykernel_22764\\1359943296.py:77: FutureWarning: The frame.append method is deprecated and will be removed from pandas in a future version. Use pandas.concat instead.\n",
      "  forecast_df = forecast_df.append({\n",
      "C:\\Users\\sohan\\anaconda3\\lib\\site-packages\\keras\\src\\layers\\rnn\\rnn.py:205: UserWarning: Do not pass an `input_shape`/`input_dim` argument to a layer. When using Sequential models, prefer using an `Input(shape)` object as the first layer in the model instead.\n",
      "  super().__init__(**kwargs)\n"
     ]
    },
    {
     "name": "stdout",
     "output_type": "stream",
     "text": [
      "\u001b[1m1/1\u001b[0m \u001b[32m━━━━━━━━━━━━━━━━━━━━\u001b[0m\u001b[37m\u001b[0m \u001b[1m0s\u001b[0m 284ms/step\n",
      "MAPE: 37.28342056274414\n",
      "Evaluating LSTM model for Material ID: 1708\n"
     ]
    },
    {
     "name": "stderr",
     "output_type": "stream",
     "text": [
      "C:\\Users\\sohan\\AppData\\Local\\Temp\\ipykernel_22764\\1359943296.py:77: FutureWarning: The frame.append method is deprecated and will be removed from pandas in a future version. Use pandas.concat instead.\n",
      "  forecast_df = forecast_df.append({\n",
      "C:\\Users\\sohan\\anaconda3\\lib\\site-packages\\keras\\src\\layers\\rnn\\rnn.py:205: UserWarning: Do not pass an `input_shape`/`input_dim` argument to a layer. When using Sequential models, prefer using an `Input(shape)` object as the first layer in the model instead.\n",
      "  super().__init__(**kwargs)\n"
     ]
    },
    {
     "name": "stdout",
     "output_type": "stream",
     "text": [
      "\u001b[1m1/1\u001b[0m \u001b[32m━━━━━━━━━━━━━━━━━━━━\u001b[0m\u001b[37m\u001b[0m \u001b[1m0s\u001b[0m 136ms/step\n",
      "MAPE: 34.18900749900124\n",
      "Evaluating models for Material ID: 2425\n",
      "Evaluating SimpleRNN model for Material ID: 2425\n"
     ]
    },
    {
     "name": "stderr",
     "output_type": "stream",
     "text": [
      "C:\\Users\\sohan\\AppData\\Local\\Temp\\ipykernel_22764\\1359943296.py:77: FutureWarning: The frame.append method is deprecated and will be removed from pandas in a future version. Use pandas.concat instead.\n",
      "  forecast_df = forecast_df.append({\n",
      "C:\\Users\\sohan\\anaconda3\\lib\\site-packages\\keras\\src\\layers\\rnn\\rnn.py:205: UserWarning: Do not pass an `input_shape`/`input_dim` argument to a layer. When using Sequential models, prefer using an `Input(shape)` object as the first layer in the model instead.\n",
      "  super().__init__(**kwargs)\n"
     ]
    },
    {
     "name": "stdout",
     "output_type": "stream",
     "text": [
      "\u001b[1m1/1\u001b[0m \u001b[32m━━━━━━━━━━━━━━━━━━━━\u001b[0m\u001b[37m\u001b[0m \u001b[1m0s\u001b[0m 161ms/step\n",
      "MAPE: 29.390303293863933\n",
      "Evaluating GRU model for Material ID: 2425\n"
     ]
    },
    {
     "name": "stderr",
     "output_type": "stream",
     "text": [
      "C:\\Users\\sohan\\AppData\\Local\\Temp\\ipykernel_22764\\1359943296.py:77: FutureWarning: The frame.append method is deprecated and will be removed from pandas in a future version. Use pandas.concat instead.\n",
      "  forecast_df = forecast_df.append({\n",
      "C:\\Users\\sohan\\anaconda3\\lib\\site-packages\\keras\\src\\layers\\rnn\\rnn.py:205: UserWarning: Do not pass an `input_shape`/`input_dim` argument to a layer. When using Sequential models, prefer using an `Input(shape)` object as the first layer in the model instead.\n",
      "  super().__init__(**kwargs)\n"
     ]
    },
    {
     "name": "stdout",
     "output_type": "stream",
     "text": [
      "\u001b[1m1/1\u001b[0m \u001b[32m━━━━━━━━━━━━━━━━━━━━\u001b[0m\u001b[37m\u001b[0m \u001b[1m0s\u001b[0m 240ms/step\n",
      "MAPE: 25.079631805419922\n",
      "Evaluating LSTM model for Material ID: 2425\n"
     ]
    },
    {
     "name": "stderr",
     "output_type": "stream",
     "text": [
      "C:\\Users\\sohan\\AppData\\Local\\Temp\\ipykernel_22764\\1359943296.py:77: FutureWarning: The frame.append method is deprecated and will be removed from pandas in a future version. Use pandas.concat instead.\n",
      "  forecast_df = forecast_df.append({\n",
      "C:\\Users\\sohan\\anaconda3\\lib\\site-packages\\keras\\src\\layers\\rnn\\rnn.py:205: UserWarning: Do not pass an `input_shape`/`input_dim` argument to a layer. When using Sequential models, prefer using an `Input(shape)` object as the first layer in the model instead.\n",
      "  super().__init__(**kwargs)\n"
     ]
    },
    {
     "name": "stdout",
     "output_type": "stream",
     "text": [
      "\u001b[1m1/1\u001b[0m \u001b[32m━━━━━━━━━━━━━━━━━━━━\u001b[0m\u001b[37m\u001b[0m \u001b[1m0s\u001b[0m 139ms/step\n",
      "MAPE: 16.181087493896484\n",
      "Evaluating models for Material ID: 6324\n",
      "Evaluating SimpleRNN model for Material ID: 6324\n"
     ]
    },
    {
     "name": "stderr",
     "output_type": "stream",
     "text": [
      "C:\\Users\\sohan\\AppData\\Local\\Temp\\ipykernel_22764\\1359943296.py:77: FutureWarning: The frame.append method is deprecated and will be removed from pandas in a future version. Use pandas.concat instead.\n",
      "  forecast_df = forecast_df.append({\n",
      "C:\\Users\\sohan\\anaconda3\\lib\\site-packages\\keras\\src\\layers\\rnn\\rnn.py:205: UserWarning: Do not pass an `input_shape`/`input_dim` argument to a layer. When using Sequential models, prefer using an `Input(shape)` object as the first layer in the model instead.\n",
      "  super().__init__(**kwargs)\n"
     ]
    },
    {
     "name": "stdout",
     "output_type": "stream",
     "text": [
      "\u001b[1m1/1\u001b[0m \u001b[32m━━━━━━━━━━━━━━━━━━━━\u001b[0m\u001b[37m\u001b[0m \u001b[1m0s\u001b[0m 174ms/step\n",
      "MAPE: 106.02807998657227\n",
      "Evaluating GRU model for Material ID: 6324\n"
     ]
    },
    {
     "name": "stderr",
     "output_type": "stream",
     "text": [
      "C:\\Users\\sohan\\AppData\\Local\\Temp\\ipykernel_22764\\1359943296.py:77: FutureWarning: The frame.append method is deprecated and will be removed from pandas in a future version. Use pandas.concat instead.\n",
      "  forecast_df = forecast_df.append({\n",
      "C:\\Users\\sohan\\anaconda3\\lib\\site-packages\\keras\\src\\layers\\rnn\\rnn.py:205: UserWarning: Do not pass an `input_shape`/`input_dim` argument to a layer. When using Sequential models, prefer using an `Input(shape)` object as the first layer in the model instead.\n",
      "  super().__init__(**kwargs)\n"
     ]
    },
    {
     "name": "stdout",
     "output_type": "stream",
     "text": [
      "\u001b[1m1/1\u001b[0m \u001b[32m━━━━━━━━━━━━━━━━━━━━\u001b[0m\u001b[37m\u001b[0m \u001b[1m0s\u001b[0m 165ms/step\n",
      "MAPE: 192.87610054016113\n",
      "Evaluating LSTM model for Material ID: 6324\n"
     ]
    },
    {
     "name": "stderr",
     "output_type": "stream",
     "text": [
      "C:\\Users\\sohan\\AppData\\Local\\Temp\\ipykernel_22764\\1359943296.py:77: FutureWarning: The frame.append method is deprecated and will be removed from pandas in a future version. Use pandas.concat instead.\n",
      "  forecast_df = forecast_df.append({\n",
      "C:\\Users\\sohan\\anaconda3\\lib\\site-packages\\keras\\src\\layers\\rnn\\rnn.py:205: UserWarning: Do not pass an `input_shape`/`input_dim` argument to a layer. When using Sequential models, prefer using an `Input(shape)` object as the first layer in the model instead.\n",
      "  super().__init__(**kwargs)\n"
     ]
    },
    {
     "name": "stdout",
     "output_type": "stream",
     "text": [
      "\u001b[1m1/1\u001b[0m \u001b[32m━━━━━━━━━━━━━━━━━━━━\u001b[0m\u001b[37m\u001b[0m \u001b[1m0s\u001b[0m 181ms/step\n",
      "MAPE: 216.90895557403564\n",
      "Evaluating models for Material ID: 6587\n",
      "Evaluating SimpleRNN model for Material ID: 6587\n"
     ]
    },
    {
     "name": "stderr",
     "output_type": "stream",
     "text": [
      "C:\\Users\\sohan\\AppData\\Local\\Temp\\ipykernel_22764\\1359943296.py:77: FutureWarning: The frame.append method is deprecated and will be removed from pandas in a future version. Use pandas.concat instead.\n",
      "  forecast_df = forecast_df.append({\n",
      "C:\\Users\\sohan\\anaconda3\\lib\\site-packages\\keras\\src\\layers\\rnn\\rnn.py:205: UserWarning: Do not pass an `input_shape`/`input_dim` argument to a layer. When using Sequential models, prefer using an `Input(shape)` object as the first layer in the model instead.\n",
      "  super().__init__(**kwargs)\n"
     ]
    },
    {
     "name": "stdout",
     "output_type": "stream",
     "text": [
      "\u001b[1m1/1\u001b[0m \u001b[32m━━━━━━━━━━━━━━━━━━━━\u001b[0m\u001b[37m\u001b[0m \u001b[1m0s\u001b[0m 110ms/step\n",
      "MAPE: 21.56813650420218\n",
      "Evaluating GRU model for Material ID: 6587\n"
     ]
    },
    {
     "name": "stderr",
     "output_type": "stream",
     "text": [
      "C:\\Users\\sohan\\AppData\\Local\\Temp\\ipykernel_22764\\1359943296.py:77: FutureWarning: The frame.append method is deprecated and will be removed from pandas in a future version. Use pandas.concat instead.\n",
      "  forecast_df = forecast_df.append({\n",
      "C:\\Users\\sohan\\anaconda3\\lib\\site-packages\\keras\\src\\layers\\rnn\\rnn.py:205: UserWarning: Do not pass an `input_shape`/`input_dim` argument to a layer. When using Sequential models, prefer using an `Input(shape)` object as the first layer in the model instead.\n",
      "  super().__init__(**kwargs)\n"
     ]
    },
    {
     "name": "stdout",
     "output_type": "stream",
     "text": [
      "\u001b[1m1/1\u001b[0m \u001b[32m━━━━━━━━━━━━━━━━━━━━\u001b[0m\u001b[37m\u001b[0m \u001b[1m0s\u001b[0m 104ms/step\n",
      "MAPE: 25.148488054371843\n",
      "Evaluating LSTM model for Material ID: 6587\n"
     ]
    },
    {
     "name": "stderr",
     "output_type": "stream",
     "text": [
      "C:\\Users\\sohan\\AppData\\Local\\Temp\\ipykernel_22764\\1359943296.py:77: FutureWarning: The frame.append method is deprecated and will be removed from pandas in a future version. Use pandas.concat instead.\n",
      "  forecast_df = forecast_df.append({\n",
      "C:\\Users\\sohan\\anaconda3\\lib\\site-packages\\keras\\src\\layers\\rnn\\rnn.py:205: UserWarning: Do not pass an `input_shape`/`input_dim` argument to a layer. When using Sequential models, prefer using an `Input(shape)` object as the first layer in the model instead.\n",
      "  super().__init__(**kwargs)\n"
     ]
    },
    {
     "name": "stdout",
     "output_type": "stream",
     "text": [
      "\u001b[1m1/1\u001b[0m \u001b[32m━━━━━━━━━━━━━━━━━━━━\u001b[0m\u001b[37m\u001b[0m \u001b[1m0s\u001b[0m 79ms/step\n",
      "MAPE: 26.854952417238792\n",
      "Evaluating models for Material ID: 7385\n",
      "Evaluating SimpleRNN model for Material ID: 7385\n"
     ]
    },
    {
     "name": "stderr",
     "output_type": "stream",
     "text": [
      "C:\\Users\\sohan\\AppData\\Local\\Temp\\ipykernel_22764\\1359943296.py:77: FutureWarning: The frame.append method is deprecated and will be removed from pandas in a future version. Use pandas.concat instead.\n",
      "  forecast_df = forecast_df.append({\n",
      "C:\\Users\\sohan\\anaconda3\\lib\\site-packages\\keras\\src\\layers\\rnn\\rnn.py:205: UserWarning: Do not pass an `input_shape`/`input_dim` argument to a layer. When using Sequential models, prefer using an `Input(shape)` object as the first layer in the model instead.\n",
      "  super().__init__(**kwargs)\n"
     ]
    },
    {
     "name": "stdout",
     "output_type": "stream",
     "text": [
      "\u001b[1m1/1\u001b[0m \u001b[32m━━━━━━━━━━━━━━━━━━━━\u001b[0m\u001b[37m\u001b[0m \u001b[1m0s\u001b[0m 65ms/step\n",
      "MAPE: 10.530349888752417\n",
      "Evaluating GRU model for Material ID: 7385\n"
     ]
    },
    {
     "name": "stderr",
     "output_type": "stream",
     "text": [
      "C:\\Users\\sohan\\AppData\\Local\\Temp\\ipykernel_22764\\1359943296.py:77: FutureWarning: The frame.append method is deprecated and will be removed from pandas in a future version. Use pandas.concat instead.\n",
      "  forecast_df = forecast_df.append({\n",
      "C:\\Users\\sohan\\anaconda3\\lib\\site-packages\\keras\\src\\layers\\rnn\\rnn.py:205: UserWarning: Do not pass an `input_shape`/`input_dim` argument to a layer. When using Sequential models, prefer using an `Input(shape)` object as the first layer in the model instead.\n",
      "  super().__init__(**kwargs)\n"
     ]
    },
    {
     "name": "stdout",
     "output_type": "stream",
     "text": [
      "\u001b[1m1/1\u001b[0m \u001b[32m━━━━━━━━━━━━━━━━━━━━\u001b[0m\u001b[37m\u001b[0m \u001b[1m0s\u001b[0m 90ms/step\n",
      "MAPE: 0.08887064825628221\n",
      "Evaluating LSTM model for Material ID: 7385\n"
     ]
    },
    {
     "name": "stderr",
     "output_type": "stream",
     "text": [
      "C:\\Users\\sohan\\AppData\\Local\\Temp\\ipykernel_22764\\1359943296.py:77: FutureWarning: The frame.append method is deprecated and will be removed from pandas in a future version. Use pandas.concat instead.\n",
      "  forecast_df = forecast_df.append({\n",
      "C:\\Users\\sohan\\anaconda3\\lib\\site-packages\\keras\\src\\layers\\rnn\\rnn.py:205: UserWarning: Do not pass an `input_shape`/`input_dim` argument to a layer. When using Sequential models, prefer using an `Input(shape)` object as the first layer in the model instead.\n",
      "  super().__init__(**kwargs)\n"
     ]
    },
    {
     "name": "stdout",
     "output_type": "stream",
     "text": [
      "\u001b[1m1/1\u001b[0m \u001b[32m━━━━━━━━━━━━━━━━━━━━\u001b[0m\u001b[37m\u001b[0m \u001b[1m0s\u001b[0m 75ms/step\n",
      "MAPE: 4.517065618456025\n",
      "Evaluating models for Material ID: 7413\n",
      "Evaluating SimpleRNN model for Material ID: 7413\n"
     ]
    },
    {
     "name": "stderr",
     "output_type": "stream",
     "text": [
      "C:\\Users\\sohan\\AppData\\Local\\Temp\\ipykernel_22764\\1359943296.py:77: FutureWarning: The frame.append method is deprecated and will be removed from pandas in a future version. Use pandas.concat instead.\n",
      "  forecast_df = forecast_df.append({\n",
      "C:\\Users\\sohan\\anaconda3\\lib\\site-packages\\keras\\src\\layers\\rnn\\rnn.py:205: UserWarning: Do not pass an `input_shape`/`input_dim` argument to a layer. When using Sequential models, prefer using an `Input(shape)` object as the first layer in the model instead.\n",
      "  super().__init__(**kwargs)\n"
     ]
    },
    {
     "name": "stdout",
     "output_type": "stream",
     "text": [
      "\u001b[1m1/1\u001b[0m \u001b[32m━━━━━━━━━━━━━━━━━━━━\u001b[0m\u001b[37m\u001b[0m \u001b[1m0s\u001b[0m 67ms/step\n",
      "MAPE: 6.144945549242424\n",
      "Evaluating GRU model for Material ID: 7413\n"
     ]
    },
    {
     "name": "stderr",
     "output_type": "stream",
     "text": [
      "C:\\Users\\sohan\\AppData\\Local\\Temp\\ipykernel_22764\\1359943296.py:77: FutureWarning: The frame.append method is deprecated and will be removed from pandas in a future version. Use pandas.concat instead.\n",
      "  forecast_df = forecast_df.append({\n",
      "C:\\Users\\sohan\\anaconda3\\lib\\site-packages\\keras\\src\\layers\\rnn\\rnn.py:205: UserWarning: Do not pass an `input_shape`/`input_dim` argument to a layer. When using Sequential models, prefer using an `Input(shape)` object as the first layer in the model instead.\n",
      "  super().__init__(**kwargs)\n"
     ]
    },
    {
     "name": "stdout",
     "output_type": "stream",
     "text": [
      "\u001b[1m1/1\u001b[0m \u001b[32m━━━━━━━━━━━━━━━━━━━━\u001b[0m\u001b[37m\u001b[0m \u001b[1m0s\u001b[0m 325ms/step\n",
      "MAPE: 13.10465263597893\n",
      "Evaluating LSTM model for Material ID: 7413\n"
     ]
    },
    {
     "name": "stderr",
     "output_type": "stream",
     "text": [
      "C:\\Users\\sohan\\AppData\\Local\\Temp\\ipykernel_22764\\1359943296.py:77: FutureWarning: The frame.append method is deprecated and will be removed from pandas in a future version. Use pandas.concat instead.\n",
      "  forecast_df = forecast_df.append({\n",
      "C:\\Users\\sohan\\anaconda3\\lib\\site-packages\\keras\\src\\layers\\rnn\\rnn.py:205: UserWarning: Do not pass an `input_shape`/`input_dim` argument to a layer. When using Sequential models, prefer using an `Input(shape)` object as the first layer in the model instead.\n",
      "  super().__init__(**kwargs)\n"
     ]
    },
    {
     "name": "stdout",
     "output_type": "stream",
     "text": [
      "\u001b[1m1/1\u001b[0m \u001b[32m━━━━━━━━━━━━━━━━━━━━\u001b[0m\u001b[37m\u001b[0m \u001b[1m0s\u001b[0m 75ms/step\n",
      "MAPE: 15.787419405850498\n",
      "Evaluating models for Material ID: 11101\n",
      "Evaluating SimpleRNN model for Material ID: 11101\n"
     ]
    },
    {
     "name": "stderr",
     "output_type": "stream",
     "text": [
      "C:\\Users\\sohan\\AppData\\Local\\Temp\\ipykernel_22764\\1359943296.py:77: FutureWarning: The frame.append method is deprecated and will be removed from pandas in a future version. Use pandas.concat instead.\n",
      "  forecast_df = forecast_df.append({\n",
      "C:\\Users\\sohan\\anaconda3\\lib\\site-packages\\keras\\src\\layers\\rnn\\rnn.py:205: UserWarning: Do not pass an `input_shape`/`input_dim` argument to a layer. When using Sequential models, prefer using an `Input(shape)` object as the first layer in the model instead.\n",
      "  super().__init__(**kwargs)\n"
     ]
    },
    {
     "name": "stdout",
     "output_type": "stream",
     "text": [
      "\u001b[1m1/1\u001b[0m \u001b[32m━━━━━━━━━━━━━━━━━━━━\u001b[0m\u001b[37m\u001b[0m \u001b[1m0s\u001b[0m 65ms/step\n",
      "MAPE: 47.97746340433757\n",
      "Evaluating GRU model for Material ID: 11101\n"
     ]
    },
    {
     "name": "stderr",
     "output_type": "stream",
     "text": [
      "C:\\Users\\sohan\\AppData\\Local\\Temp\\ipykernel_22764\\1359943296.py:77: FutureWarning: The frame.append method is deprecated and will be removed from pandas in a future version. Use pandas.concat instead.\n",
      "  forecast_df = forecast_df.append({\n",
      "C:\\Users\\sohan\\anaconda3\\lib\\site-packages\\keras\\src\\layers\\rnn\\rnn.py:205: UserWarning: Do not pass an `input_shape`/`input_dim` argument to a layer. When using Sequential models, prefer using an `Input(shape)` object as the first layer in the model instead.\n",
      "  super().__init__(**kwargs)\n"
     ]
    },
    {
     "name": "stdout",
     "output_type": "stream",
     "text": [
      "\u001b[1m1/1\u001b[0m \u001b[32m━━━━━━━━━━━━━━━━━━━━\u001b[0m\u001b[37m\u001b[0m \u001b[1m0s\u001b[0m 87ms/step\n",
      "MAPE: 22.927498817443848\n",
      "Evaluating LSTM model for Material ID: 11101\n"
     ]
    },
    {
     "name": "stderr",
     "output_type": "stream",
     "text": [
      "C:\\Users\\sohan\\AppData\\Local\\Temp\\ipykernel_22764\\1359943296.py:77: FutureWarning: The frame.append method is deprecated and will be removed from pandas in a future version. Use pandas.concat instead.\n",
      "  forecast_df = forecast_df.append({\n",
      "C:\\Users\\sohan\\anaconda3\\lib\\site-packages\\keras\\src\\layers\\rnn\\rnn.py:205: UserWarning: Do not pass an `input_shape`/`input_dim` argument to a layer. When using Sequential models, prefer using an `Input(shape)` object as the first layer in the model instead.\n",
      "  super().__init__(**kwargs)\n"
     ]
    },
    {
     "name": "stdout",
     "output_type": "stream",
     "text": [
      "\u001b[1m1/1\u001b[0m \u001b[32m━━━━━━━━━━━━━━━━━━━━\u001b[0m\u001b[37m\u001b[0m \u001b[1m0s\u001b[0m 75ms/step\n",
      "MAPE: 4.881183306376139\n",
      "Evaluating models for Material ID: 14426\n",
      "Evaluating SimpleRNN model for Material ID: 14426\n"
     ]
    },
    {
     "name": "stderr",
     "output_type": "stream",
     "text": [
      "C:\\Users\\sohan\\AppData\\Local\\Temp\\ipykernel_22764\\1359943296.py:77: FutureWarning: The frame.append method is deprecated and will be removed from pandas in a future version. Use pandas.concat instead.\n",
      "  forecast_df = forecast_df.append({\n",
      "C:\\Users\\sohan\\anaconda3\\lib\\site-packages\\keras\\src\\layers\\rnn\\rnn.py:205: UserWarning: Do not pass an `input_shape`/`input_dim` argument to a layer. When using Sequential models, prefer using an `Input(shape)` object as the first layer in the model instead.\n",
      "  super().__init__(**kwargs)\n"
     ]
    },
    {
     "name": "stdout",
     "output_type": "stream",
     "text": [
      "\u001b[1m1/1\u001b[0m \u001b[32m━━━━━━━━━━━━━━━━━━━━\u001b[0m\u001b[37m\u001b[0m \u001b[1m0s\u001b[0m 67ms/step\n",
      "MAPE: 29.658050537109375\n",
      "Evaluating GRU model for Material ID: 14426\n"
     ]
    },
    {
     "name": "stderr",
     "output_type": "stream",
     "text": [
      "C:\\Users\\sohan\\AppData\\Local\\Temp\\ipykernel_22764\\1359943296.py:77: FutureWarning: The frame.append method is deprecated and will be removed from pandas in a future version. Use pandas.concat instead.\n",
      "  forecast_df = forecast_df.append({\n",
      "C:\\Users\\sohan\\anaconda3\\lib\\site-packages\\keras\\src\\layers\\rnn\\rnn.py:205: UserWarning: Do not pass an `input_shape`/`input_dim` argument to a layer. When using Sequential models, prefer using an `Input(shape)` object as the first layer in the model instead.\n",
      "  super().__init__(**kwargs)\n"
     ]
    },
    {
     "name": "stdout",
     "output_type": "stream",
     "text": [
      "\u001b[1m1/1\u001b[0m \u001b[32m━━━━━━━━━━━━━━━━━━━━\u001b[0m\u001b[37m\u001b[0m \u001b[1m0s\u001b[0m 90ms/step\n"
     ]
    },
    {
     "name": "stderr",
     "output_type": "stream",
     "text": [
      "C:\\Users\\sohan\\AppData\\Local\\Temp\\ipykernel_22764\\1359943296.py:77: FutureWarning: The frame.append method is deprecated and will be removed from pandas in a future version. Use pandas.concat instead.\n",
      "  forecast_df = forecast_df.append({\n",
      "C:\\Users\\sohan\\anaconda3\\lib\\site-packages\\keras\\src\\layers\\rnn\\rnn.py:205: UserWarning: Do not pass an `input_shape`/`input_dim` argument to a layer. When using Sequential models, prefer using an `Input(shape)` object as the first layer in the model instead.\n",
      "  super().__init__(**kwargs)\n"
     ]
    },
    {
     "name": "stdout",
     "output_type": "stream",
     "text": [
      "MAPE: 28.10589599609375\n",
      "Evaluating LSTM model for Material ID: 14426\n",
      "\u001b[1m1/1\u001b[0m \u001b[32m━━━━━━━━━━━━━━━━━━━━\u001b[0m\u001b[37m\u001b[0m \u001b[1m0s\u001b[0m 76ms/step\n",
      "MAPE: 16.702171325683594\n",
      "Evaluating models for Material ID: 15905\n",
      "Evaluating SimpleRNN model for Material ID: 15905\n"
     ]
    },
    {
     "name": "stderr",
     "output_type": "stream",
     "text": [
      "C:\\Users\\sohan\\AppData\\Local\\Temp\\ipykernel_22764\\1359943296.py:77: FutureWarning: The frame.append method is deprecated and will be removed from pandas in a future version. Use pandas.concat instead.\n",
      "  forecast_df = forecast_df.append({\n",
      "C:\\Users\\sohan\\anaconda3\\lib\\site-packages\\keras\\src\\layers\\rnn\\rnn.py:205: UserWarning: Do not pass an `input_shape`/`input_dim` argument to a layer. When using Sequential models, prefer using an `Input(shape)` object as the first layer in the model instead.\n",
      "  super().__init__(**kwargs)\n"
     ]
    },
    {
     "name": "stdout",
     "output_type": "stream",
     "text": [
      "\u001b[1m1/1\u001b[0m \u001b[32m━━━━━━━━━━━━━━━━━━━━\u001b[0m\u001b[37m\u001b[0m \u001b[1m0s\u001b[0m 66ms/step\n",
      "MAPE: 53.56637477874756\n",
      "Evaluating GRU model for Material ID: 15905\n"
     ]
    },
    {
     "name": "stderr",
     "output_type": "stream",
     "text": [
      "C:\\Users\\sohan\\AppData\\Local\\Temp\\ipykernel_22764\\1359943296.py:77: FutureWarning: The frame.append method is deprecated and will be removed from pandas in a future version. Use pandas.concat instead.\n",
      "  forecast_df = forecast_df.append({\n",
      "C:\\Users\\sohan\\anaconda3\\lib\\site-packages\\keras\\src\\layers\\rnn\\rnn.py:205: UserWarning: Do not pass an `input_shape`/`input_dim` argument to a layer. When using Sequential models, prefer using an `Input(shape)` object as the first layer in the model instead.\n",
      "  super().__init__(**kwargs)\n"
     ]
    },
    {
     "name": "stdout",
     "output_type": "stream",
     "text": [
      "\u001b[1m1/1\u001b[0m \u001b[32m━━━━━━━━━━━━━━━━━━━━\u001b[0m\u001b[37m\u001b[0m \u001b[1m0s\u001b[0m 87ms/step\n",
      "MAPE: 34.69045639038086\n",
      "Evaluating LSTM model for Material ID: 15905\n"
     ]
    },
    {
     "name": "stderr",
     "output_type": "stream",
     "text": [
      "C:\\Users\\sohan\\AppData\\Local\\Temp\\ipykernel_22764\\1359943296.py:77: FutureWarning: The frame.append method is deprecated and will be removed from pandas in a future version. Use pandas.concat instead.\n",
      "  forecast_df = forecast_df.append({\n",
      "C:\\Users\\sohan\\anaconda3\\lib\\site-packages\\keras\\src\\layers\\rnn\\rnn.py:205: UserWarning: Do not pass an `input_shape`/`input_dim` argument to a layer. When using Sequential models, prefer using an `Input(shape)` object as the first layer in the model instead.\n",
      "  super().__init__(**kwargs)\n"
     ]
    },
    {
     "name": "stdout",
     "output_type": "stream",
     "text": [
      "\u001b[1m1/1\u001b[0m \u001b[32m━━━━━━━━━━━━━━━━━━━━\u001b[0m\u001b[37m\u001b[0m \u001b[1m0s\u001b[0m 266ms/step\n",
      "MAPE: 38.48278522491455\n",
      "Evaluating models for Material ID: 18176\n",
      "Evaluating SimpleRNN model for Material ID: 18176\n"
     ]
    },
    {
     "name": "stderr",
     "output_type": "stream",
     "text": [
      "C:\\Users\\sohan\\AppData\\Local\\Temp\\ipykernel_22764\\1359943296.py:77: FutureWarning: The frame.append method is deprecated and will be removed from pandas in a future version. Use pandas.concat instead.\n",
      "  forecast_df = forecast_df.append({\n",
      "C:\\Users\\sohan\\anaconda3\\lib\\site-packages\\keras\\src\\layers\\rnn\\rnn.py:205: UserWarning: Do not pass an `input_shape`/`input_dim` argument to a layer. When using Sequential models, prefer using an `Input(shape)` object as the first layer in the model instead.\n",
      "  super().__init__(**kwargs)\n"
     ]
    },
    {
     "name": "stdout",
     "output_type": "stream",
     "text": [
      "\u001b[1m1/1\u001b[0m \u001b[32m━━━━━━━━━━━━━━━━━━━━\u001b[0m\u001b[37m\u001b[0m \u001b[1m0s\u001b[0m 67ms/step\n",
      "MAPE: 58.02459418773651\n",
      "Evaluating GRU model for Material ID: 18176\n"
     ]
    },
    {
     "name": "stderr",
     "output_type": "stream",
     "text": [
      "C:\\Users\\sohan\\AppData\\Local\\Temp\\ipykernel_22764\\1359943296.py:77: FutureWarning: The frame.append method is deprecated and will be removed from pandas in a future version. Use pandas.concat instead.\n",
      "  forecast_df = forecast_df.append({\n",
      "C:\\Users\\sohan\\anaconda3\\lib\\site-packages\\keras\\src\\layers\\rnn\\rnn.py:205: UserWarning: Do not pass an `input_shape`/`input_dim` argument to a layer. When using Sequential models, prefer using an `Input(shape)` object as the first layer in the model instead.\n",
      "  super().__init__(**kwargs)\n"
     ]
    },
    {
     "name": "stdout",
     "output_type": "stream",
     "text": [
      "\u001b[1m1/1\u001b[0m \u001b[32m━━━━━━━━━━━━━━━━━━━━\u001b[0m\u001b[37m\u001b[0m \u001b[1m0s\u001b[0m 88ms/step\n",
      "MAPE: 52.447906136512756\n",
      "Evaluating LSTM model for Material ID: 18176\n"
     ]
    },
    {
     "name": "stderr",
     "output_type": "stream",
     "text": [
      "C:\\Users\\sohan\\AppData\\Local\\Temp\\ipykernel_22764\\1359943296.py:77: FutureWarning: The frame.append method is deprecated and will be removed from pandas in a future version. Use pandas.concat instead.\n",
      "  forecast_df = forecast_df.append({\n",
      "C:\\Users\\sohan\\anaconda3\\lib\\site-packages\\keras\\src\\layers\\rnn\\rnn.py:205: UserWarning: Do not pass an `input_shape`/`input_dim` argument to a layer. When using Sequential models, prefer using an `Input(shape)` object as the first layer in the model instead.\n",
      "  super().__init__(**kwargs)\n"
     ]
    },
    {
     "name": "stdout",
     "output_type": "stream",
     "text": [
      "\u001b[1m1/1\u001b[0m \u001b[32m━━━━━━━━━━━━━━━━━━━━\u001b[0m\u001b[37m\u001b[0m \u001b[1m0s\u001b[0m 82ms/step\n",
      "MAPE: 51.08775496482849\n",
      "Evaluating models for Material ID: 18997\n",
      "Evaluating SimpleRNN model for Material ID: 18997\n"
     ]
    },
    {
     "name": "stderr",
     "output_type": "stream",
     "text": [
      "C:\\Users\\sohan\\AppData\\Local\\Temp\\ipykernel_22764\\1359943296.py:77: FutureWarning: The frame.append method is deprecated and will be removed from pandas in a future version. Use pandas.concat instead.\n",
      "  forecast_df = forecast_df.append({\n",
      "C:\\Users\\sohan\\anaconda3\\lib\\site-packages\\keras\\src\\layers\\rnn\\rnn.py:205: UserWarning: Do not pass an `input_shape`/`input_dim` argument to a layer. When using Sequential models, prefer using an `Input(shape)` object as the first layer in the model instead.\n",
      "  super().__init__(**kwargs)\n"
     ]
    },
    {
     "name": "stdout",
     "output_type": "stream",
     "text": [
      "\u001b[1m1/1\u001b[0m \u001b[32m━━━━━━━━━━━━━━━━━━━━\u001b[0m\u001b[37m\u001b[0m \u001b[1m0s\u001b[0m 74ms/step\n",
      "MAPE: 47.268720773550186\n",
      "Evaluating GRU model for Material ID: 18997\n"
     ]
    },
    {
     "name": "stderr",
     "output_type": "stream",
     "text": [
      "C:\\Users\\sohan\\AppData\\Local\\Temp\\ipykernel_22764\\1359943296.py:77: FutureWarning: The frame.append method is deprecated and will be removed from pandas in a future version. Use pandas.concat instead.\n",
      "  forecast_df = forecast_df.append({\n",
      "C:\\Users\\sohan\\anaconda3\\lib\\site-packages\\keras\\src\\layers\\rnn\\rnn.py:205: UserWarning: Do not pass an `input_shape`/`input_dim` argument to a layer. When using Sequential models, prefer using an `Input(shape)` object as the first layer in the model instead.\n",
      "  super().__init__(**kwargs)\n"
     ]
    },
    {
     "name": "stdout",
     "output_type": "stream",
     "text": [
      "\u001b[1m1/1\u001b[0m \u001b[32m━━━━━━━━━━━━━━━━━━━━\u001b[0m\u001b[37m\u001b[0m \u001b[1m0s\u001b[0m 95ms/step\n",
      "MAPE: 42.85921683678261\n",
      "Evaluating LSTM model for Material ID: 18997\n"
     ]
    },
    {
     "name": "stderr",
     "output_type": "stream",
     "text": [
      "C:\\Users\\sohan\\AppData\\Local\\Temp\\ipykernel_22764\\1359943296.py:77: FutureWarning: The frame.append method is deprecated and will be removed from pandas in a future version. Use pandas.concat instead.\n",
      "  forecast_df = forecast_df.append({\n",
      "C:\\Users\\sohan\\anaconda3\\lib\\site-packages\\keras\\src\\layers\\rnn\\rnn.py:205: UserWarning: Do not pass an `input_shape`/`input_dim` argument to a layer. When using Sequential models, prefer using an `Input(shape)` object as the first layer in the model instead.\n",
      "  super().__init__(**kwargs)\n"
     ]
    },
    {
     "name": "stdout",
     "output_type": "stream",
     "text": [
      "\u001b[1m1/1\u001b[0m \u001b[32m━━━━━━━━━━━━━━━━━━━━\u001b[0m\u001b[37m\u001b[0m \u001b[1m0s\u001b[0m 97ms/step\n",
      "MAPE: 39.09851954533504\n",
      "Evaluating models for Material ID: 22297\n",
      "No training or test data available for Material ID: 22297. Skipping evaluation.\n",
      "   Material_Id      Model        MAPE\n",
      "0         1708  SimpleRNN   42.301005\n",
      "1         1708        GRU   37.283421\n",
      "2         1708       LSTM   34.189007\n",
      "3         2425  SimpleRNN   29.390303\n",
      "4         2425        GRU   25.079632\n",
      "5         2425       LSTM   16.181087\n",
      "6         6324  SimpleRNN  106.028080\n",
      "7         6324        GRU  192.876101\n",
      "8         6324       LSTM  216.908956\n",
      "9         6587  SimpleRNN   21.568137\n",
      "10        6587        GRU   25.148488\n",
      "11        6587       LSTM   26.854952\n",
      "12        7385  SimpleRNN   10.530350\n",
      "13        7385        GRU    0.088871\n",
      "14        7385       LSTM    4.517066\n",
      "15        7413  SimpleRNN    6.144946\n",
      "16        7413        GRU   13.104653\n",
      "17        7413       LSTM   15.787419\n",
      "18       11101  SimpleRNN   47.977463\n",
      "19       11101        GRU   22.927499\n",
      "20       11101       LSTM    4.881183\n",
      "21       14426  SimpleRNN   29.658051\n",
      "22       14426        GRU   28.105896\n",
      "23       14426       LSTM   16.702171\n",
      "24       15905  SimpleRNN   53.566375\n",
      "25       15905        GRU   34.690456\n",
      "26       15905       LSTM   38.482785\n",
      "27       18176  SimpleRNN   58.024594\n",
      "28       18176        GRU   52.447906\n",
      "29       18176       LSTM   51.087755\n",
      "30       18997  SimpleRNN   47.268721\n",
      "31       18997        GRU   42.859217\n",
      "32       18997       LSTM   39.098520\n"
     ]
    },
    {
     "name": "stderr",
     "output_type": "stream",
     "text": [
      "C:\\Users\\sohan\\AppData\\Local\\Temp\\ipykernel_22764\\1359943296.py:77: FutureWarning: The frame.append method is deprecated and will be removed from pandas in a future version. Use pandas.concat instead.\n",
      "  forecast_df = forecast_df.append({\n"
     ]
    }
   ],
   "source": [
    "from sklearn.preprocessing import MinMaxScaler\n",
    "from keras.models import Sequential\n",
    "from keras.layers import SimpleRNN, GRU, LSTM, Dense\n",
    "import numpy as np\n",
    "import pandas as pd\n",
    "\n",
    "# Define the evaluate_model function with MAPE\n",
    "def evaluate_model(y_pred, y_actual):\n",
    "    mape = np.mean(np.abs((y_actual - y_pred) / y_actual)) * 100\n",
    "    return mape\n",
    "\n",
    "# Define train and test periods\n",
    "train_start_id = 25\n",
    "train_end_id = 37\n",
    "forecast_time_id = 38\n",
    "\n",
    "# Create an empty DataFrame to store forecasted values\n",
    "forecast_df = pd.DataFrame(columns=['Material_Id', 'Model', 'MAPE'])\n",
    "\n",
    "# Define a function to build and train RNN model\n",
    "def build_and_train_model(X_train, y_train, model_type):\n",
    "    model = Sequential()\n",
    "    if model_type == 'SimpleRNN':\n",
    "        model.add(SimpleRNN(units=64, input_shape=(X_train.shape[1], X_train.shape[2])))\n",
    "    elif model_type == 'GRU':\n",
    "        model.add(GRU(units=64, input_shape=(X_train.shape[1], X_train.shape[2])))\n",
    "    elif model_type == 'LSTM':\n",
    "        model.add(LSTM(units=64, input_shape=(X_train.shape[1], X_train.shape[2])))\n",
    "    model.add(Dense(1))\n",
    "    model.compile(optimizer='adam', loss='mse')\n",
    "    model.fit(X_train, y_train, epochs=100, batch_size=32, verbose=0)\n",
    "    return model\n",
    "\n",
    "# Iterate over each material id\n",
    "for material_id in df['Material_Id'].unique():\n",
    "    print(f\"Evaluating models for Material ID: {material_id}\")\n",
    "    \n",
    "    # Filter data for the current material id\n",
    "    material_data = df[df['Material_Id'] == material_id]\n",
    "    \n",
    "    # Filter training data\n",
    "    train_data = material_data[(material_data['Time id'] >= train_start_id) & (material_data['Time id'] <= train_end_id)]\n",
    "    test_data = material_data[material_data['Time id'] == forecast_time_id]\n",
    "\n",
    "    # Skip evaluation if there is no training or test data\n",
    "    if train_data.empty or test_data.empty:\n",
    "        print(f\"No training or test data available for Material ID: {material_id}. Skipping evaluation.\")\n",
    "        continue\n",
    "\n",
    "    # Scale the data\n",
    "    scaler = MinMaxScaler()\n",
    "    train_scaled = scaler.fit_transform(train_data[['Quantity']])\n",
    "\n",
    "    # Reshape input to be [samples, time steps, features]\n",
    "    X_train = np.reshape(train_scaled, (train_scaled.shape[0], 1, 1))\n",
    "    y_train = train_scaled[:, 0]  # Target variable is Quantity\n",
    "\n",
    "    # Evaluate SimpleRNN, GRU, and LSTM models\n",
    "    for model_type in ['SimpleRNN', 'GRU', 'LSTM']:\n",
    "        print(f\"Evaluating {model_type} model for Material ID: {material_id}\")\n",
    "\n",
    "        # Build and train the model\n",
    "        model = build_and_train_model(X_train, y_train, model_type)\n",
    "\n",
    "        # Forecast for the next time id (Time id 37)\n",
    "        forecast_scaled = model.predict(X_train[-1:])  # Use the last time step of the training data for forecasting\n",
    "        forecast = scaler.inverse_transform(forecast_scaled.reshape(-1, 1)).flatten()[0]\n",
    "\n",
    "        # Get actual Quantity value for Time id 37\n",
    "        actual_quantity = test_data['Quantity'].values[0]\n",
    "\n",
    "        # Evaluate the model for the current Material Id\n",
    "        mape = evaluate_model(np.array([forecast]), np.array([actual_quantity]))\n",
    "        print(f\"MAPE: {mape}\")\n",
    "\n",
    "        # Append to forecast DataFrame\n",
    "        forecast_df = forecast_df.append({\n",
    "            'Material_Id': material_id,\n",
    "            'Model': model_type,\n",
    "            'MAPE': mape\n",
    "        }, ignore_index=True)\n",
    "\n",
    "# Display the forecast DataFrame with MAPE values\n",
    "print(forecast_df)\n"
   ]
  },
  {
   "cell_type": "code",
   "execution_count": null,
   "id": "a07ba3b0",
   "metadata": {},
   "outputs": [],
   "source": []
  },
  {
   "cell_type": "code",
   "execution_count": 11,
   "id": "66c0a1df",
   "metadata": {},
   "outputs": [
    {
     "name": "stdout",
     "output_type": "stream",
     "text": [
      "Overall MAPE for each model type:\n",
      "       Model       MAPE\n",
      "0        GRU  43.146558\n",
      "1       LSTM  42.244627\n",
      "2  SimpleRNN  41.132548\n"
     ]
    }
   ],
   "source": [
    "# Calculate the overall MAPE for each model type\n",
    "overall_mape = forecast_df.groupby('Model')['MAPE'].mean().reset_index()\n",
    "\n",
    "# Print the overall MAPE for each model type\n",
    "print(\"Overall MAPE for each model type:\")\n",
    "print(overall_mape)"
   ]
  },
  {
   "cell_type": "code",
   "execution_count": null,
   "id": "e59d148c",
   "metadata": {},
   "outputs": [],
   "source": []
  },
  {
   "cell_type": "code",
   "execution_count": null,
   "id": "8c6225be",
   "metadata": {},
   "outputs": [],
   "source": []
  },
  {
   "cell_type": "code",
   "execution_count": null,
   "id": "42a28c92",
   "metadata": {},
   "outputs": [],
   "source": []
  }
 ],
 "metadata": {
  "kernelspec": {
   "display_name": "Python 3 (ipykernel)",
   "language": "python",
   "name": "python3"
  },
  "language_info": {
   "codemirror_mode": {
    "name": "ipython",
    "version": 3
   },
   "file_extension": ".py",
   "mimetype": "text/x-python",
   "name": "python",
   "nbconvert_exporter": "python",
   "pygments_lexer": "ipython3",
   "version": "3.10.9"
  }
 },
 "nbformat": 4,
 "nbformat_minor": 5
}
